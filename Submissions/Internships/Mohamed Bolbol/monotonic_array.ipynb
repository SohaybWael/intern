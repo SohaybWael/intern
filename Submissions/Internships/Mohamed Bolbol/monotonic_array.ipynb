{
 "cells": [
  {
   "cell_type": "markdown",
   "id": "2f7fd661",
   "metadata": {
    "id": "2f7fd661"
   },
   "source": [
    "<center>\n",
    "    <H1>\n",
    "        Monotonic Array\n",
    "    </H1>\n",
    "</center>\n",
    "\n",
    "<hr style=\"height:2px\">\n",
    "\n",
    "<center>\n",
    "    <H3>\n",
    "        Problem\n",
    "    </H3>\n",
    "</center>\n",
    "\n",
    "<BR>\n",
    "<p style=\"font-weight: bold; text-align: center\">\n",
    "Write a function that takes in an array of integers and returns <u>a boolean representing whether the array is monotonic</u>.\n",
    "</p>\n",
    "<BR>\n",
    "\n",
    "An array is said to be monotonic if its elements, from left to right, are entirely non-increasing or entirely non-decreasing.\n",
    "\n",
    "Non-increasing elements aren't necessarily exclusively decreasing; they simply don't increase. Similarly, Non-decreasing elements aren't necessarily exclusively increasing; they simply don't decrease.\n",
    "\n",
    "Note that empty arrays and arrays of one element are monotonic.\n",
    "\n",
    "<hr style=\"height:2px\">\n",
    "\n",
    "<center>\n",
    "    <H3>\n",
    "        Sample Inputs & Outputs\n",
    "    </H3>\n",
    "</center>\n",
    "\n",
    "Sample input(s) and output(s) are given below. Note that the examples below are not exhaustive and that we will try your solution on other examples that are held back for verification later. Do try to account for as many cases as you can. Good Luck!\n",
    "\n",
    "#### Example 1\n",
    "```\n",
    "Input: array = [-1, -5, -10, -1100, -1100, -1101, -1102, -9001]\n",
    "Output: True\n",
    "```\n",
    "\n",
    "<hr style=\"height:2px\">"
   ]
  },
  {
   "cell_type": "markdown",
   "id": "c5a66a92",
   "metadata": {
    "id": "c5a66a92"
   },
   "source": [
    "Please fill in the function below, then try your solution on the examples given at the bottom of this notebook.\n",
    "\n",
    "**Do NOT import or use any external libraries. AVOID `import` statements in your solution (e.g. `import numpy as np`).\n",
    "Use only base Python functions and pre-loaded libraries.**\n",
    "\n",
    "*You are free to add your own helper functions to be called by the function below.*\n",
    "\n",
    "Examples of functions/methods that you may use:\n",
    "   - min()\n",
    "   - max()\n",
    "   - len()\n",
    "   - type()\n",
    "   - range()\n",
    "   - reversed()\n",
    "   - list.sort()\n",
    "   - list.append()\n",
    "   - list.extend()\n",
    "   - list.pop()\n",
    "   - list.remove()"
   ]
  },
  {
   "cell_type": "code",
   "execution_count": null,
   "id": "6d291f34",
   "metadata": {
    "id": "6d291f34"
   },
   "outputs": [],
   "source": [
    "\n"
   ]
  },
  {
   "cell_type": "code",
   "execution_count": 55,
   "id": "oRIiq7wDRbhA",
   "metadata": {
    "id": "oRIiq7wDRbhA"
   },
   "outputs": [],
   "source": [
    "def isMonotonic(array):\n",
    "    n = len(array)\n",
    "    if n <= 1:\n",
    "        return True \n",
    "\n",
    "    increasing = decreasing = True\n",
    "\n",
    "    for i in range(1, n):\n",
    "        if array[i] > array[i - 1]:\n",
    "            decreasing = False\n",
    "        elif array[i] < array[i - 1]:\n",
    "            increasing = False\n",
    "\n",
    "    return increasing or decreasing\n",
    "\n",
    "\n",
    "            \n",
    "\n"
   ]
  },
  {
   "cell_type": "code",
   "execution_count": 56,
   "id": "c5651741",
   "metadata": {
    "colab": {
     "base_uri": "https://localhost:8080/"
    },
    "executionInfo": {
     "elapsed": 320,
     "status": "ok",
     "timestamp": 1678699267777,
     "user": {
      "displayName": "Sohaib Wael",
      "userId": "06436269751343587339"
     },
     "user_tz": -120
    },
    "id": "c5651741",
    "outputId": "857a6519-53a8-45ea-85ad-3747c886c0c5",
    "scrolled": true
   },
   "outputs": [
    {
     "name": "stdout",
     "output_type": "stream",
     "text": [
      "example1 : expected true\n",
      "True\n",
      "example2 : expected false , to test logic of function \n",
      "False\n"
     ]
    }
   ],
   "source": [
    "print (\"example1 : expected true\")\n",
    "print(isMonotonic([-1, -5, -10, -1100, -1100, -1101, -1102, -9001]))  # Expected: True\n",
    "\n",
    "\n",
    "print (\"example2 : expected false , to test logic of function \")\n",
    "test  = [1, 4, 1, 1, 88, 9]\n",
    "\n",
    "print (isMonotonic(test) )"
   ]
  },
  {
   "cell_type": "code",
   "execution_count": 57,
   "id": "da44d956",
   "metadata": {
    "colab": {
     "base_uri": "https://localhost:8080/"
    },
    "executionInfo": {
     "elapsed": 564,
     "status": "ok",
     "timestamp": 1678699275834,
     "user": {
      "displayName": "Sohaib Wael",
      "userId": "06436269751343587339"
     },
     "user_tz": -120
    },
    "id": "da44d956",
    "outputId": "064184c2-b8a7-48f9-b009-0dfe7a02ce20"
   },
   "outputs": [
    {
     "data": {
      "text/plain": [
       "True"
      ]
     },
     "execution_count": 57,
     "metadata": {},
     "output_type": "execute_result"
    }
   ],
   "source": [
    "isMonotonic([1,2,2,3,6,15,15,15,15,89]) # Expected: True"
   ]
  },
  {
   "cell_type": "code",
   "execution_count": 58,
   "id": "35dbaff3",
   "metadata": {
    "colab": {
     "base_uri": "https://localhost:8080/"
    },
    "executionInfo": {
     "elapsed": 3,
     "status": "ok",
     "timestamp": 1678699276379,
     "user": {
      "displayName": "Sohaib Wael",
      "userId": "06436269751343587339"
     },
     "user_tz": -120
    },
    "id": "35dbaff3",
    "outputId": "5e3a476c-4f28-40de-e8c0-62dbf1f66e98"
   },
   "outputs": [
    {
     "data": {
      "text/plain": [
       "False"
      ]
     },
     "execution_count": 58,
     "metadata": {},
     "output_type": "execute_result"
    }
   ],
   "source": [
    "isMonotonic([-8, -100, -101, -99, -500])  # Expected: False\n"
   ]
  },
  {
   "cell_type": "code",
   "execution_count": 59,
   "id": "3585d516",
   "metadata": {
    "colab": {
     "base_uri": "https://localhost:8080/"
    },
    "executionInfo": {
     "elapsed": 2,
     "status": "ok",
     "timestamp": 1678699277089,
     "user": {
      "displayName": "Sohaib Wael",
      "userId": "06436269751343587339"
     },
     "user_tz": -120
    },
    "id": "3585d516",
    "outputId": "46038435-ac8a-492f-ba5e-9ee04b8c6a92"
   },
   "outputs": [
    {
     "data": {
      "text/plain": [
       "True"
      ]
     },
     "execution_count": 59,
     "metadata": {},
     "output_type": "execute_result"
    }
   ],
   "source": [
    "isMonotonic([7,7,7,7,7,7,7])  # Expected: True\n"
   ]
  },
  {
   "cell_type": "code",
   "execution_count": null,
   "id": "b05247fa",
   "metadata": {
    "id": "b05247fa"
   },
   "outputs": [],
   "source": []
  },
  {
   "cell_type": "code",
   "execution_count": null,
   "id": "5516b80f",
   "metadata": {},
   "outputs": [],
   "source": []
  }
 ],
 "metadata": {
  "colab": {
   "provenance": []
  },
  "kernelspec": {
   "display_name": "Python 3 (ipykernel)",
   "language": "python",
   "name": "python3"
  },
  "language_info": {
   "codemirror_mode": {
    "name": "ipython",
    "version": 3
   },
   "file_extension": ".py",
   "mimetype": "text/x-python",
   "name": "python",
   "nbconvert_exporter": "python",
   "pygments_lexer": "ipython3",
   "version": "3.8.16"
  }
 },
 "nbformat": 4,
 "nbformat_minor": 5
}
