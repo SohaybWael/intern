{
 "cells": [
  {
   "cell_type": "markdown",
   "id": "2f7fd661",
   "metadata": {
    "id": "2f7fd661"
   },
   "source": [
    "<center>\n",
    "    <H1>\n",
    "        Perfect Squares\n",
    "    </H1>\n",
    "</center>\n",
    "\n",
    "<hr style=\"height:2px\">\n",
    "\n",
    "<center>\n",
    "    <H3>\n",
    "        Problem\n",
    "    </H3>\n",
    "</center>\n",
    "\n",
    "<BR>\n",
    "<p style=\"font-weight: bold; text-align: center\">\n",
    "Write a function that takes integer <code>n</code> and returns <u>the least number of perfect square numbers that sum to <code>n</code></u>.\n",
    "</p>\n",
    "<BR>\n",
    "\n",
    "A perfect square is an integer that is the square of an integer; in other words, it is the product of some integer with itself. For example, `1`, `4`, `9`, and `16` are perfect squares while `3` and `11` are not.\n",
    "\n",
    "<hr style=\"height:2px\">\n",
    "\n",
    "<center>\n",
    "    <H3>\n",
    "        Sample Inputs & Outputs\n",
    "    </H3>\n",
    "</center>\n",
    "\n",
    "Sample input(s) and output(s) are given below. Note that the examples below are not exhaustive and that we will try your solution on other examples that are held back for verification later. Do try to account for as many cases as you can. Good Luck!\n",
    "\n",
    "#### Example 1\n",
    "```\n",
    "Input: n = 12\n",
    "Output: 3\n",
    "Explanation: 12 = 4 + 4 + 4.\n",
    "```\n",
    "\n",
    "#### Example 2\n",
    "```\n",
    "Input: n = 13\n",
    "Output: 2\n",
    "Explanation: 13 = 4 + 9.\n",
    "```\n",
    "\n",
    "#### Constraints:\n",
    "- `1 <= n <= 10^4`\n",
    "\n",
    "<hr style=\"height:2px\">"
   ]
  },
  {
   "cell_type": "markdown",
   "id": "252f43ec",
   "metadata": {
    "id": "252f43ec"
   },
   "source": [
    "Please fill in the function below, then try your solution on the examples given at the bottom of this notebook.\n",
    "\n",
    "**Do NOT import or use any external libraries. AVOID `import` statements in your solution (e.g. `import numpy as np`).\n",
    "Use only base Python functions and pre-loaded libraries.**\n",
    "\n",
    "*You are free to add your own helper functions to be called by the function below.*\n",
    "\n",
    "Examples of functions/methods that you may use:\n",
    "   - min()\n",
    "   - max()\n",
    "   - len()\n",
    "   - type()\n",
    "   - range()\n",
    "   - reversed()\n",
    "   - list.sort()\n",
    "   - list.append()\n",
    "   - list.extend()\n",
    "   - list.pop()\n",
    "   - list.remove()"
   ]
  },
  {
   "cell_type": "code",
   "execution_count": 33,
   "id": "6d291f34",
   "metadata": {
    "id": "6d291f34"
   },
   "outputs": [],
   "source": [
    "def perfectSquares(n):\n",
    "    if n <= 0:\n",
    "        return 0\n",
    "    \n",
    "    # Initialize a list to store the count of perfect squares for each number\n",
    "    dp = [float('inf')] * (n + 1)\n",
    "    \n",
    "    # Base case: zero requires zero perfect squares\n",
    "    dp[0] = 0\n",
    "    \n",
    "    # Iterate from 1 to n\n",
    "    for i in range(1, n + 1):\n",
    "        # Iterate over perfect squares up to i\n",
    "        j = 1\n",
    "        while j * j <= i:\n",
    "            dp[i] = min(dp[i], dp[i - j * j] + 1)\n",
    "            j += 1\n",
    "    \n",
    "    return dp[n]\n",
    "\n",
    "   "
   ]
  },
  {
   "cell_type": "code",
   "execution_count": 34,
   "id": "c5651741",
   "metadata": {
    "id": "c5651741",
    "outputId": "4cc1cd9b-94f6-4e22-a695-7b80bec787ae"
   },
   "outputs": [
    {
     "data": {
      "text/plain": [
       "3"
      ]
     },
     "execution_count": 34,
     "metadata": {},
     "output_type": "execute_result"
    }
   ],
   "source": [
    "perfectSquares(12)  # Expected: 3  (4 + 4 + 4)"
   ]
  },
  {
   "cell_type": "code",
   "execution_count": 23,
   "id": "e7fe37fb",
   "metadata": {
    "id": "e7fe37fb",
    "outputId": "7dcdbab2-814f-45e1-d81f-1a3dd37b9f17"
   },
   "outputs": [
    {
     "data": {
      "text/plain": [
       "2"
      ]
     },
     "execution_count": 23,
     "metadata": {},
     "output_type": "execute_result"
    }
   ],
   "source": [
    "perfectSquares(13)  # Expected: 2  (4 + 9)"
   ]
  },
  {
   "cell_type": "code",
   "execution_count": 24,
   "id": "2a4de7b8",
   "metadata": {
    "id": "2a4de7b8",
    "outputId": "6abf4298-61b0-4c85-a211-f2ce43044580"
   },
   "outputs": [
    {
     "data": {
      "text/plain": [
       "1"
      ]
     },
     "execution_count": 24,
     "metadata": {},
     "output_type": "execute_result"
    }
   ],
   "source": [
    "perfectSquares(16)  # Expected: 1  (16)"
   ]
  },
  {
   "cell_type": "code",
   "execution_count": 25,
   "id": "beac0ba8",
   "metadata": {
    "id": "beac0ba8",
    "outputId": "bb81d753-2269-4eca-c527-b032a22568bf"
   },
   "outputs": [
    {
     "data": {
      "text/plain": [
       "3"
      ]
     },
     "execution_count": 25,
     "metadata": {},
     "output_type": "execute_result"
    }
   ],
   "source": [
    "perfectSquares(48)  # Expected: 3  (16 + 16 + 16)"
   ]
  },
  {
   "cell_type": "code",
   "execution_count": 26,
   "id": "1fd864b3",
   "metadata": {
    "id": "1fd864b3",
    "outputId": "54aa9b51-351d-49d2-d8a5-ef6772eb754a"
   },
   "outputs": [
    {
     "data": {
      "text/plain": [
       "1"
      ]
     },
     "execution_count": 26,
     "metadata": {},
     "output_type": "execute_result"
    }
   ],
   "source": [
    "perfectSquares(64)  # Expected: 1\n"
   ]
  },
  {
   "cell_type": "code",
   "execution_count": 27,
   "id": "b4e6c15b",
   "metadata": {
    "id": "b4e6c15b",
    "outputId": "7cbde5ad-ffad-41fc-c93f-026a8e2b99a9"
   },
   "outputs": [
    {
     "data": {
      "text/plain": [
       "3"
      ]
     },
     "execution_count": 27,
     "metadata": {},
     "output_type": "execute_result"
    }
   ],
   "source": [
    "perfectSquares(78)  # Expected: 3  // 49 + 25 + 4\n"
   ]
  },
  {
   "cell_type": "code",
   "execution_count": 28,
   "id": "07af0aaa",
   "metadata": {
    "id": "07af0aaa",
    "outputId": "67074c69-3265-4508-bd3a-3df5a9d464e6"
   },
   "outputs": [
    {
     "data": {
      "text/plain": [
       "2"
      ]
     },
     "execution_count": 28,
     "metadata": {},
     "output_type": "execute_result"
    }
   ],
   "source": [
    "perfectSquares(80)  # Expected: 2  // 64 + 16\n"
   ]
  },
  {
   "cell_type": "code",
   "execution_count": 29,
   "id": "948215d2",
   "metadata": {
    "id": "948215d2",
    "outputId": "9715b609-7604-4e5c-9405-22cfcba5ae5a"
   },
   "outputs": [
    {
     "data": {
      "text/plain": [
       "1"
      ]
     },
     "execution_count": 29,
     "metadata": {},
     "output_type": "execute_result"
    }
   ],
   "source": [
    "perfectSquares(121)  # Expected: 1\n"
   ]
  },
  {
   "cell_type": "code",
   "execution_count": 30,
   "id": "4c1e85cc",
   "metadata": {
    "id": "4c1e85cc",
    "outputId": "a4b909cd-f176-4f5e-bdf3-7d5dc9219bf7"
   },
   "outputs": [
    {
     "data": {
      "text/plain": [
       "2"
      ]
     },
     "execution_count": 30,
     "metadata": {},
     "output_type": "execute_result"
    }
   ],
   "source": [
    "perfectSquares(9925)  # Expected: 2  // 95^2 + 30^2\n",
    "\n",
    "\n"
   ]
  },
  {
   "cell_type": "code",
   "execution_count": null,
   "id": "7b88d187",
   "metadata": {
    "id": "7b88d187"
   },
   "outputs": [],
   "source": []
  }
 ],
 "metadata": {
  "colab": {
   "provenance": []
  },
  "kernelspec": {
   "display_name": "Python 3 (ipykernel)",
   "language": "python",
   "name": "python3"
  },
  "language_info": {
   "codemirror_mode": {
    "name": "ipython",
    "version": 3
   },
   "file_extension": ".py",
   "mimetype": "text/x-python",
   "name": "python",
   "nbconvert_exporter": "python",
   "pygments_lexer": "ipython3",
   "version": "3.8.16"
  }
 },
 "nbformat": 4,
 "nbformat_minor": 5
}
