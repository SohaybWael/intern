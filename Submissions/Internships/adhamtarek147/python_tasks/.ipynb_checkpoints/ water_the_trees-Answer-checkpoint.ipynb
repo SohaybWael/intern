{
 "cells": [
  {
   "cell_type": "code",
   "execution_count": 30,
   "id": "47def70a",
   "metadata": {},
   "outputs": [],
   "source": [
    "def minimumDays(array):\n",
    "    array.sort()\n",
    "    dis=x=ans1=ans2=summ=cnt=0\n",
    "    n=len(array)\n",
    "    \n",
    "    for i in range(0,n-1):\n",
    "        dis=array[n-1]-array[i]\n",
    "        \n",
    "        if(dis%2==0):\n",
    "            summ+=dis/2\n",
    "        else:\n",
    "            summ+=dis//2\n",
    "            cnt+=1\n",
    "    \n",
    "    if cnt>summ+1:\n",
    "        ans1=2*cnt-1\n",
    "    elif summ>cnt:\n",
    "        x=(summ-cnt)*2\n",
    "        if(x%3==0):\n",
    "            ans1=x/3*2\n",
    "        elif(x%3==1):\n",
    "            ans1=x//3*2+1\n",
    "        else:\n",
    "            ans1=x//3*2+2\n",
    "        ans1+=cnt*2\n",
    "    else:\n",
    "        ans1=cnt+summ\n",
    "    \n",
    "    summ=0\n",
    "    cnt=1\n",
    "    for i in range(0,n-1):\n",
    "        dis=array[n-1]+array[i]+1\n",
    "        if dis%2==0:\n",
    "            summ+=dis/2\n",
    "        else:\n",
    "            summ+=dis//2\n",
    "            cnt+=1\n",
    "    if cnt>summ+1:\n",
    "        ans2=2*cnt-1\n",
    "    elif summ>cnt:\n",
    "        x=(summ-cnt)*2\n",
    "        if (x%3==0):\n",
    "            ans2=x/3*2\n",
    "        elif x%3==1:\n",
    "            ans2=x//3*2+1\n",
    "        else:\n",
    "            ans2=x//3*2+2\n",
    "        ans2+=cnt*summ\n",
    "    else:\n",
    "        ans2=cnt+summ\n",
    "    \n",
    "    if ans1<ans2:\n",
    "        return ans1\n",
    "    else:\n",
    "        return ans2"
   ]
  },
  {
   "cell_type": "code",
   "execution_count": 31,
   "id": "00e4fff8",
   "metadata": {},
   "outputs": [
    {
     "data": {
      "text/plain": [
       "4.0"
      ]
     },
     "execution_count": 31,
     "metadata": {},
     "output_type": "execute_result"
    }
   ],
   "source": [
    "minimumDays([1, 2, 4])  # Expected: 4"
   ]
  },
  {
   "cell_type": "code",
   "execution_count": 32,
   "id": "a0c19b49",
   "metadata": {},
   "outputs": [
    {
     "data": {
      "text/plain": [
       "3.0"
      ]
     },
     "execution_count": 32,
     "metadata": {},
     "output_type": "execute_result"
    }
   ],
   "source": [
    "minimumDays([4, 4, 3, 5, 5])  # Expected: 3"
   ]
  },
  {
   "cell_type": "code",
   "execution_count": 33,
   "id": "a45ba279",
   "metadata": {},
   "outputs": [
    {
     "data": {
      "text/plain": [
       "16.0"
      ]
     },
     "execution_count": 33,
     "metadata": {},
     "output_type": "execute_result"
    }
   ],
   "source": [
    "minimumDays([2, 5, 4, 8, 3, 7, 4])  # Expected: 16"
   ]
  },
  {
   "cell_type": "code",
   "execution_count": 34,
   "id": "14546216",
   "metadata": {},
   "outputs": [
    {
     "data": {
      "text/plain": [
       "3"
      ]
     },
     "execution_count": 34,
     "metadata": {},
     "output_type": "execute_result"
    }
   ],
   "source": [
    "minimumDays([4,3,1])  # Expected: 3"
   ]
  },
  {
   "cell_type": "code",
   "execution_count": 35,
   "id": "e42ae183",
   "metadata": {},
   "outputs": [
    {
     "data": {
      "text/plain": [
       "4.0"
      ]
     },
     "execution_count": 35,
     "metadata": {},
     "output_type": "execute_result"
    }
   ],
   "source": [
    "minimumDays([5,4,1])  # Expected: 4"
   ]
  },
  {
   "cell_type": "code",
   "execution_count": 36,
   "id": "5278412c",
   "metadata": {},
   "outputs": [
    {
     "data": {
      "text/plain": [
       "4.0"
      ]
     },
     "execution_count": 36,
     "metadata": {},
     "output_type": "execute_result"
    }
   ],
   "source": [
    "minimumDays([6,5,2])  # Expected: 4"
   ]
  },
  {
   "cell_type": "code",
   "execution_count": 37,
   "id": "238f7d66",
   "metadata": {},
   "outputs": [
    {
     "data": {
      "text/plain": [
       "4.0"
      ]
     },
     "execution_count": 37,
     "metadata": {},
     "output_type": "execute_result"
    }
   ],
   "source": [
    "minimumDays([5,2,6])  # Expected: 4"
   ]
  },
  {
   "cell_type": "code",
   "execution_count": 38,
   "id": "28fd2e51",
   "metadata": {},
   "outputs": [
    {
     "data": {
      "text/plain": [
       "8.0"
      ]
     },
     "execution_count": 38,
     "metadata": {},
     "output_type": "execute_result"
    }
   ],
   "source": [
    "minimumDays([8,7,6,4,3])  # Expected: 8"
   ]
  },
  {
   "cell_type": "code",
   "execution_count": null,
   "id": "05d72ef3",
   "metadata": {},
   "outputs": [],
   "source": []
  }
 ],
 "metadata": {
  "kernelspec": {
   "display_name": "Python 3 (ipykernel)",
   "language": "python",
   "name": "python3"
  },
  "language_info": {
   "codemirror_mode": {
    "name": "ipython",
    "version": 3
   },
   "file_extension": ".py",
   "mimetype": "text/x-python",
   "name": "python",
   "nbconvert_exporter": "python",
   "pygments_lexer": "ipython3",
   "version": "3.11.5"
  }
 },
 "nbformat": 4,
 "nbformat_minor": 5
}
