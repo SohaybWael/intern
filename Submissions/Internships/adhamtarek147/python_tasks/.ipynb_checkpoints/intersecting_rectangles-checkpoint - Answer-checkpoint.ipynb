{
 "cells": [
  {
   "cell_type": "markdown",
   "id": "a06311ce",
   "metadata": {
    "id": "a06311ce"
   },
   "source": [
    "<center>\n",
    "    <H1>\n",
    "        Rectangles Intersection\n",
    "    </H1>\n",
    "</center>\n",
    "\n",
    "<hr style=\"height:2px\">\n",
    "\n",
    "<center>\n",
    "    <H3>\n",
    "        Problem\n",
    "    </H3>\n",
    "</center>\n",
    "\n",
    "You're given two rectangles. Each rectangle is represented as the coordinates of two opposing vertices, `[[x1,y1],[x2,y2]]`. Each rectangle has two of its sides parallel to the X-axis and has the other two sides parallel to the Y-axis.\n",
    "\n",
    "<BR>\n",
    "<p style=\"font-weight: bold; text-align: center\">\n",
    "Write a function that returns <u><code>True</code></u> if the two rectangles intersect. Otherwise, return <u><code>False</code></u>.\n",
    "</p>\n",
    "<BR>\n",
    "\n",
    "For two rectangles to be intersecting, there has to be a surface area common between them that is greater than zero. On a related note, two rectangles are NOT considered intersecting if they are merely adjacent and touching side-to-side (because the common surface area between them is zero).\n",
    "\n",
    "<hr style=\"height:2px\">\n",
    "\n",
    "<center>\n",
    "    <H3>\n",
    "        Sample Inputs & Outputs\n",
    "    </H3>\n",
    "</center>\n",
    "\n",
    "Sample input(s) and output(s) are given below. Note that the examples below are not exhaustive and that we will try your solution on other examples that are held back for verification later. Do try to account for as many cases as you can. Good Luck!\n",
    "\n",
    "#### Example 1\n",
    "```\n",
    "Input: rect1 = [[1,2],[3,4]], rect2 = [[2,1],[5,3]]\n",
    "Output: True\n",
    "Explanation: The two rectangles partially intersect\n",
    "```\n",
    "\n",
    "#### Example 2\n",
    "```\n",
    "Input: rect1 = [[3,2],[8,9]], rect2 = [[4,4],[6,7]]\n",
    "Output: True\n",
    "Explanation: One of the two rectangles is entirely inside the other\n",
    "```\n",
    "\n",
    "#### Example 3\n",
    "```\n",
    "Input: rect1 = [[1,2],[3,4]], rect2 = [[11,1],[9,5]]\n",
    "Output: False\n",
    "Explanation: The two rectangles do not intersect\n",
    "```\n",
    "\n",
    "#### Constraints:\n",
    "- `x1`, `y1`, `x2` and `y2` are all integers\n",
    "- Input rectangles are parallel to the X- and Y- axes\n",
    "\n",
    "<hr style=\"height:2px\">"
   ]
  },
  {
   "cell_type": "code",
   "execution_count": null,
   "id": "ca91eb6f",
   "metadata": {},
   "outputs": [],
   "source": []
  },
  {
   "cell_type": "markdown",
   "id": "23c2b7d1",
   "metadata": {
    "id": "23c2b7d1"
   },
   "source": [
    "Please fill in the function below, then try your solution on the examples given at the bottom of this notebook.\n",
    "\n",
    "**Do NOT import or use any external libraries. AVOID `import` statements in your solution (e.g. `import numpy as np`).\n",
    "Use only base Python functions and pre-loaded libraries.**\n",
    "\n",
    "*You are free to add your own helper functions to be called by the function below.*\n",
    "\n",
    "Examples of functions/methods that you may use:\n",
    "   - min()\n",
    "   - max()\n",
    "   - len()\n",
    "   - type()\n",
    "   - range()\n",
    "   - reversed()\n",
    "   - list.sort()\n",
    "   - list.append()\n",
    "   - list.extend()\n",
    "   - list.pop()\n",
    "   - list.remove()"
   ]
  },
  {
   "cell_type": "code",
   "execution_count": 11,
   "id": "XL-ehF-GPyom",
   "metadata": {
    "executionInfo": {
     "elapsed": 19,
     "status": "ok",
     "timestamp": 1697489325132,
     "user": {
      "displayName": "Sohaib Wael",
      "userId": "06436269751343587339"
     },
     "user_tz": -180
    },
    "id": "XL-ehF-GPyom"
   },
   "outputs": [],
   "source": [
    "def intersectingRectangles(rect1, rect2):\n",
    "    [[x1_rect1,y1_rect1],[x2_rect1,y2_rect1]]=rect1\n",
    "    [[x1_rect2,y1_rect2],[x2_rect2,y2_rect2]]=rect2\n",
    "    \n",
    "    if y1_rect2>=y2_rect1 or y1_rect1>=y2_rect2 or x1_rect2>=x2_rect1 or x1_rect1>=x2_rect2:\n",
    "        return False\n",
    "    else:\n",
    "        return True"
   ]
  },
  {
   "cell_type": "code",
   "execution_count": 12,
   "id": "fbca7e08",
   "metadata": {
    "colab": {
     "base_uri": "https://localhost:8080/"
    },
    "executionInfo": {
     "elapsed": 19,
     "status": "ok",
     "timestamp": 1697489325133,
     "user": {
      "displayName": "Sohaib Wael",
      "userId": "06436269751343587339"
     },
     "user_tz": -180
    },
    "id": "fbca7e08",
    "outputId": "02a6aa1a-b010-4ccc-e8e5-e931006a57cf"
   },
   "outputs": [
    {
     "data": {
      "text/plain": [
       "True"
      ]
     },
     "execution_count": 12,
     "metadata": {},
     "output_type": "execute_result"
    }
   ],
   "source": [
    "intersectingRectangles(rect1 = [[1,2],[3,4]], rect2 = [[2,1],[5,3]])  # Expected: True"
   ]
  },
  {
   "cell_type": "code",
   "execution_count": 13,
   "id": "65dbc7c9",
   "metadata": {
    "colab": {
     "base_uri": "https://localhost:8080/"
    },
    "executionInfo": {
     "elapsed": 16,
     "status": "ok",
     "timestamp": 1697489325133,
     "user": {
      "displayName": "Sohaib Wael",
      "userId": "06436269751343587339"
     },
     "user_tz": -180
    },
    "id": "65dbc7c9",
    "outputId": "34141d30-fece-415a-e0bc-8cd7cd87e805"
   },
   "outputs": [
    {
     "data": {
      "text/plain": [
       "True"
      ]
     },
     "execution_count": 13,
     "metadata": {},
     "output_type": "execute_result"
    }
   ],
   "source": [
    "intersectingRectangles(rect1 = [[3,2],[8,9]], rect2 = [[4,4],[6,7]])  # Expected: True"
   ]
  },
  {
   "cell_type": "code",
   "execution_count": 14,
   "id": "88768cf0",
   "metadata": {
    "colab": {
     "base_uri": "https://localhost:8080/"
    },
    "executionInfo": {
     "elapsed": 13,
     "status": "ok",
     "timestamp": 1697489325133,
     "user": {
      "displayName": "Sohaib Wael",
      "userId": "06436269751343587339"
     },
     "user_tz": -180
    },
    "id": "88768cf0",
    "outputId": "25f4387a-123e-4ccb-f0b8-f8d76b91273b"
   },
   "outputs": [
    {
     "data": {
      "text/plain": [
       "False"
      ]
     },
     "execution_count": 14,
     "metadata": {},
     "output_type": "execute_result"
    }
   ],
   "source": [
    "intersectingRectangles(rect1 = [[1,2],[3,4]], rect2 = [[11,1],[9,5]])  # Expected: False"
   ]
  },
  {
   "cell_type": "code",
   "execution_count": 15,
   "id": "ff86f9a7",
   "metadata": {
    "colab": {
     "base_uri": "https://localhost:8080/"
    },
    "executionInfo": {
     "elapsed": 11,
     "status": "ok",
     "timestamp": 1697489325134,
     "user": {
      "displayName": "Sohaib Wael",
      "userId": "06436269751343587339"
     },
     "user_tz": -180
    },
    "id": "ff86f9a7",
    "outputId": "40c8524f-6bb4-485b-faca-a0903b3e49f2"
   },
   "outputs": [
    {
     "data": {
      "text/plain": [
       "True"
      ]
     },
     "execution_count": 15,
     "metadata": {},
     "output_type": "execute_result"
    }
   ],
   "source": [
    "intersectingRectangles(rect1 = [[2,2],[6,7]], rect2 = [[1,3],[7,6]])  # Expected: True"
   ]
  },
  {
   "cell_type": "code",
   "execution_count": 16,
   "id": "6d000b57",
   "metadata": {
    "colab": {
     "base_uri": "https://localhost:8080/"
    },
    "executionInfo": {
     "elapsed": 396,
     "status": "ok",
     "timestamp": 1697489325521,
     "user": {
      "displayName": "Sohaib Wael",
      "userId": "06436269751343587339"
     },
     "user_tz": -180
    },
    "id": "6d000b57",
    "outputId": "7588b7b0-6810-48f6-ebcb-602263ef3902"
   },
   "outputs": [
    {
     "data": {
      "text/plain": [
       "True"
      ]
     },
     "execution_count": 16,
     "metadata": {},
     "output_type": "execute_result"
    }
   ],
   "source": [
    "intersectingRectangles(rect1 = [[6,2],[2,7]], rect2 = [[1,3],[7,6]])  # Expected: True"
   ]
  },
  {
   "cell_type": "code",
   "execution_count": 17,
   "id": "6980f131",
   "metadata": {
    "colab": {
     "base_uri": "https://localhost:8080/"
    },
    "executionInfo": {
     "elapsed": 17,
     "status": "ok",
     "timestamp": 1697489325522,
     "user": {
      "displayName": "Sohaib Wael",
      "userId": "06436269751343587339"
     },
     "user_tz": -180
    },
    "id": "6980f131",
    "outputId": "f662bc0a-9997-4097-a964-6b4f07e27f15"
   },
   "outputs": [
    {
     "data": {
      "text/plain": [
       "True"
      ]
     },
     "execution_count": 17,
     "metadata": {},
     "output_type": "execute_result"
    }
   ],
   "source": [
    "intersectingRectangles(rect1 = [[6,2],[2,7]], rect2 = [[1,1],[8,8]])  # Expected: True"
   ]
  },
  {
   "cell_type": "code",
   "execution_count": 18,
   "id": "406fb36a",
   "metadata": {
    "colab": {
     "base_uri": "https://localhost:8080/"
    },
    "executionInfo": {
     "elapsed": 14,
     "status": "ok",
     "timestamp": 1697489325522,
     "user": {
      "displayName": "Sohaib Wael",
      "userId": "06436269751343587339"
     },
     "user_tz": -180
    },
    "id": "406fb36a",
    "outputId": "0ddb2a48-5c2f-4b39-fc6f-5a8a8e1f1aed"
   },
   "outputs": [
    {
     "data": {
      "text/plain": [
       "False"
      ]
     },
     "execution_count": 18,
     "metadata": {},
     "output_type": "execute_result"
    }
   ],
   "source": [
    "intersectingRectangles(rect1 = [[6,2],[2,7]], rect2 = [[3,3],[5,6]])  # Expected: True"
   ]
  },
  {
   "cell_type": "code",
   "execution_count": 19,
   "id": "26a6f9a3",
   "metadata": {
    "colab": {
     "base_uri": "https://localhost:8080/"
    },
    "executionInfo": {
     "elapsed": 12,
     "status": "ok",
     "timestamp": 1697489325522,
     "user": {
      "displayName": "Sohaib Wael",
      "userId": "06436269751343587339"
     },
     "user_tz": -180
    },
    "id": "26a6f9a3",
    "outputId": "79f555e9-64ea-4621-df64-5afdf992aa49"
   },
   "outputs": [
    {
     "data": {
      "text/plain": [
       "False"
      ]
     },
     "execution_count": 19,
     "metadata": {},
     "output_type": "execute_result"
    }
   ],
   "source": [
    "intersectingRectangles(rect1 = [[2,2],[6,7]], rect2 = [[1,10],[7,13]])  # Expected: False"
   ]
  },
  {
   "cell_type": "code",
   "execution_count": 9,
   "id": "9095f5f6",
   "metadata": {
    "executionInfo": {
     "elapsed": 10,
     "status": "ok",
     "timestamp": 1697489325523,
     "user": {
      "displayName": "Sohaib Wael",
      "userId": "06436269751343587339"
     },
     "user_tz": -180
    },
    "id": "9095f5f6"
   },
   "outputs": [],
   "source": []
  }
 ],
 "metadata": {
  "colab": {
   "provenance": []
  },
  "kernelspec": {
   "display_name": "Python 3 (ipykernel)",
   "language": "python",
   "name": "python3"
  },
  "language_info": {
   "codemirror_mode": {
    "name": "ipython",
    "version": 3
   },
   "file_extension": ".py",
   "mimetype": "text/x-python",
   "name": "python",
   "nbconvert_exporter": "python",
   "pygments_lexer": "ipython3",
   "version": "3.11.5"
  }
 },
 "nbformat": 4,
 "nbformat_minor": 5
}
