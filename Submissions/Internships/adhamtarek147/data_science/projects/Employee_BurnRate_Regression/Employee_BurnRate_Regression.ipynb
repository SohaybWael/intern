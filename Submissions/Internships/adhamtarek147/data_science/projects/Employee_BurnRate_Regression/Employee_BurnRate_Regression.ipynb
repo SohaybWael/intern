{
 "cells": [
  {
   "cell_type": "markdown",
   "id": "e44c9202",
   "metadata": {},
   "source": [
    "# Step1: Import Libraries"
   ]
  },
  {
   "cell_type": "code",
   "execution_count": 52,
   "id": "2ba8954a",
   "metadata": {},
   "outputs": [],
   "source": [
    "import numpy as np\n",
    "import pandas as pd\n",
    "import matplotlib.pyplot as plt\n",
    "import seaborn as sns\n",
    "from sklearn.preprocessing import StandardScaler\n",
    "from sklearn.model_selection import train_test_split\n",
    "from sklearn.metrics import r2_score\n",
    "pd.set_option('display.float_format', '{:.1f}'.format)"
   ]
  },
  {
   "cell_type": "markdown",
   "id": "c7d2a63a",
   "metadata": {},
   "source": [
    "# Step2: Load Data"
   ]
  },
  {
   "cell_type": "code",
   "execution_count": 53,
   "id": "7f1bb58c",
   "metadata": {},
   "outputs": [],
   "source": [
    "df = pd.read_csv(\"Datasets/EmployeeBurnout1.csv\")"
   ]
  },
  {
   "cell_type": "markdown",
   "id": "d8a32112",
   "metadata": {},
   "source": [
    "# Step3: EDA"
   ]
  },
  {
   "cell_type": "code",
   "execution_count": 54,
   "id": "b80ce097",
   "metadata": {},
   "outputs": [
    {
     "data": {
      "text/html": [
       "<div>\n",
       "<style scoped>\n",
       "    .dataframe tbody tr th:only-of-type {\n",
       "        vertical-align: middle;\n",
       "    }\n",
       "\n",
       "    .dataframe tbody tr th {\n",
       "        vertical-align: top;\n",
       "    }\n",
       "\n",
       "    .dataframe thead th {\n",
       "        text-align: right;\n",
       "    }\n",
       "</style>\n",
       "<table border=\"1\" class=\"dataframe\">\n",
       "  <thead>\n",
       "    <tr style=\"text-align: right;\">\n",
       "      <th></th>\n",
       "      <th>Employee ID</th>\n",
       "      <th>Date of Joining</th>\n",
       "      <th>Gender</th>\n",
       "      <th>Company Type</th>\n",
       "      <th>WFH Setup Available</th>\n",
       "      <th>Designation</th>\n",
       "      <th>Resource Allocation</th>\n",
       "      <th>Mental Fatigue Score</th>\n",
       "      <th>Burn Rate</th>\n",
       "    </tr>\n",
       "  </thead>\n",
       "  <tbody>\n",
       "    <tr>\n",
       "      <th>0</th>\n",
       "      <td>fffe32003000360033003200</td>\n",
       "      <td>9/30/2008</td>\n",
       "      <td>Female</td>\n",
       "      <td>Service</td>\n",
       "      <td>No</td>\n",
       "      <td>2</td>\n",
       "      <td>3.0</td>\n",
       "      <td>3.8</td>\n",
       "      <td>0.2</td>\n",
       "    </tr>\n",
       "    <tr>\n",
       "      <th>1</th>\n",
       "      <td>fffe3700360033003500</td>\n",
       "      <td>11/30/2008</td>\n",
       "      <td>Male</td>\n",
       "      <td>Service</td>\n",
       "      <td>Yes</td>\n",
       "      <td>1</td>\n",
       "      <td>2.0</td>\n",
       "      <td>5.0</td>\n",
       "      <td>0.4</td>\n",
       "    </tr>\n",
       "    <tr>\n",
       "      <th>2</th>\n",
       "      <td>fffe31003300320037003900</td>\n",
       "      <td>3/10/2008</td>\n",
       "      <td>Female</td>\n",
       "      <td>Product</td>\n",
       "      <td>Yes</td>\n",
       "      <td>2</td>\n",
       "      <td>NaN</td>\n",
       "      <td>5.8</td>\n",
       "      <td>0.5</td>\n",
       "    </tr>\n",
       "    <tr>\n",
       "      <th>3</th>\n",
       "      <td>fffe32003400380032003900</td>\n",
       "      <td>11/3/2008</td>\n",
       "      <td>Male</td>\n",
       "      <td>Service</td>\n",
       "      <td>Yes</td>\n",
       "      <td>1</td>\n",
       "      <td>1.0</td>\n",
       "      <td>2.6</td>\n",
       "      <td>0.2</td>\n",
       "    </tr>\n",
       "    <tr>\n",
       "      <th>4</th>\n",
       "      <td>fffe31003900340031003600</td>\n",
       "      <td>7/24/2008</td>\n",
       "      <td>Female</td>\n",
       "      <td>Service</td>\n",
       "      <td>No</td>\n",
       "      <td>3</td>\n",
       "      <td>7.0</td>\n",
       "      <td>6.9</td>\n",
       "      <td>0.5</td>\n",
       "    </tr>\n",
       "    <tr>\n",
       "      <th>5</th>\n",
       "      <td>fffe3300350037003500</td>\n",
       "      <td>11/26/2008</td>\n",
       "      <td>Male</td>\n",
       "      <td>Product</td>\n",
       "      <td>Yes</td>\n",
       "      <td>2</td>\n",
       "      <td>4.0</td>\n",
       "      <td>3.6</td>\n",
       "      <td>0.3</td>\n",
       "    </tr>\n",
       "    <tr>\n",
       "      <th>6</th>\n",
       "      <td>fffe33003300340039003100</td>\n",
       "      <td>1/2/2008</td>\n",
       "      <td>Female</td>\n",
       "      <td>Service</td>\n",
       "      <td>No</td>\n",
       "      <td>3</td>\n",
       "      <td>6.0</td>\n",
       "      <td>7.9</td>\n",
       "      <td>0.6</td>\n",
       "    </tr>\n",
       "    <tr>\n",
       "      <th>7</th>\n",
       "      <td>fffe32003600320037003400</td>\n",
       "      <td>10/31/2008</td>\n",
       "      <td>Female</td>\n",
       "      <td>Service</td>\n",
       "      <td>Yes</td>\n",
       "      <td>2</td>\n",
       "      <td>4.0</td>\n",
       "      <td>4.4</td>\n",
       "      <td>0.3</td>\n",
       "    </tr>\n",
       "    <tr>\n",
       "      <th>8</th>\n",
       "      <td>fffe32003200300034003700</td>\n",
       "      <td>12/27/2008</td>\n",
       "      <td>Female</td>\n",
       "      <td>Service</td>\n",
       "      <td>No</td>\n",
       "      <td>3</td>\n",
       "      <td>6.0</td>\n",
       "      <td>NaN</td>\n",
       "      <td>0.6</td>\n",
       "    </tr>\n",
       "    <tr>\n",
       "      <th>9</th>\n",
       "      <td>fffe31003600320030003200</td>\n",
       "      <td>3/9/2008</td>\n",
       "      <td>Female</td>\n",
       "      <td>Product</td>\n",
       "      <td>No</td>\n",
       "      <td>3</td>\n",
       "      <td>6.0</td>\n",
       "      <td>NaN</td>\n",
       "      <td>0.7</td>\n",
       "    </tr>\n",
       "  </tbody>\n",
       "</table>\n",
       "</div>"
      ],
      "text/plain": [
       "                Employee ID Date of Joining  Gender Company Type  \\\n",
       "0  fffe32003000360033003200       9/30/2008  Female      Service   \n",
       "1      fffe3700360033003500      11/30/2008    Male      Service   \n",
       "2  fffe31003300320037003900       3/10/2008  Female      Product   \n",
       "3  fffe32003400380032003900       11/3/2008    Male      Service   \n",
       "4  fffe31003900340031003600       7/24/2008  Female      Service   \n",
       "5      fffe3300350037003500      11/26/2008    Male      Product   \n",
       "6  fffe33003300340039003100        1/2/2008  Female      Service   \n",
       "7  fffe32003600320037003400      10/31/2008  Female      Service   \n",
       "8  fffe32003200300034003700      12/27/2008  Female      Service   \n",
       "9  fffe31003600320030003200        3/9/2008  Female      Product   \n",
       "\n",
       "  WFH Setup Available  Designation  Resource Allocation  Mental Fatigue Score  \\\n",
       "0                  No            2                  3.0                   3.8   \n",
       "1                 Yes            1                  2.0                   5.0   \n",
       "2                 Yes            2                  NaN                   5.8   \n",
       "3                 Yes            1                  1.0                   2.6   \n",
       "4                  No            3                  7.0                   6.9   \n",
       "5                 Yes            2                  4.0                   3.6   \n",
       "6                  No            3                  6.0                   7.9   \n",
       "7                 Yes            2                  4.0                   4.4   \n",
       "8                  No            3                  6.0                   NaN   \n",
       "9                  No            3                  6.0                   NaN   \n",
       "\n",
       "   Burn Rate  \n",
       "0        0.2  \n",
       "1        0.4  \n",
       "2        0.5  \n",
       "3        0.2  \n",
       "4        0.5  \n",
       "5        0.3  \n",
       "6        0.6  \n",
       "7        0.3  \n",
       "8        0.6  \n",
       "9        0.7  "
      ]
     },
     "execution_count": 54,
     "metadata": {},
     "output_type": "execute_result"
    }
   ],
   "source": [
    "#first 10 rows of the data\n",
    "df.head(10)"
   ]
  },
  {
   "cell_type": "code",
   "execution_count": 55,
   "id": "50fe9a02",
   "metadata": {},
   "outputs": [
    {
     "data": {
      "text/plain": [
       "(22750, 9)"
      ]
     },
     "execution_count": 55,
     "metadata": {},
     "output_type": "execute_result"
    }
   ],
   "source": [
    "#shape of the data\n",
    "df.shape"
   ]
  },
  {
   "cell_type": "code",
   "execution_count": 56,
   "id": "14e10616",
   "metadata": {},
   "outputs": [
    {
     "name": "stdout",
     "output_type": "stream",
     "text": [
      "<class 'pandas.core.frame.DataFrame'>\n",
      "RangeIndex: 22750 entries, 0 to 22749\n",
      "Data columns (total 9 columns):\n",
      " #   Column                Non-Null Count  Dtype  \n",
      "---  ------                --------------  -----  \n",
      " 0   Employee ID           22750 non-null  object \n",
      " 1   Date of Joining       22750 non-null  object \n",
      " 2   Gender                22750 non-null  object \n",
      " 3   Company Type          22750 non-null  object \n",
      " 4   WFH Setup Available   22750 non-null  object \n",
      " 5   Designation           22750 non-null  int64  \n",
      " 6   Resource Allocation   21369 non-null  float64\n",
      " 7   Mental Fatigue Score  20633 non-null  float64\n",
      " 8   Burn Rate             21626 non-null  float64\n",
      "dtypes: float64(3), int64(1), object(5)\n",
      "memory usage: 1.6+ MB\n"
     ]
    }
   ],
   "source": [
    "#overview information of the data\n",
    "df.info()"
   ]
  },
  {
   "cell_type": "code",
   "execution_count": 57,
   "id": "265d7959",
   "metadata": {},
   "outputs": [
    {
     "data": {
      "text/html": [
       "<div>\n",
       "<style scoped>\n",
       "    .dataframe tbody tr th:only-of-type {\n",
       "        vertical-align: middle;\n",
       "    }\n",
       "\n",
       "    .dataframe tbody tr th {\n",
       "        vertical-align: top;\n",
       "    }\n",
       "\n",
       "    .dataframe thead th {\n",
       "        text-align: right;\n",
       "    }\n",
       "</style>\n",
       "<table border=\"1\" class=\"dataframe\">\n",
       "  <thead>\n",
       "    <tr style=\"text-align: right;\">\n",
       "      <th></th>\n",
       "      <th>Designation</th>\n",
       "      <th>Resource Allocation</th>\n",
       "      <th>Mental Fatigue Score</th>\n",
       "      <th>Burn Rate</th>\n",
       "    </tr>\n",
       "  </thead>\n",
       "  <tbody>\n",
       "    <tr>\n",
       "      <th>count</th>\n",
       "      <td>22750.0</td>\n",
       "      <td>21369.0</td>\n",
       "      <td>20633.0</td>\n",
       "      <td>21626.0</td>\n",
       "    </tr>\n",
       "    <tr>\n",
       "      <th>mean</th>\n",
       "      <td>2.2</td>\n",
       "      <td>4.5</td>\n",
       "      <td>5.7</td>\n",
       "      <td>0.5</td>\n",
       "    </tr>\n",
       "    <tr>\n",
       "      <th>std</th>\n",
       "      <td>1.1</td>\n",
       "      <td>2.0</td>\n",
       "      <td>1.9</td>\n",
       "      <td>0.2</td>\n",
       "    </tr>\n",
       "    <tr>\n",
       "      <th>min</th>\n",
       "      <td>0.0</td>\n",
       "      <td>1.0</td>\n",
       "      <td>0.0</td>\n",
       "      <td>0.0</td>\n",
       "    </tr>\n",
       "    <tr>\n",
       "      <th>25%</th>\n",
       "      <td>1.0</td>\n",
       "      <td>3.0</td>\n",
       "      <td>4.6</td>\n",
       "      <td>0.3</td>\n",
       "    </tr>\n",
       "    <tr>\n",
       "      <th>50%</th>\n",
       "      <td>2.0</td>\n",
       "      <td>4.0</td>\n",
       "      <td>5.9</td>\n",
       "      <td>0.5</td>\n",
       "    </tr>\n",
       "    <tr>\n",
       "      <th>75%</th>\n",
       "      <td>3.0</td>\n",
       "      <td>6.0</td>\n",
       "      <td>7.1</td>\n",
       "      <td>0.6</td>\n",
       "    </tr>\n",
       "    <tr>\n",
       "      <th>max</th>\n",
       "      <td>5.0</td>\n",
       "      <td>10.0</td>\n",
       "      <td>10.0</td>\n",
       "      <td>1.0</td>\n",
       "    </tr>\n",
       "  </tbody>\n",
       "</table>\n",
       "</div>"
      ],
      "text/plain": [
       "       Designation  Resource Allocation  Mental Fatigue Score  Burn Rate\n",
       "count      22750.0              21369.0               20633.0    21626.0\n",
       "mean           2.2                  4.5                   5.7        0.5\n",
       "std            1.1                  2.0                   1.9        0.2\n",
       "min            0.0                  1.0                   0.0        0.0\n",
       "25%            1.0                  3.0                   4.6        0.3\n",
       "50%            2.0                  4.0                   5.9        0.5\n",
       "75%            3.0                  6.0                   7.1        0.6\n",
       "max            5.0                 10.0                  10.0        1.0"
      ]
     },
     "execution_count": 57,
     "metadata": {},
     "output_type": "execute_result"
    }
   ],
   "source": [
    "#statistical measures in the data\n",
    "df.describe()"
   ]
  },
  {
   "cell_type": "code",
   "execution_count": 58,
   "id": "bf852f78",
   "metadata": {},
   "outputs": [
    {
     "data": {
      "text/plain": [
       "Employee ID                0\n",
       "Date of Joining            0\n",
       "Gender                     0\n",
       "Company Type               0\n",
       "WFH Setup Available        0\n",
       "Designation                0\n",
       "Resource Allocation     1381\n",
       "Mental Fatigue Score    2117\n",
       "Burn Rate               1124\n",
       "dtype: int64"
      ]
     },
     "execution_count": 58,
     "metadata": {},
     "output_type": "execute_result"
    }
   ],
   "source": [
    "#number of null values in the data\n",
    "df.isnull().sum()"
   ]
  },
  {
   "cell_type": "code",
   "execution_count": 59,
   "id": "d3be354d",
   "metadata": {},
   "outputs": [
    {
     "data": {
      "text/plain": [
       "0"
      ]
     },
     "execution_count": 59,
     "metadata": {},
     "output_type": "execute_result"
    }
   ],
   "source": [
    "#number of duplicates\n",
    "df.duplicated().sum()"
   ]
  },
  {
   "cell_type": "code",
   "execution_count": 60,
   "id": "8d3febfb",
   "metadata": {},
   "outputs": [
    {
     "name": "stdout",
     "output_type": "stream",
     "text": [
      "['Female' 'Male']\n",
      "['Service' 'Product']\n",
      "['No' 'Yes']\n"
     ]
    }
   ],
   "source": [
    "#unique values in categorical features\n",
    "categorical_features = [\"Gender\", \"Company Type\", \"WFH Setup Available\"]\n",
    "for feature in categorical_features:\n",
    "    print(df[feature].unique())"
   ]
  },
  {
   "cell_type": "code",
   "execution_count": 61,
   "id": "866eb143",
   "metadata": {},
   "outputs": [
    {
     "data": {
      "text/plain": [
       "Employee ID              object\n",
       "Date of Joining          object\n",
       "Gender                   object\n",
       "Company Type             object\n",
       "WFH Setup Available      object\n",
       "Designation               int64\n",
       "Resource Allocation     float64\n",
       "Mental Fatigue Score    float64\n",
       "Burn Rate               float64\n",
       "dtype: object"
      ]
     },
     "execution_count": 61,
     "metadata": {},
     "output_type": "execute_result"
    }
   ],
   "source": [
    "#data types of the data\n",
    "df.dtypes"
   ]
  },
  {
   "cell_type": "code",
   "execution_count": 62,
   "id": "3d4c23d9",
   "metadata": {},
   "outputs": [
    {
     "data": {
      "text/html": [
       "<div>\n",
       "<style scoped>\n",
       "    .dataframe tbody tr th:only-of-type {\n",
       "        vertical-align: middle;\n",
       "    }\n",
       "\n",
       "    .dataframe tbody tr th {\n",
       "        vertical-align: top;\n",
       "    }\n",
       "\n",
       "    .dataframe thead th {\n",
       "        text-align: right;\n",
       "    }\n",
       "</style>\n",
       "<table border=\"1\" class=\"dataframe\">\n",
       "  <thead>\n",
       "    <tr style=\"text-align: right;\">\n",
       "      <th></th>\n",
       "      <th>Designation</th>\n",
       "      <th>Resource Allocation</th>\n",
       "      <th>Mental Fatigue Score</th>\n",
       "      <th>Burn Rate</th>\n",
       "    </tr>\n",
       "  </thead>\n",
       "  <tbody>\n",
       "    <tr>\n",
       "      <th>Designation</th>\n",
       "      <td>1.0</td>\n",
       "      <td>0.9</td>\n",
       "      <td>0.7</td>\n",
       "      <td>0.7</td>\n",
       "    </tr>\n",
       "    <tr>\n",
       "      <th>Resource Allocation</th>\n",
       "      <td>0.9</td>\n",
       "      <td>1.0</td>\n",
       "      <td>0.8</td>\n",
       "      <td>0.9</td>\n",
       "    </tr>\n",
       "    <tr>\n",
       "      <th>Mental Fatigue Score</th>\n",
       "      <td>0.7</td>\n",
       "      <td>0.8</td>\n",
       "      <td>1.0</td>\n",
       "      <td>0.9</td>\n",
       "    </tr>\n",
       "    <tr>\n",
       "      <th>Burn Rate</th>\n",
       "      <td>0.7</td>\n",
       "      <td>0.9</td>\n",
       "      <td>0.9</td>\n",
       "      <td>1.0</td>\n",
       "    </tr>\n",
       "  </tbody>\n",
       "</table>\n",
       "</div>"
      ],
      "text/plain": [
       "                      Designation  Resource Allocation  Mental Fatigue Score  \\\n",
       "Designation                   1.0                  0.9                   0.7   \n",
       "Resource Allocation           0.9                  1.0                   0.8   \n",
       "Mental Fatigue Score          0.7                  0.8                   1.0   \n",
       "Burn Rate                     0.7                  0.9                   0.9   \n",
       "\n",
       "                      Burn Rate  \n",
       "Designation                 0.7  \n",
       "Resource Allocation         0.9  \n",
       "Mental Fatigue Score        0.9  \n",
       "Burn Rate                   1.0  "
      ]
     },
     "execution_count": 62,
     "metadata": {},
     "output_type": "execute_result"
    }
   ],
   "source": [
    "#correlation\n",
    "numerical_columns = [\"Designation\", \"Resource Allocation\", \"Mental Fatigue Score\", \"Burn Rate\"]\n",
    "df[numerical_columns].corr()"
   ]
  },
  {
   "cell_type": "code",
   "execution_count": 63,
   "id": "d2aaa1d7",
   "metadata": {},
   "outputs": [
    {
     "data": {
      "text/plain": [
       "<Axes: >"
      ]
     },
     "execution_count": 63,
     "metadata": {},
     "output_type": "execute_result"
    },
    {
     "data": {
      "image/png": "[encoded data removed]",
      "text/plain": [
       "<Figure size 500x500 with 2 Axes>"
      ]
     },
     "metadata": {},
     "output_type": "display_data"
    }
   ],
   "source": [
    "#heatmap for better describing of correlation in the data\n",
    "plt.figure(figsize = (5, 5))\n",
    "sns.heatmap(df[numerical_columns].corr(), cbar = True, square = True, annot = True, cmap = \"Blues\")"
   ]
  },
  {
   "cell_type": "code",
   "execution_count": 64,
   "id": "7024c06d",
   "metadata": {},
   "outputs": [
    {
     "data": {
      "text/plain": [
       "array([[<Axes: title={'center': 'Designation'}>,\n",
       "        <Axes: title={'center': 'Resource Allocation'}>],\n",
       "       [<Axes: title={'center': 'Mental Fatigue Score'}>,\n",
       "        <Axes: title={'center': 'Burn Rate'}>]], dtype=object)"
      ]
     },
     "execution_count": 64,
     "metadata": {},
     "output_type": "execute_result"
    },
    {
     "data": {
      "image/png": "[encoded data removed]",
      "text/plain": [
       "<Figure size 1500x800 with 4 Axes>"
      ]
     },
     "metadata": {},
     "output_type": "display_data"
    }
   ],
   "source": [
    "#histograms for all the data\n",
    "df.hist(bins = 15, figsize = (15, 8))"
   ]
  },
  {
   "cell_type": "code",
   "execution_count": 65,
   "id": "71999a5a",
   "metadata": {},
   "outputs": [
    {
     "data": {
      "image/png": "[encoded data removed]",
      "text/plain": [
       "<Figure size 1500x500 with 4 Axes>"
      ]
     },
     "metadata": {},
     "output_type": "display_data"
    }
   ],
   "source": [
    "#boxplots to detect the outliers\n",
    "fig, axes = plt.subplots(nrows=1, ncols=4, figsize=(15, 5))\n",
    "for i, column in enumerate(numerical_columns):\n",
    "    sns.boxplot(x=df[column], ax=axes[i])\n",
    "    axes[i].set_title(f'Boxplot for {column}')\n",
    "\n",
    "    \n",
    "plt.tight_layout()\n",
    "plt.show()"
   ]
  },
  {
   "cell_type": "markdown",
   "id": "90beaa4f",
   "metadata": {},
   "source": [
    "# Step4: Data Preprocessing"
   ]
  },
  {
   "cell_type": "code",
   "execution_count": 66,
   "id": "c8929e25",
   "metadata": {},
   "outputs": [],
   "source": [
    "#handling outliers function\n",
    "def handle_outliers(data, feature):\n",
    "    Q1 = data[feature].quantile(0.25)\n",
    "    Q3 = data[feature].quantile(0.75)\n",
    "    IQR = Q3 - Q1\n",
    "    lower_limit = Q1 - 1.5 * IQR\n",
    "    upper_limit = Q3 + 1.5 * IQR\n",
    "    \n",
    "    data[feature]=np.where(data[feature] > upper_limit, upper_limit, np.where(data[feature] < lower_limit, lower_limit, data[feature]))\n",
    "    return data[feature]\n",
    "\n",
    "#preprocessing function\n",
    "def preprocessing(data):\n",
    "    data=data.copy()\n",
    "    \n",
    "    #dropping the ID column because it doesn't matter in the regression problem\n",
    "    data.drop(\"Employee ID\", axis = 1, inplace = True)\n",
    "    \n",
    "    #handling missing values\n",
    "    data.dropna(subset = [\"Burn Rate\"], inplace = True)\n",
    "    data[\"Resource Allocation\"].fillna(data[\"Resource Allocation\"].mean(), inplace = True)\n",
    "    data[\"Mental Fatigue Score\"].fillna(data[\"Mental Fatigue Score\"].mean(), inplace = True)\n",
    "    \n",
    "    #handling the outliers\n",
    "    data[\"Mental Fatigue Score\"] = handle_outliers(data,\"Mental Fatigue Score\")\n",
    "    \n",
    "    #turn the date column to three columns (year, month, day)\n",
    "    data[\"Date of Joining\"] = pd.to_datetime(data[\"Date of Joining\"])\n",
    "    data[\"Join Year\"] = data[\"Date of Joining\"].apply(lambda x : x.year)\n",
    "    data[\"Join Month\"] = data[\"Date of Joining\"].apply(lambda x : x.month)\n",
    "    data[\"Join Day\"] = data[\"Date of Joining\"].apply(lambda x : x.day)\n",
    "    data.drop(\"Date of Joining\", axis = 1, inplace = True)\n",
    "    \n",
    "    #dropping the join year column because it has the same value in all its cells\n",
    "    data.drop(\"Join Year\", axis = 1, inplace = True)\n",
    "    \n",
    "    #encoding categorical features\n",
    "    data[\"Gender\"].replace({\"Female\" : 0, \"Male\" : 1}, inplace = True)\n",
    "    data[\"Company Type\"].replace({\"Service\" : 0, \"Product\" : 1}, inplace = True)\n",
    "    data[\"WFH Setup Available\"].replace({\"No\" : 0, \"Yes\" : 1}, inplace = True)\n",
    "    \n",
    "    #splitting data to train and test\n",
    "    x = data.drop(\"Burn Rate\", axis = 1)\n",
    "    y = data[\"Burn Rate\"]\n",
    "    x_train, x_test, y_train, y_test = train_test_split(x, y, test_size = 0.2, shuffle = True, random_state = 1)\n",
    "    \n",
    "    #scaling\n",
    "    scaler = StandardScaler()\n",
    "    x_train = scaler.fit_transform(x_train)\n",
    "    x_test = scaler.transform(x_test)\n",
    "    \n",
    "    return x_train, x_test, y_train, y_test"
   ]
  },
  {
   "cell_type": "code",
   "execution_count": 67,
   "id": "477d1ad7",
   "metadata": {},
   "outputs": [],
   "source": [
    "x_train, x_test, y_train, y_test = preprocessing(df)"
   ]
  },
  {
   "cell_type": "markdown",
   "id": "fdf1ba44",
   "metadata": {},
   "source": [
    "# Step5: Modelling "
   ]
  },
  {
   "cell_type": "code",
   "execution_count": 68,
   "id": "081480a6",
   "metadata": {},
   "outputs": [
    {
     "name": "stdout",
     "output_type": "stream",
     "text": [
      "Linear Regression Accuracy: 87.13 %\n"
     ]
    }
   ],
   "source": [
    "#multilinear regression from scratch\n",
    "class MultilinearRegression:\n",
    "    def __init__(self, learning_rate=0.01, epochs=1000):\n",
    "        self.learning_rate = learning_rate\n",
    "        self.epochs = epochs\n",
    "        self.weights = None\n",
    "        self.bias = None\n",
    "\n",
    "    def fit(self, X, y):\n",
    "        X = np.column_stack((np.ones(len(X)), X))\n",
    "        \n",
    "        self.weights = np.zeros(X.shape[1])\n",
    "        \n",
    "        for epoch in range(self.epochs):\n",
    "            y_pred = np.dot(X, self.weights)\n",
    "            error = y_pred - y\n",
    "            \n",
    "            gradient = np.dot(X.T, error) / len(X)\n",
    "            self.weights -= self.learning_rate * gradient\n",
    "\n",
    "    def predict(self, X):\n",
    "        X = np.column_stack((np.ones(len(X)), X))\n",
    "        y_pred = np.dot(X, self.weights)\n",
    "        return y_pred\n",
    "    \n",
    "#creating the model\n",
    "model = MultilinearRegression()\n",
    "model.fit(x_train, y_train)\n",
    "\n",
    "#make predictions\n",
    "y_pred = model.predict(x_test)\n",
    "Liner_r2_score = r2_score(y_test, y_pred)*100\n",
    "\n",
    "#printing the accuracy of the model\n",
    "print(\"Linear Regression Accuracy: %.2f\" % Liner_r2_score ,\"%\")"
   ]
  },
  {
   "cell_type": "code",
   "execution_count": null,
   "id": "a63c88b4",
   "metadata": {},
   "outputs": [],
   "source": []
  }
 ],
 "metadata": {
  "kernelspec": {
   "display_name": "Python 3 (ipykernel)",
   "language": "python",
   "name": "python3"
  },
  "language_info": {
   "codemirror_mode": {
    "name": "ipython",
    "version": 3
   },
   "file_extension": ".py",
   "mimetype": "text/x-python",
   "name": "python",
   "nbconvert_exporter": "python",
   "pygments_lexer": "ipython3",
   "version": "3.11.5"
  }
 },
 "nbformat": 4,
 "nbformat_minor": 5
}
