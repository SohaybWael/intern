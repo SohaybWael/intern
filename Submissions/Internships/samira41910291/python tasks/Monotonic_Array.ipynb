{
  "nbformat": 4,
  "nbformat_minor": 0,
  "metadata": {
    "colab": {
      "provenance": []
    },
    "kernelspec": {
      "name": "python3",
      "display_name": "Python 3"
    },
    "language_info": {
      "name": "python"
    }
  },
  "cells": [
    {
      "cell_type": "markdown",
      "source": [
        "# **Monotonic Array**"
      ],
      "metadata": {
        "id": "AAbE-Jh8RqWx"
      }
    },
    {
      "cell_type": "code",
      "source": [
        "def isMonotonic(array):\n",
        "  is_non_increasing = all(array[i] >=array[i+1]for i in range(len(array)-1))\n",
        "  is_non_decreasing = all(array[i] <=array[i+1]for i in range(len(array)-1))\n",
        "  return is_non_increasing or is_non_decreasing"
      ],
      "metadata": {
        "id": "GAHLl46yRp-W"
      },
      "execution_count": 2,
      "outputs": []
    },
    {
      "cell_type": "code",
      "source": [
        "print (\"example1 : expected true\")\n",
        "print(isMonotonic([-1, -5, -10, -1100, -1100, -1101, -1102, -9001]))  # Expected: True\n",
        "\n",
        "\n",
        "print (\"example2 : expected false , to test logic of function \")\n",
        "test  = [1, 4, 1, 1, 88, 9]\n",
        "\n",
        "print (isMonotonic(test) )"
      ],
      "metadata": {
        "colab": {
          "base_uri": "https://localhost:8080/"
        },
        "id": "kvYneNEaSG_z",
        "outputId": "17c85ad9-6881-4b1b-c3ca-5e53be3517dd"
      },
      "execution_count": 3,
      "outputs": [
        {
          "output_type": "stream",
          "name": "stdout",
          "text": [
            "example1 : expected true\n",
            "True\n",
            "example2 : expected false , to test logic of function \n",
            "False\n"
          ]
        }
      ]
    },
    {
      "cell_type": "code",
      "source": [
        "isMonotonic([1,2,2,3,6,15,15,15,15,89]) # Expected: True"
      ],
      "metadata": {
        "colab": {
          "base_uri": "https://localhost:8080/"
        },
        "id": "fGrN6RsBShVf",
        "outputId": "f1253c44-8235-4d8e-d304-43110413772f"
      },
      "execution_count": 4,
      "outputs": [
        {
          "output_type": "execute_result",
          "data": {
            "text/plain": [
              "True"
            ]
          },
          "metadata": {},
          "execution_count": 4
        }
      ]
    },
    {
      "cell_type": "code",
      "source": [
        "isMonotonic([-8, -100, -101, -99, -500])  # Expected: False"
      ],
      "metadata": {
        "colab": {
          "base_uri": "https://localhost:8080/"
        },
        "id": "sGgGCaifSimY",
        "outputId": "59ae8a48-e3a2-4af8-f6ba-7ea15aaee162"
      },
      "execution_count": 5,
      "outputs": [
        {
          "output_type": "execute_result",
          "data": {
            "text/plain": [
              "False"
            ]
          },
          "metadata": {},
          "execution_count": 5
        }
      ]
    },
    {
      "cell_type": "code",
      "source": [
        "isMonotonic([7,7,7,7,7,7,7])  # Expected: True"
      ],
      "metadata": {
        "colab": {
          "base_uri": "https://localhost:8080/"
        },
        "id": "MyUx-uC4SnQd",
        "outputId": "a74ca8d6-a78d-456f-9472-623198ea9e98"
      },
      "execution_count": 6,
      "outputs": [
        {
          "output_type": "execute_result",
          "data": {
            "text/plain": [
              "True"
            ]
          },
          "metadata": {},
          "execution_count": 6
        }
      ]
    }
  ]
}