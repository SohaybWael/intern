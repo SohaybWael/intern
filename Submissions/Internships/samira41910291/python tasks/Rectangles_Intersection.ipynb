{
  "nbformat": 4,
  "nbformat_minor": 0,
  "metadata": {
    "colab": {
      "provenance": []
    },
    "kernelspec": {
      "name": "python3",
      "display_name": "Python 3"
    },
    "language_info": {
      "name": "python"
    }
  },
  "cells": [
    {
      "cell_type": "markdown",
      "source": [
        "# **Rectangles Intersection**"
      ],
      "metadata": {
        "id": "faxcUZ4zGr68"
      }
    },
    {
      "cell_type": "code",
      "source": [
        "def isRectangleOverlap(rec1, rec2):\n",
        "\n",
        "    if rec1[1][0] <= rec2[0][0] or rec2[1][0] <= rec1[0][0]:\n",
        "        return False\n",
        "\n",
        "\n",
        "    if rec1[1][1] <= rec2[0][1] or rec2[1][1] <= rec1[0][1]:\n",
        "        return False\n",
        "\n",
        "\n",
        "    return True"
      ],
      "metadata": {
        "id": "opnsIsSEIdlc"
      },
      "execution_count": 16,
      "outputs": []
    },
    {
      "cell_type": "code",
      "source": [
        "isRectangleOverlap( rec1 = [[1,2],[3,4]] , rec2 = [[2,1],[5,3]]) # Expected: True\n"
      ],
      "metadata": {
        "colab": {
          "base_uri": "https://localhost:8080/"
        },
        "id": "JTC77x5_JA7F",
        "outputId": "86889ed3-cd6e-447c-d434-55db65b0ad2f"
      },
      "execution_count": 17,
      "outputs": [
        {
          "output_type": "execute_result",
          "data": {
            "text/plain": [
              "True"
            ]
          },
          "metadata": {},
          "execution_count": 17
        }
      ]
    },
    {
      "cell_type": "code",
      "source": [
        "isRectangleOverlap( rec1 =  [[3,2],[8,9]], rec2 = [[4,4],[6,7]]) # Expected: True"
      ],
      "metadata": {
        "colab": {
          "base_uri": "https://localhost:8080/"
        },
        "id": "b5zUdQl8JJMp",
        "outputId": "270eadf5-127d-480f-dbe6-48a65ed2973c"
      },
      "execution_count": 18,
      "outputs": [
        {
          "output_type": "execute_result",
          "data": {
            "text/plain": [
              "True"
            ]
          },
          "metadata": {},
          "execution_count": 18
        }
      ]
    },
    {
      "cell_type": "code",
      "source": [
        "isRectangleOverlap( rec1= [[1,2],[3,4]], rec2 = [[11,1],[9,5]])# Expected: False"
      ],
      "metadata": {
        "colab": {
          "base_uri": "https://localhost:8080/"
        },
        "id": "_ifQqU8hJb1k",
        "outputId": "1ce4f486-5639-44aa-a9bd-0cf73ee84646"
      },
      "execution_count": 19,
      "outputs": [
        {
          "output_type": "execute_result",
          "data": {
            "text/plain": [
              "False"
            ]
          },
          "metadata": {},
          "execution_count": 19
        }
      ]
    },
    {
      "cell_type": "code",
      "source": [
        "isRectangleOverlap( rec1= [[2,2],[6,7]], rec2 = [[1,3],[7,6]]) # Expected: True"
      ],
      "metadata": {
        "colab": {
          "base_uri": "https://localhost:8080/"
        },
        "id": "GDz1PQb1Jm8O",
        "outputId": "97bf182e-d098-46ec-8a37-0e31e2c4964d"
      },
      "execution_count": 20,
      "outputs": [
        {
          "output_type": "execute_result",
          "data": {
            "text/plain": [
              "True"
            ]
          },
          "metadata": {},
          "execution_count": 20
        }
      ]
    },
    {
      "cell_type": "code",
      "source": [
        "isRectangleOverlap(rec1 = [[6,2],[2,7]], rec2 = [[1,3],[7,6]]) # Expected: True"
      ],
      "metadata": {
        "colab": {
          "base_uri": "https://localhost:8080/"
        },
        "id": "I9yhxehFJp0l",
        "outputId": "b645d13a-7167-41c4-9811-f48e2c4043ce"
      },
      "execution_count": 23,
      "outputs": [
        {
          "output_type": "execute_result",
          "data": {
            "text/plain": [
              "True"
            ]
          },
          "metadata": {},
          "execution_count": 23
        }
      ]
    },
    {
      "cell_type": "code",
      "source": [
        "isRectangleOverlap(rec1 = [[6,2],[2,7]], rec2 = [[1,1],[8,8]])# Expected: True"
      ],
      "metadata": {
        "colab": {
          "base_uri": "https://localhost:8080/"
        },
        "id": "e0izRnFnJsgi",
        "outputId": "244c239f-7221-4140-e34f-ab0c8d03bb1a"
      },
      "execution_count": 25,
      "outputs": [
        {
          "output_type": "execute_result",
          "data": {
            "text/plain": [
              "True"
            ]
          },
          "metadata": {},
          "execution_count": 25
        }
      ]
    },
    {
      "cell_type": "code",
      "source": [
        "isRectangleOverlap(rec1 = [[2,2],[6,7]], rec2 = [[1,10],[7,13]]) # Expected: False"
      ],
      "metadata": {
        "colab": {
          "base_uri": "https://localhost:8080/"
        },
        "id": "VpnOna-fKy2W",
        "outputId": "b08f5047-10d3-4d24-ab2d-9c559e564420"
      },
      "execution_count": 28,
      "outputs": [
        {
          "output_type": "execute_result",
          "data": {
            "text/plain": [
              "False"
            ]
          },
          "metadata": {},
          "execution_count": 28
        }
      ]
    }
  ]
}