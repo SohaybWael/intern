{
  "nbformat": 4,
  "nbformat_minor": 0,
  "metadata": {
    "colab": {
      "provenance": []
    },
    "kernelspec": {
      "name": "python3",
      "display_name": "Python 3"
    },
    "language_info": {
      "name": "python"
    }
  },
  "cells": [
    {
      "cell_type": "markdown",
      "source": [
        "# **Perfect Squares**"
      ],
      "metadata": {
        "id": "_mpRPRzvTkNI"
      }
    },
    {
      "cell_type": "code",
      "source": [
        "def perfectSquares(n):\n",
        "    dp = [float('inf')] * (n + 1)\n",
        "    dp[0] = 0\n",
        "\n",
        "    for i in range(1, n + 1):\n",
        "        j = 1\n",
        "        while j * j <= i:\n",
        "\n",
        "            j += 1\n",
        "    return dp[n]"
      ],
      "metadata": {
        "id": "N4BaBWXMVeIL"
      },
      "execution_count": 13,
      "outputs": []
    },
    {
      "cell_type": "code",
      "source": [
        "\n",
        "perfectSquares(12)  # Expected: 3  (4 + 4 + 4)"
      ],
      "metadata": {
        "colab": {
          "base_uri": "https://localhost:8080/"
        },
        "id": "7Q6Ud7xkVkQ4",
        "outputId": "cd33272e-9275-482c-e6f5-b1da402362a4"
      },
      "execution_count": 4,
      "outputs": [
        {
          "output_type": "execute_result",
          "data": {
            "text/plain": [
              "3"
            ]
          },
          "metadata": {},
          "execution_count": 4
        }
      ]
    },
    {
      "cell_type": "code",
      "source": [
        "perfectSquares(13)  # Expected: 2  (4 + 9)"
      ],
      "metadata": {
        "colab": {
          "base_uri": "https://localhost:8080/"
        },
        "id": "jIV2I_w3Vlq7",
        "outputId": "f08124e2-d150-4e45-ee31-8018d2827058"
      },
      "execution_count": 5,
      "outputs": [
        {
          "output_type": "execute_result",
          "data": {
            "text/plain": [
              "2"
            ]
          },
          "metadata": {},
          "execution_count": 5
        }
      ]
    },
    {
      "cell_type": "code",
      "source": [
        "perfectSquares(16)  # Expected: 1  (16)"
      ],
      "metadata": {
        "colab": {
          "base_uri": "https://localhost:8080/"
        },
        "id": "2a6R5YhNVomS",
        "outputId": "01b9ae7a-ee1e-4b52-abaa-fa7bb28d6d48"
      },
      "execution_count": 6,
      "outputs": [
        {
          "output_type": "execute_result",
          "data": {
            "text/plain": [
              "1"
            ]
          },
          "metadata": {},
          "execution_count": 6
        }
      ]
    },
    {
      "cell_type": "code",
      "source": [
        "perfectSquares(48)  # Expected: 3  (16 + 16 + 16)"
      ],
      "metadata": {
        "colab": {
          "base_uri": "https://localhost:8080/"
        },
        "id": "gZmAud4zVrUI",
        "outputId": "726f5d2e-33d9-4e39-df51-634f9c22582d"
      },
      "execution_count": 7,
      "outputs": [
        {
          "output_type": "execute_result",
          "data": {
            "text/plain": [
              "3"
            ]
          },
          "metadata": {},
          "execution_count": 7
        }
      ]
    },
    {
      "cell_type": "code",
      "source": [
        "perfectSquares(64)  # Expected: 1"
      ],
      "metadata": {
        "colab": {
          "base_uri": "https://localhost:8080/"
        },
        "id": "HMzYOhYhVvPB",
        "outputId": "5a60e095-85ec-4ea1-e265-c327eee49fa1"
      },
      "execution_count": 8,
      "outputs": [
        {
          "output_type": "execute_result",
          "data": {
            "text/plain": [
              "1"
            ]
          },
          "metadata": {},
          "execution_count": 8
        }
      ]
    },
    {
      "cell_type": "code",
      "source": [
        "perfectSquares(78)  # Expected: 3  // 49 + 25 + 4"
      ],
      "metadata": {
        "colab": {
          "base_uri": "https://localhost:8080/"
        },
        "id": "_ugWMtcWVynl",
        "outputId": "f9a2fcb5-47d8-4467-bcb6-7524eae65a32"
      },
      "execution_count": 9,
      "outputs": [
        {
          "output_type": "execute_result",
          "data": {
            "text/plain": [
              "3"
            ]
          },
          "metadata": {},
          "execution_count": 9
        }
      ]
    },
    {
      "cell_type": "code",
      "source": [
        "perfectSquares(80)  # Expected: 2  // 64 + 16"
      ],
      "metadata": {
        "colab": {
          "base_uri": "https://localhost:8080/"
        },
        "id": "k4IE6uXBV2Bd",
        "outputId": "0aeb2813-a69b-4f5e-8374-c90f89e95def"
      },
      "execution_count": 10,
      "outputs": [
        {
          "output_type": "execute_result",
          "data": {
            "text/plain": [
              "2"
            ]
          },
          "metadata": {},
          "execution_count": 10
        }
      ]
    },
    {
      "cell_type": "code",
      "source": [
        "\n",
        "perfectSquares(121)  # Expected: 1"
      ],
      "metadata": {
        "colab": {
          "base_uri": "https://localhost:8080/"
        },
        "id": "1sQ5T6JiV4Yk",
        "outputId": "6c2fe5f0-2cd7-417f-8dbe-f487699b3e6c"
      },
      "execution_count": 11,
      "outputs": [
        {
          "output_type": "execute_result",
          "data": {
            "text/plain": [
              "1"
            ]
          },
          "metadata": {},
          "execution_count": 11
        }
      ]
    },
    {
      "cell_type": "code",
      "source": [
        "perfectSquares(9925)  # Expected: 2  // 95^2 + 30^2"
      ],
      "metadata": {
        "colab": {
          "base_uri": "https://localhost:8080/"
        },
        "id": "Nl4oK5YCV68o",
        "outputId": "5a4d37bb-62f0-4d45-a320-88e46a89da70"
      },
      "execution_count": 12,
      "outputs": [
        {
          "output_type": "execute_result",
          "data": {
            "text/plain": [
              "2"
            ]
          },
          "metadata": {},
          "execution_count": 12
        }
      ]
    }
  ]
}