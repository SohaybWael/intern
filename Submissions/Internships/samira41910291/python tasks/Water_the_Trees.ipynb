{
  "nbformat": 4,
  "nbformat_minor": 0,
  "metadata": {
    "colab": {
      "provenance": []
    },
    "kernelspec": {
      "name": "python3",
      "display_name": "Python 3"
    },
    "language_info": {
      "name": "python"
    }
  },
  "cells": [
    {
      "cell_type": "code",
      "execution_count": 10,
      "metadata": {
        "colab": {
          "base_uri": "https://localhost:8080/"
        },
        "id": "vMrBcW7rYYGy",
        "outputId": "feb1c7ab-863c-4d3e-b4d5-c15392bb9051"
      },
      "outputs": [
        {
          "output_type": "stream",
          "name": "stdout",
          "text": [
            "8\n"
          ]
        }
      ],
      "source": [
        "def min_number_of_days(trees):\n",
        "    max_height = max(trees)\n",
        "    min_days = float('inf')\n",
        "\n",
        "    for target_height in range(1, max_height + 1):\n",
        "        days = 0\n",
        "        for tree_height in trees:\n",
        "            days += abs(tree_height - target_height)\n",
        "\n",
        "        min_days = min(min_days, days)\n",
        "\n",
        "    return min_days\n",
        "trees = [8,7,6,4,3]\n",
        "#trees = [4, 4, 3, 5, 5]\n",
        "result = min_number_of_days(trees)\n",
        "print(result)"
      ]
    }
  ]
}