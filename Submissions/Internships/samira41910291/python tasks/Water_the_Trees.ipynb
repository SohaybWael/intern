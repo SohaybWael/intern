{
  "nbformat": 4,
  "nbformat_minor": 0,
  "metadata": {
    "colab": {
      "provenance": []
    },
    "kernelspec": {
      "name": "python3",
      "display_name": "Python 3"
    },
    "language_info": {
      "name": "python"
    }
  },
  "cells": [
    {
      "cell_type": "markdown",
      "source": [
        "# **Water the Trees**"
      ],
      "metadata": {
        "id": "U7sklnujWc_e"
      }
    },
    {
      "cell_type": "code",
      "source": [
        "def minimum_days(trees):\n",
        "    max_len = max(trees)\n",
        "    remaining_days=0\n",
        "    for i in range(0,len(trees)):\n",
        "        remaining_days += max_len - trees[i]\n",
        "\n",
        "    i = 0\n",
        "    while remaining_days>0:\n",
        "        i+=1\n",
        "        if (i%2==1 and remaining_days==2) or (i%2==0 and remaining_days==1):\n",
        "            continue\n",
        "        else:\n",
        "            if i%2==1:\n",
        "                remaining_days -= 1\n",
        "            else:\n",
        "                remaining_days -= 2\n",
        "\n",
        "\n",
        "\n",
        "    return i"
      ],
      "metadata": {
        "id": "Weio4yFxbNED"
      },
      "execution_count": 12,
      "outputs": []
    },
    {
      "cell_type": "code",
      "source": [
        "minimum_days([1, 2, 4])  # Expected: 4"
      ],
      "metadata": {
        "colab": {
          "base_uri": "https://localhost:8080/"
        },
        "id": "wJ00jJ2EZpqW",
        "outputId": "5533c700-7612-415e-8902-d22c727203cf"
      },
      "execution_count": 13,
      "outputs": [
        {
          "output_type": "execute_result",
          "data": {
            "text/plain": [
              "4"
            ]
          },
          "metadata": {},
          "execution_count": 13
        }
      ]
    },
    {
      "cell_type": "code",
      "source": [
        "minimum_days([4, 4, 3, 5, 5])  # Expected: 3"
      ],
      "metadata": {
        "colab": {
          "base_uri": "https://localhost:8080/"
        },
        "id": "_RhxzYlmZwFX",
        "outputId": "b4a2e4a6-baf8-45ef-9bd4-5ff15002a06f"
      },
      "execution_count": 5,
      "outputs": [
        {
          "output_type": "execute_result",
          "data": {
            "text/plain": [
              "3"
            ]
          },
          "metadata": {},
          "execution_count": 5
        }
      ]
    },
    {
      "cell_type": "code",
      "source": [
        "minimum_days([2, 5, 4, 8, 3, 7, 4])  # Expected: 16"
      ],
      "metadata": {
        "colab": {
          "base_uri": "https://localhost:8080/"
        },
        "id": "cUNWDm3YZyrA",
        "outputId": "134c5657-c004-4568-9d71-1438693fd597"
      },
      "execution_count": 6,
      "outputs": [
        {
          "output_type": "execute_result",
          "data": {
            "text/plain": [
              "16"
            ]
          },
          "metadata": {},
          "execution_count": 6
        }
      ]
    },
    {
      "cell_type": "code",
      "source": [
        "minimum_days([4,3,1])  # Expected: 3"
      ],
      "metadata": {
        "colab": {
          "base_uri": "https://localhost:8080/"
        },
        "id": "J27Sf5jPZ1eB",
        "outputId": "b97497e5-9b3a-4f9a-8afa-3f61be12a46b"
      },
      "execution_count": 7,
      "outputs": [
        {
          "output_type": "execute_result",
          "data": {
            "text/plain": [
              "3"
            ]
          },
          "metadata": {},
          "execution_count": 7
        }
      ]
    },
    {
      "cell_type": "code",
      "source": [
        "minimum_days([5,4,1])  # Expected: 4"
      ],
      "metadata": {
        "colab": {
          "base_uri": "https://localhost:8080/"
        },
        "id": "1fNont3YZ3_H",
        "outputId": "00d9b5fd-c1bd-4a5f-848c-252a773fee0f"
      },
      "execution_count": 8,
      "outputs": [
        {
          "output_type": "execute_result",
          "data": {
            "text/plain": [
              "4"
            ]
          },
          "metadata": {},
          "execution_count": 8
        }
      ]
    },
    {
      "cell_type": "code",
      "source": [
        "minimum_days([6,5,2])  # Expected: 4"
      ],
      "metadata": {
        "colab": {
          "base_uri": "https://localhost:8080/"
        },
        "id": "we8hoHAKZ696",
        "outputId": "906a5226-3096-4979-ae8d-4aa322338963"
      },
      "execution_count": 9,
      "outputs": [
        {
          "output_type": "execute_result",
          "data": {
            "text/plain": [
              "4"
            ]
          },
          "metadata": {},
          "execution_count": 9
        }
      ]
    },
    {
      "cell_type": "code",
      "source": [
        "minimum_days([5,2,6])  # Expected: 4"
      ],
      "metadata": {
        "colab": {
          "base_uri": "https://localhost:8080/"
        },
        "id": "gQwdHpnQZ-MM",
        "outputId": "87c350aa-349a-4c1f-913f-1808e06c67b0"
      },
      "execution_count": 10,
      "outputs": [
        {
          "output_type": "execute_result",
          "data": {
            "text/plain": [
              "4"
            ]
          },
          "metadata": {},
          "execution_count": 10
        }
      ]
    },
    {
      "cell_type": "code",
      "source": [
        "minimum_days([8,7,6,4,3])  # Expected: 8"
      ],
      "metadata": {
        "colab": {
          "base_uri": "https://localhost:8080/"
        },
        "id": "rnrdCDgYaBTk",
        "outputId": "354e131a-5cb3-48c7-833a-31bc63fa44e5"
      },
      "execution_count": 11,
      "outputs": [
        {
          "output_type": "execute_result",
          "data": {
            "text/plain": [
              "8"
            ]
          },
          "metadata": {},
          "execution_count": 11
        }
      ]
    }
  ]
}