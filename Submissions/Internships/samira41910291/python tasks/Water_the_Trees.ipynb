{
  "nbformat": 4,
  "nbformat_minor": 0,
  "metadata": {
    "colab": {
      "provenance": []
    },
    "kernelspec": {
      "name": "python3",
      "display_name": "Python 3"
    },
    "language_info": {
      "name": "python"
    }
  },
  "cells": [
    {
      "cell_type": "markdown",
      "source": [
        "# **Water the Trees**"
      ],
      "metadata": {
        "id": "U7sklnujWc_e"
      }
    },
    {
      "cell_type": "code",
      "source": [
        "def minmum_days(trees):\n",
        "    max_height = max(trees)\n",
        "    min_days = float('inf')\n",
        "\n",
        "    for target_height in range(1, max_height + 1):\n",
        "        days = 0\n",
        "        for tree_height in trees:\n",
        "            days += abs(tree_height - target_height)\n",
        "\n",
        "        min_days = min(min_days, days)\n",
        "\n",
        "    return min_days"
      ],
      "metadata": {
        "id": "AftCoWQ3YkBO"
      },
      "execution_count": 29,
      "outputs": []
    },
    {
      "cell_type": "code",
      "source": [
        "minmum_days([1, 2, 4])  # Expected: 4"
      ],
      "metadata": {
        "colab": {
          "base_uri": "https://localhost:8080/"
        },
        "id": "wJ00jJ2EZpqW",
        "outputId": "b5a50eac-ce42-4b72-d62e-ec766b42bff9"
      },
      "execution_count": 30,
      "outputs": [
        {
          "output_type": "execute_result",
          "data": {
            "text/plain": [
              "3"
            ]
          },
          "metadata": {},
          "execution_count": 30
        }
      ]
    },
    {
      "cell_type": "code",
      "source": [
        "minmum_days([4, 4, 3, 5, 5])  # Expected: 3"
      ],
      "metadata": {
        "colab": {
          "base_uri": "https://localhost:8080/"
        },
        "id": "_RhxzYlmZwFX",
        "outputId": "1cd3691f-ce61-4c56-c620-67278e3f85f9"
      },
      "execution_count": 31,
      "outputs": [
        {
          "output_type": "execute_result",
          "data": {
            "text/plain": [
              "3"
            ]
          },
          "metadata": {},
          "execution_count": 31
        }
      ]
    },
    {
      "cell_type": "code",
      "source": [
        "minmum_days([2, 5, 4, 8, 3, 7, 4])  # Expected: 16"
      ],
      "metadata": {
        "colab": {
          "base_uri": "https://localhost:8080/"
        },
        "id": "cUNWDm3YZyrA",
        "outputId": "5634445c-f961-4c69-9afd-1bf823b091c5"
      },
      "execution_count": 32,
      "outputs": [
        {
          "output_type": "execute_result",
          "data": {
            "text/plain": [
              "11"
            ]
          },
          "metadata": {},
          "execution_count": 32
        }
      ]
    },
    {
      "cell_type": "code",
      "source": [
        "minmum_days([4,3,1])  # Expected: 3"
      ],
      "metadata": {
        "colab": {
          "base_uri": "https://localhost:8080/"
        },
        "id": "J27Sf5jPZ1eB",
        "outputId": "f7c2c356-63b2-4496-a32f-5585c1b205c9"
      },
      "execution_count": 34,
      "outputs": [
        {
          "output_type": "execute_result",
          "data": {
            "text/plain": [
              "3"
            ]
          },
          "metadata": {},
          "execution_count": 34
        }
      ]
    },
    {
      "cell_type": "code",
      "source": [
        "minmum_days([5,4,1])  # Expected: 4"
      ],
      "metadata": {
        "colab": {
          "base_uri": "https://localhost:8080/"
        },
        "id": "1fNont3YZ3_H",
        "outputId": "3c3797b4-9fb9-4fb9-b8e8-fd309c4a4f23"
      },
      "execution_count": 35,
      "outputs": [
        {
          "output_type": "execute_result",
          "data": {
            "text/plain": [
              "4"
            ]
          },
          "metadata": {},
          "execution_count": 35
        }
      ]
    },
    {
      "cell_type": "code",
      "source": [
        "minmum_days([6,5,2])  # Expected: 4"
      ],
      "metadata": {
        "colab": {
          "base_uri": "https://localhost:8080/"
        },
        "id": "we8hoHAKZ696",
        "outputId": "0d532f21-3747-46ed-b1b3-397d739c7cf2"
      },
      "execution_count": 36,
      "outputs": [
        {
          "output_type": "execute_result",
          "data": {
            "text/plain": [
              "4"
            ]
          },
          "metadata": {},
          "execution_count": 36
        }
      ]
    },
    {
      "cell_type": "code",
      "source": [
        "minmum_days([5,2,6])  # Expected: 4"
      ],
      "metadata": {
        "colab": {
          "base_uri": "https://localhost:8080/"
        },
        "id": "gQwdHpnQZ-MM",
        "outputId": "675fcf55-7dc7-4bd9-ea82-d9815dd02fb1"
      },
      "execution_count": 37,
      "outputs": [
        {
          "output_type": "execute_result",
          "data": {
            "text/plain": [
              "4"
            ]
          },
          "metadata": {},
          "execution_count": 37
        }
      ]
    },
    {
      "cell_type": "code",
      "source": [
        "minmum_days([8,7,6,4,3])  # Expected: 8"
      ],
      "metadata": {
        "colab": {
          "base_uri": "https://localhost:8080/"
        },
        "id": "rnrdCDgYaBTk",
        "outputId": "dd55682d-39a2-46be-8f87-6b007b13bd3d"
      },
      "execution_count": 38,
      "outputs": [
        {
          "output_type": "execute_result",
          "data": {
            "text/plain": [
              "8"
            ]
          },
          "metadata": {},
          "execution_count": 38
        }
      ]
    }
  ]
}