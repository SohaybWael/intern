{
  "nbformat": 4,
  "nbformat_minor": 0,
  "metadata": {
    "colab": {
      "provenance": []
    },
    "kernelspec": {
      "name": "python3",
      "display_name": "Python 3"
    },
    "language_info": {
      "name": "python"
    }
  },
  "cells": [
    {
      "cell_type": "markdown",
      "source": [
        "# **Number of Ways to Select Buildings**"
      ],
      "metadata": {
        "id": "OliOUhwSSy8O"
      }
    },
    {
      "cell_type": "code",
      "execution_count": 1,
      "metadata": {
        "id": "KhKCVT-mStiJ"
      },
      "outputs": [],
      "source": [
        "\n",
        "def numberOfWays(s):\n",
        "        c0, c1, c01, c10, c101, c010 = 0, 0, 0, 0, 0, 0\n",
        "        for c in s:\n",
        "            if c == '0':\n",
        "                c0 += 1\n",
        "                c10 += c1\n",
        "                c010 += c01\n",
        "            else:\n",
        "                c1 += 1\n",
        "                c01 += c0\n",
        "                c101 += c10\n",
        "\n",
        "        return c101 + c010\n"
      ]
    },
    {
      "cell_type": "code",
      "source": [
        "numberOfWays('001101')  # Expected: 6"
      ],
      "metadata": {
        "colab": {
          "base_uri": "https://localhost:8080/"
        },
        "id": "tQN3nNe8TEZQ",
        "outputId": "3c2f4490-6b46-4e26-decd-49464ff74b24"
      },
      "execution_count": 2,
      "outputs": [
        {
          "output_type": "execute_result",
          "data": {
            "text/plain": [
              "6"
            ]
          },
          "metadata": {},
          "execution_count": 2
        }
      ]
    },
    {
      "cell_type": "code",
      "source": [
        "numberOfWays('11100')  # Expected: 0"
      ],
      "metadata": {
        "colab": {
          "base_uri": "https://localhost:8080/"
        },
        "id": "VJofYysnTH_a",
        "outputId": "b7225b76-15dd-4c21-e849-7ae8f483e70f"
      },
      "execution_count": 3,
      "outputs": [
        {
          "output_type": "execute_result",
          "data": {
            "text/plain": [
              "0"
            ]
          },
          "metadata": {},
          "execution_count": 3
        }
      ]
    },
    {
      "cell_type": "code",
      "source": [
        "numberOfWays('110011')  # Expected: 8"
      ],
      "metadata": {
        "colab": {
          "base_uri": "https://localhost:8080/"
        },
        "id": "n5yGFHWmTKVU",
        "outputId": "099da9f5-5f32-4a74-b4d0-e4ed0a478c8d"
      },
      "execution_count": 4,
      "outputs": [
        {
          "output_type": "execute_result",
          "data": {
            "text/plain": [
              "8"
            ]
          },
          "metadata": {},
          "execution_count": 4
        }
      ]
    },
    {
      "cell_type": "code",
      "source": [
        "\n",
        "numberOfWays('1100110')  # Expected: 12"
      ],
      "metadata": {
        "colab": {
          "base_uri": "https://localhost:8080/"
        },
        "id": "seM0HlJJTM0S",
        "outputId": "de1fb92d-1aab-4ec5-f530-878112e7e541"
      },
      "execution_count": 5,
      "outputs": [
        {
          "output_type": "execute_result",
          "data": {
            "text/plain": [
              "12"
            ]
          },
          "metadata": {},
          "execution_count": 5
        }
      ]
    }
  ]
}