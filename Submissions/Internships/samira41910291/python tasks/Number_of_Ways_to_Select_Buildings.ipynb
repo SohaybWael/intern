{
  "nbformat": 4,
  "nbformat_minor": 0,
  "metadata": {
    "colab": {
      "provenance": []
    },
    "kernelspec": {
      "name": "python3",
      "display_name": "Python 3"
    },
    "language_info": {
      "name": "python"
    }
  },
  "cells": [
    {
      "cell_type": "code",
      "source": [
        "\n",
        "def numberOfWays(s):\n",
        "        c0, c1, c01, c10, c101, c010 = 0, 0, 0, 0, 0, 0\n",
        "        for c in s:\n",
        "            if c == '0':\n",
        "                c0 += 1\n",
        "                c10 += c1\n",
        "                c010 += c01\n",
        "            else:\n",
        "                c1 += 1\n",
        "                c01 += c0\n",
        "                c101 += c10\n",
        "\n",
        "        return c101 + c010\n",
        "s = \"001101\"\n",
        "#s = \"11100\"\n",
        "#s = \"110011\"\n",
        "#s = \"1100110\"\n",
        "result = numberOfWays(s)\n",
        "print(result)"
      ],
      "metadata": {
        "colab": {
          "base_uri": "https://localhost:8080/"
        },
        "id": "eG7pJhgGx29Z",
        "outputId": "a98fba51-e7f0-4370-cd98-52b8ead3bc0d"
      },
      "execution_count": 51,
      "outputs": [
        {
          "output_type": "stream",
          "name": "stdout",
          "text": [
            "6\n"
          ]
        }
      ]
    }
  ]
}