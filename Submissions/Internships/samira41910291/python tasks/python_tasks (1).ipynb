{
  "nbformat": 4,
  "nbformat_minor": 0,
  "metadata": {
    "colab": {
      "provenance": []
    },
    "kernelspec": {
      "name": "python3",
      "display_name": "Python 3"
    },
    "language_info": {
      "name": "python"
    }
  },
  "cells": [
    {
      "cell_type": "code",
      "source": [
        "def isRectangleOverlap(rec1, rec2):\n",
        "\n",
        "    if rec1[1][0] <= rec2[0][0] or rec2[1][0] <= rec1[0][0]:\n",
        "        return False\n",
        "\n",
        "\n",
        "    if rec1[1][1] <= rec2[0][1] or rec2[1][1] <= rec1[0][1]:\n",
        "        return False\n",
        "\n",
        "\n",
        "    return True\n",
        "\n",
        "# Example(1)\n",
        "rectangle1 = [[1,2],[3,4]]\n",
        "rectangle2 = [[2,1],[5,3]]\n",
        "\n",
        "result = isRectangleOverlap(rectangle1, rectangle2)\n",
        "print(result)"
      ],
      "metadata": {
        "colab": {
          "base_uri": "https://localhost:8080/"
        },
        "id": "RfOBokQZ1uG-",
        "outputId": "dcd15915-8da5-4eeb-fe20-1e441e07dd9a"
      },
      "execution_count": null,
      "outputs": [
        {
          "output_type": "stream",
          "name": "stdout",
          "text": [
            "True\n"
          ]
        }
      ]
    },
    {
      "cell_type": "code",
      "source": [
        "def isRectangleOverlap(rec1, rec2):\n",
        "\n",
        "    if rec1[1][0] <= rec2[0][0] or rec2[1][0] <= rec1[0][0]:\n",
        "        return False\n",
        "\n",
        "\n",
        "    if rec1[1][1] <= rec2[0][1] or rec2[1][1] <= rec1[0][1]:\n",
        "        return False\n",
        "\n",
        "\n",
        "    return True\n",
        "\n",
        "# Example(2)\n",
        "rectangle1 = [[3,2],[8,9]]\n",
        "rectangle2 = [[4,4],[6,7]]\n",
        "\n",
        "result = isRectangleOverlap(rectangle1, rectangle2)\n",
        "print(result)"
      ],
      "metadata": {
        "colab": {
          "base_uri": "https://localhost:8080/"
        },
        "id": "w7G4AE3J40u0",
        "outputId": "10d79f40-8376-4d41-981f-34b5d159375f"
      },
      "execution_count": null,
      "outputs": [
        {
          "output_type": "stream",
          "name": "stdout",
          "text": [
            "True\n"
          ]
        }
      ]
    },
    {
      "cell_type": "code",
      "source": [
        "def isRectangleOverlap(rec1, rec2):\n",
        "\n",
        "    if rec1[1][0] <= rec2[0][0] or rec2[1][0] <= rec1[0][0]:\n",
        "        return False\n",
        "\n",
        "\n",
        "    if rec1[1][1] <= rec2[0][1] or rec2[1][1] <= rec1[0][1]:\n",
        "        return False\n",
        "\n",
        "\n",
        "    return True\n",
        "\n",
        "# Example(3)\n",
        "rectangle1 = [[1,2],[3,4]]\n",
        "rectangle2 = [[11,1],[9,5]]\n",
        "\n",
        "result = isRectangleOverlap(rectangle1, rectangle2)\n",
        "print(result)"
      ],
      "metadata": {
        "colab": {
          "base_uri": "https://localhost:8080/"
        },
        "id": "XTGX3RNV5b0L",
        "outputId": "e91dc40d-4675-4269-d529-353d49602dff"
      },
      "execution_count": null,
      "outputs": [
        {
          "output_type": "stream",
          "name": "stdout",
          "text": [
            "False\n"
          ]
        }
      ]
    },
    {
      "cell_type": "markdown",
      "source": [
        "# **task(2): Longest_Peak**"
      ],
      "metadata": {
        "id": "H9z_q5_rX_eV"
      }
    },
    {
      "cell_type": "code",
      "source": [
        "def longest_peak(array):\n",
        "    n = len(array)\n",
        "    longest_peak_length = 0\n",
        "\n",
        "    i = 1\n",
        "    while i < n - 1:\n",
        "        is_peak = array[i - 1] < array[i] > array[i + 1]\n",
        "\n",
        "        if not is_peak:\n",
        "            i += 1\n",
        "            continue\n",
        "\n",
        "\n",
        "        left = i - 2\n",
        "        while left >= 0 and array[left] < array[left + 1]:\n",
        "            left -= 1\n",
        "\n",
        "\n",
        "        right = i + 2\n",
        "        while right < n and array[right] < array[right - 1]:\n",
        "            right += 1\n",
        "\n",
        "\n",
        "        if right - left > 2:\n",
        "\n",
        "            peak_length = right - left - 1\n",
        "            longest_peak_length = max(longest_peak_length, peak_length)\n",
        "\n",
        "\n",
        "        i = right\n",
        "\n",
        "    return longest_peak_length\n",
        "\n",
        "# Example usage:\n",
        "array = [1, 2, 3, 3, 4, 0, 10, 6, 5, -1, -3, 2, 3]\n",
        "#array = [1, 2, 3, 3, 4, 4, -3, 2, 3, 0]\n",
        "\n",
        "result = longest_peak(array)\n",
        "print(\"Length of the longest peak:\", result)\n"
      ],
      "metadata": {
        "colab": {
          "base_uri": "https://localhost:8080/"
        },
        "id": "nJrJeaYh65uf",
        "outputId": "22e085b9-62e2-48fe-de2f-369d0fce487b"
      },
      "execution_count": null,
      "outputs": [
        {
          "output_type": "stream",
          "name": "stdout",
          "text": [
            "Length of the longest peak: 6\n"
          ]
        }
      ]
    }
  ]
}