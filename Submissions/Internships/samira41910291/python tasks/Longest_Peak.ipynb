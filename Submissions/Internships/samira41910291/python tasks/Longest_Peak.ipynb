{
  "nbformat": 4,
  "nbformat_minor": 0,
  "metadata": {
    "colab": {
      "provenance": []
    },
    "kernelspec": {
      "name": "python3",
      "display_name": "Python 3"
    },
    "language_info": {
      "name": "python"
    }
  },
  "cells": [
    {
      "cell_type": "markdown",
      "source": [
        "# **Longest Peak**"
      ],
      "metadata": {
        "id": "J6CakOqQMB8D"
      }
    },
    {
      "cell_type": "code",
      "source": [
        "def longest_peak(array):\n",
        "    longest_peak = []\n",
        "\n",
        "    for i in range(1, len(array) - 1):\n",
        "        if array[i - 1] < array[i] > array[i + 1]:\n",
        "\n",
        "            j = i\n",
        "            left = []\n",
        "            while j > 0 and array[j - 1] < array[j]:\n",
        "                left.append(array[j - 1])\n",
        "                j -= 1\n",
        "\n",
        "\n",
        "            k = i\n",
        "            right = []\n",
        "            while k < len(array) - 1 and array[k + 1] < array[k]:\n",
        "                right.append(array[k + 1])\n",
        "                k += 1\n",
        "\n",
        "\n",
        "            current_peak = left + [array[i]] + right\n",
        "\n",
        "\n",
        "            if len(current_peak) > len(longest_peak):\n",
        "                longest_peak = current_peak\n",
        "\n",
        "    print('The length of the longest peak is:', len(longest_peak))\n",
        "    print('Peak itself:', longest_peak)"
      ],
      "metadata": {
        "id": "nNCSmeXfMfNl"
      },
      "execution_count": 5,
      "outputs": []
    },
    {
      "cell_type": "code",
      "source": [
        "longest_peak([1, 2, 3, 3, 4, 0, 10, 6, 5, -1, -3, 2, 3])  # Expected: 6  ([0, 10, 6, 5, -1, -3])"
      ],
      "metadata": {
        "colab": {
          "base_uri": "https://localhost:8080/"
        },
        "id": "S--AaJxhP7tX",
        "outputId": "a80499ad-f9cd-4593-aff8-33124bcfc1ac"
      },
      "execution_count": 7,
      "outputs": [
        {
          "output_type": "stream",
          "name": "stdout",
          "text": [
            "The length of the longest peak is: 6\n",
            "Peak itself: [0, 10, 6, 5, -1, -3]\n"
          ]
        }
      ]
    },
    {
      "cell_type": "code",
      "source": [
        "longest_peak([1, 2, 3, 3, 4, 4, -3, 2, 3, 0])"
      ],
      "metadata": {
        "colab": {
          "base_uri": "https://localhost:8080/"
        },
        "id": "r0h3W_UyQDo9",
        "outputId": "b1046f54-dd36-474e-dc06-0cc2c1e8643b"
      },
      "execution_count": 8,
      "outputs": [
        {
          "output_type": "stream",
          "name": "stdout",
          "text": [
            "The length of the longest peak is: 4\n",
            "Peak itself: [2, -3, 3, 0]\n"
          ]
        }
      ]
    }
  ]
}