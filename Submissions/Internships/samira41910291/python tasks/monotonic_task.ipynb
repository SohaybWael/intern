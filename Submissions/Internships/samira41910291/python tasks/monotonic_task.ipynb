{
  "nbformat": 4,
  "nbformat_minor": 0,
  "metadata": {
    "colab": {
      "provenance": []
    },
    "kernelspec": {
      "name": "python3",
      "display_name": "Python 3"
    },
    "language_info": {
      "name": "python"
    }
  },
  "cells": [
    {
      "cell_type": "code",
      "execution_count": 10,
      "metadata": {
        "colab": {
          "base_uri": "https://localhost:8080/"
        },
        "id": "whXsI-J5swAf",
        "outputId": "98d3cf7a-4940-42e8-e81d-facff168c073"
      },
      "outputs": [
        {
          "output_type": "stream",
          "name": "stdout",
          "text": [
            "True\n"
          ]
        }
      ],
      "source": [
        "def isMonotonic(array):\n",
        "  is_non_increasing = all(array[i] >=array[i+1]for i in range(len(array)-1))\n",
        "  is_non_decreasing = all(array[i] <=array[i+1]for i in range(len(array)-1))\n",
        "  return is_non_increasing or is_non_decreasing\n",
        "array1 = [-1, -5, -10, -1100, -1100, -1101, -1102, -9001]\n",
        "array2 = [1,2,2,3,6,15,15,15,15,89]\n",
        "array3 = [-8, -100, -101, -99, -500]\n",
        "print(isMonotonic(array1))"
      ]
    }
  ]
}