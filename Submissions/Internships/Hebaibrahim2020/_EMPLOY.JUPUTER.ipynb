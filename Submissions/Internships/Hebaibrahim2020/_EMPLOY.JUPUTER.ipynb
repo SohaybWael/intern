{
 "cells": [
  {
   "cell_type": "code",
   "execution_count": 419,
   "id": "b69589c7",
   "metadata": {},
   "outputs": [],
   "source": [
    "import numpy as np\n",
    "import pandas as pd\n",
    " \n",
    " "
   ]
  },
  {
   "cell_type": "code",
   "execution_count": 420,
   "id": "57522a7a",
   "metadata": {},
   "outputs": [],
   "source": [
    "data= pd.read_csv(\"C:\\\\Users\\\\LAPTOP\\\\OneDrive - Faculty of Computers and Information\\\\EM.csv\")\n"
   ]
  },
  {
   "cell_type": "code",
   "execution_count": 421,
   "id": "fe97fa3d",
   "metadata": {},
   "outputs": [
    {
     "data": {
      "text/html": [
       "<div>\n",
       "<style scoped>\n",
       "    .dataframe tbody tr th:only-of-type {\n",
       "        vertical-align: middle;\n",
       "    }\n",
       "\n",
       "    .dataframe tbody tr th {\n",
       "        vertical-align: top;\n",
       "    }\n",
       "\n",
       "    .dataframe thead th {\n",
       "        text-align: right;\n",
       "    }\n",
       "</style>\n",
       "<table border=\"1\" class=\"dataframe\">\n",
       "  <thead>\n",
       "    <tr style=\"text-align: right;\">\n",
       "      <th></th>\n",
       "      <th>Employee ID</th>\n",
       "      <th>Date of Joining</th>\n",
       "      <th>Gender</th>\n",
       "      <th>Company Type</th>\n",
       "      <th>WFH Setup Available</th>\n",
       "      <th>Designation</th>\n",
       "      <th>Resource Allocation</th>\n",
       "      <th>Mental Fatigue Score</th>\n",
       "      <th>Burn Rate</th>\n",
       "    </tr>\n",
       "  </thead>\n",
       "  <tbody>\n",
       "    <tr>\n",
       "      <th>0</th>\n",
       "      <td>fffe32003000360033003200</td>\n",
       "      <td>9/30/2008</td>\n",
       "      <td>Female</td>\n",
       "      <td>Service</td>\n",
       "      <td>No</td>\n",
       "      <td>2</td>\n",
       "      <td>3.0</td>\n",
       "      <td>3.8</td>\n",
       "      <td>0.16</td>\n",
       "    </tr>\n",
       "    <tr>\n",
       "      <th>1</th>\n",
       "      <td>fffe3700360033003500</td>\n",
       "      <td>11/30/2008</td>\n",
       "      <td>Male</td>\n",
       "      <td>Service</td>\n",
       "      <td>Yes</td>\n",
       "      <td>1</td>\n",
       "      <td>2.0</td>\n",
       "      <td>5.0</td>\n",
       "      <td>0.36</td>\n",
       "    </tr>\n",
       "    <tr>\n",
       "      <th>2</th>\n",
       "      <td>fffe31003300320037003900</td>\n",
       "      <td>3/10/2008</td>\n",
       "      <td>Female</td>\n",
       "      <td>Product</td>\n",
       "      <td>Yes</td>\n",
       "      <td>2</td>\n",
       "      <td>NaN</td>\n",
       "      <td>5.8</td>\n",
       "      <td>0.49</td>\n",
       "    </tr>\n",
       "    <tr>\n",
       "      <th>3</th>\n",
       "      <td>fffe32003400380032003900</td>\n",
       "      <td>11/3/2008</td>\n",
       "      <td>Male</td>\n",
       "      <td>Service</td>\n",
       "      <td>Yes</td>\n",
       "      <td>1</td>\n",
       "      <td>1.0</td>\n",
       "      <td>2.6</td>\n",
       "      <td>0.20</td>\n",
       "    </tr>\n",
       "    <tr>\n",
       "      <th>4</th>\n",
       "      <td>fffe31003900340031003600</td>\n",
       "      <td>7/24/2008</td>\n",
       "      <td>Female</td>\n",
       "      <td>Service</td>\n",
       "      <td>No</td>\n",
       "      <td>3</td>\n",
       "      <td>7.0</td>\n",
       "      <td>6.9</td>\n",
       "      <td>0.52</td>\n",
       "    </tr>\n",
       "  </tbody>\n",
       "</table>\n",
       "</div>"
      ],
      "text/plain": [
       "                Employee ID Date of Joining  Gender Company Type  \\\n",
       "0  fffe32003000360033003200       9/30/2008  Female      Service   \n",
       "1      fffe3700360033003500      11/30/2008    Male      Service   \n",
       "2  fffe31003300320037003900       3/10/2008  Female      Product   \n",
       "3  fffe32003400380032003900       11/3/2008    Male      Service   \n",
       "4  fffe31003900340031003600       7/24/2008  Female      Service   \n",
       "\n",
       "  WFH Setup Available  Designation  Resource Allocation  Mental Fatigue Score  \\\n",
       "0                  No            2                  3.0                   3.8   \n",
       "1                 Yes            1                  2.0                   5.0   \n",
       "2                 Yes            2                  NaN                   5.8   \n",
       "3                 Yes            1                  1.0                   2.6   \n",
       "4                  No            3                  7.0                   6.9   \n",
       "\n",
       "   Burn Rate  \n",
       "0       0.16  \n",
       "1       0.36  \n",
       "2       0.49  \n",
       "3       0.20  \n",
       "4       0.52  "
      ]
     },
     "execution_count": 421,
     "metadata": {},
     "output_type": "execute_result"
    }
   ],
   "source": [
    "data.head()"
   ]
  },
  {
   "cell_type": "code",
   "execution_count": 422,
   "id": "8b72755d",
   "metadata": {},
   "outputs": [
    {
     "data": {
      "text/html": [
       "<div>\n",
       "<style scoped>\n",
       "    .dataframe tbody tr th:only-of-type {\n",
       "        vertical-align: middle;\n",
       "    }\n",
       "\n",
       "    .dataframe tbody tr th {\n",
       "        vertical-align: top;\n",
       "    }\n",
       "\n",
       "    .dataframe thead th {\n",
       "        text-align: right;\n",
       "    }\n",
       "</style>\n",
       "<table border=\"1\" class=\"dataframe\">\n",
       "  <thead>\n",
       "    <tr style=\"text-align: right;\">\n",
       "      <th></th>\n",
       "      <th>Designation</th>\n",
       "      <th>Resource Allocation</th>\n",
       "      <th>Mental Fatigue Score</th>\n",
       "      <th>Burn Rate</th>\n",
       "    </tr>\n",
       "  </thead>\n",
       "  <tbody>\n",
       "    <tr>\n",
       "      <th>count</th>\n",
       "      <td>22750.000000</td>\n",
       "      <td>21369.000000</td>\n",
       "      <td>20633.000000</td>\n",
       "      <td>21626.000000</td>\n",
       "    </tr>\n",
       "    <tr>\n",
       "      <th>mean</th>\n",
       "      <td>2.178725</td>\n",
       "      <td>4.481398</td>\n",
       "      <td>5.728188</td>\n",
       "      <td>0.452005</td>\n",
       "    </tr>\n",
       "    <tr>\n",
       "      <th>std</th>\n",
       "      <td>1.135145</td>\n",
       "      <td>2.047211</td>\n",
       "      <td>1.920839</td>\n",
       "      <td>0.198226</td>\n",
       "    </tr>\n",
       "    <tr>\n",
       "      <th>min</th>\n",
       "      <td>0.000000</td>\n",
       "      <td>1.000000</td>\n",
       "      <td>0.000000</td>\n",
       "      <td>0.000000</td>\n",
       "    </tr>\n",
       "    <tr>\n",
       "      <th>25%</th>\n",
       "      <td>1.000000</td>\n",
       "      <td>3.000000</td>\n",
       "      <td>4.600000</td>\n",
       "      <td>0.310000</td>\n",
       "    </tr>\n",
       "    <tr>\n",
       "      <th>50%</th>\n",
       "      <td>2.000000</td>\n",
       "      <td>4.000000</td>\n",
       "      <td>5.900000</td>\n",
       "      <td>0.450000</td>\n",
       "    </tr>\n",
       "    <tr>\n",
       "      <th>75%</th>\n",
       "      <td>3.000000</td>\n",
       "      <td>6.000000</td>\n",
       "      <td>7.100000</td>\n",
       "      <td>0.590000</td>\n",
       "    </tr>\n",
       "    <tr>\n",
       "      <th>max</th>\n",
       "      <td>5.000000</td>\n",
       "      <td>10.000000</td>\n",
       "      <td>10.000000</td>\n",
       "      <td>1.000000</td>\n",
       "    </tr>\n",
       "  </tbody>\n",
       "</table>\n",
       "</div>"
      ],
      "text/plain": [
       "        Designation  Resource Allocation  Mental Fatigue Score     Burn Rate\n",
       "count  22750.000000         21369.000000          20633.000000  21626.000000\n",
       "mean       2.178725             4.481398              5.728188      0.452005\n",
       "std        1.135145             2.047211              1.920839      0.198226\n",
       "min        0.000000             1.000000              0.000000      0.000000\n",
       "25%        1.000000             3.000000              4.600000      0.310000\n",
       "50%        2.000000             4.000000              5.900000      0.450000\n",
       "75%        3.000000             6.000000              7.100000      0.590000\n",
       "max        5.000000            10.000000             10.000000      1.000000"
      ]
     },
     "execution_count": 422,
     "metadata": {},
     "output_type": "execute_result"
    }
   ],
   "source": [
    "data.describe()"
   ]
  },
  {
   "cell_type": "code",
   "execution_count": 423,
   "id": "2f9f37e7",
   "metadata": {},
   "outputs": [
    {
     "data": {
      "text/plain": [
       "Employee ID                0\n",
       "Date of Joining            0\n",
       "Gender                     0\n",
       "Company Type               0\n",
       "WFH Setup Available        0\n",
       "Designation                0\n",
       "Resource Allocation     1381\n",
       "Mental Fatigue Score    2117\n",
       "Burn Rate               1124\n",
       "dtype: int64"
      ]
     },
     "execution_count": 423,
     "metadata": {},
     "output_type": "execute_result"
    }
   ],
   "source": [
    "data.isnull().sum()"
   ]
  },
  {
   "cell_type": "code",
   "execution_count": 424,
   "id": "212a70ac",
   "metadata": {},
   "outputs": [],
   "source": [
    "data=data.drop(\"Employee ID\",axis=1)\n",
    " "
   ]
  },
  {
   "cell_type": "code",
   "execution_count": 425,
   "id": "5b602a1d",
   "metadata": {},
   "outputs": [
    {
     "data": {
      "text/plain": [
       "Date of Joining            0\n",
       "Gender                     0\n",
       "Company Type               0\n",
       "WFH Setup Available        0\n",
       "Designation                0\n",
       "Resource Allocation     1381\n",
       "Mental Fatigue Score    2117\n",
       "Burn Rate               1124\n",
       "dtype: int64"
      ]
     },
     "execution_count": 425,
     "metadata": {},
     "output_type": "execute_result"
    }
   ],
   "source": [
    "data.isnull().sum()"
   ]
  },
  {
   "cell_type": "code",
   "execution_count": 426,
   "id": "fcb9c84f",
   "metadata": {},
   "outputs": [],
   "source": [
    "data = data.dropna(how='any',axis=0) \n",
    " "
   ]
  },
  {
   "cell_type": "code",
   "execution_count": 427,
   "id": "b5aaed67",
   "metadata": {},
   "outputs": [
    {
     "data": {
      "text/html": [
       "<div>\n",
       "<style scoped>\n",
       "    .dataframe tbody tr th:only-of-type {\n",
       "        vertical-align: middle;\n",
       "    }\n",
       "\n",
       "    .dataframe tbody tr th {\n",
       "        vertical-align: top;\n",
       "    }\n",
       "\n",
       "    .dataframe thead th {\n",
       "        text-align: right;\n",
       "    }\n",
       "</style>\n",
       "<table border=\"1\" class=\"dataframe\">\n",
       "  <thead>\n",
       "    <tr style=\"text-align: right;\">\n",
       "      <th></th>\n",
       "      <th>Designation</th>\n",
       "      <th>Resource Allocation</th>\n",
       "      <th>Mental Fatigue Score</th>\n",
       "      <th>Burn Rate</th>\n",
       "      <th>Date of Joining_1/10/2008</th>\n",
       "      <th>Date of Joining_1/11/2008</th>\n",
       "      <th>Date of Joining_1/12/2008</th>\n",
       "      <th>Date of Joining_1/13/2008</th>\n",
       "      <th>Date of Joining_1/14/2008</th>\n",
       "      <th>Date of Joining_1/15/2008</th>\n",
       "      <th>...</th>\n",
       "      <th>Date of Joining_9/30/2008</th>\n",
       "      <th>Date of Joining_9/4/2008</th>\n",
       "      <th>Date of Joining_9/5/2008</th>\n",
       "      <th>Date of Joining_9/6/2008</th>\n",
       "      <th>Date of Joining_9/7/2008</th>\n",
       "      <th>Date of Joining_9/8/2008</th>\n",
       "      <th>Date of Joining_9/9/2008</th>\n",
       "      <th>Gender_Male</th>\n",
       "      <th>Company Type_Service</th>\n",
       "      <th>WFH Setup Available_Yes</th>\n",
       "    </tr>\n",
       "  </thead>\n",
       "  <tbody>\n",
       "    <tr>\n",
       "      <th>0</th>\n",
       "      <td>2</td>\n",
       "      <td>3.0</td>\n",
       "      <td>3.8</td>\n",
       "      <td>0.16</td>\n",
       "      <td>0</td>\n",
       "      <td>0</td>\n",
       "      <td>0</td>\n",
       "      <td>0</td>\n",
       "      <td>0</td>\n",
       "      <td>0</td>\n",
       "      <td>...</td>\n",
       "      <td>1</td>\n",
       "      <td>0</td>\n",
       "      <td>0</td>\n",
       "      <td>0</td>\n",
       "      <td>0</td>\n",
       "      <td>0</td>\n",
       "      <td>0</td>\n",
       "      <td>0</td>\n",
       "      <td>1</td>\n",
       "      <td>0</td>\n",
       "    </tr>\n",
       "    <tr>\n",
       "      <th>1</th>\n",
       "      <td>1</td>\n",
       "      <td>2.0</td>\n",
       "      <td>5.0</td>\n",
       "      <td>0.36</td>\n",
       "      <td>0</td>\n",
       "      <td>0</td>\n",
       "      <td>0</td>\n",
       "      <td>0</td>\n",
       "      <td>0</td>\n",
       "      <td>0</td>\n",
       "      <td>...</td>\n",
       "      <td>0</td>\n",
       "      <td>0</td>\n",
       "      <td>0</td>\n",
       "      <td>0</td>\n",
       "      <td>0</td>\n",
       "      <td>0</td>\n",
       "      <td>0</td>\n",
       "      <td>1</td>\n",
       "      <td>1</td>\n",
       "      <td>1</td>\n",
       "    </tr>\n",
       "    <tr>\n",
       "      <th>3</th>\n",
       "      <td>1</td>\n",
       "      <td>1.0</td>\n",
       "      <td>2.6</td>\n",
       "      <td>0.20</td>\n",
       "      <td>0</td>\n",
       "      <td>0</td>\n",
       "      <td>0</td>\n",
       "      <td>0</td>\n",
       "      <td>0</td>\n",
       "      <td>0</td>\n",
       "      <td>...</td>\n",
       "      <td>0</td>\n",
       "      <td>0</td>\n",
       "      <td>0</td>\n",
       "      <td>0</td>\n",
       "      <td>0</td>\n",
       "      <td>0</td>\n",
       "      <td>0</td>\n",
       "      <td>1</td>\n",
       "      <td>1</td>\n",
       "      <td>1</td>\n",
       "    </tr>\n",
       "    <tr>\n",
       "      <th>4</th>\n",
       "      <td>3</td>\n",
       "      <td>7.0</td>\n",
       "      <td>6.9</td>\n",
       "      <td>0.52</td>\n",
       "      <td>0</td>\n",
       "      <td>0</td>\n",
       "      <td>0</td>\n",
       "      <td>0</td>\n",
       "      <td>0</td>\n",
       "      <td>0</td>\n",
       "      <td>...</td>\n",
       "      <td>0</td>\n",
       "      <td>0</td>\n",
       "      <td>0</td>\n",
       "      <td>0</td>\n",
       "      <td>0</td>\n",
       "      <td>0</td>\n",
       "      <td>0</td>\n",
       "      <td>0</td>\n",
       "      <td>1</td>\n",
       "      <td>0</td>\n",
       "    </tr>\n",
       "    <tr>\n",
       "      <th>5</th>\n",
       "      <td>2</td>\n",
       "      <td>4.0</td>\n",
       "      <td>3.6</td>\n",
       "      <td>0.29</td>\n",
       "      <td>0</td>\n",
       "      <td>0</td>\n",
       "      <td>0</td>\n",
       "      <td>0</td>\n",
       "      <td>0</td>\n",
       "      <td>0</td>\n",
       "      <td>...</td>\n",
       "      <td>0</td>\n",
       "      <td>0</td>\n",
       "      <td>0</td>\n",
       "      <td>0</td>\n",
       "      <td>0</td>\n",
       "      <td>0</td>\n",
       "      <td>0</td>\n",
       "      <td>1</td>\n",
       "      <td>0</td>\n",
       "      <td>1</td>\n",
       "    </tr>\n",
       "  </tbody>\n",
       "</table>\n",
       "<p>5 rows × 372 columns</p>\n",
       "</div>"
      ],
      "text/plain": [
       "   Designation  Resource Allocation  Mental Fatigue Score  Burn Rate  \\\n",
       "0            2                  3.0                   3.8       0.16   \n",
       "1            1                  2.0                   5.0       0.36   \n",
       "3            1                  1.0                   2.6       0.20   \n",
       "4            3                  7.0                   6.9       0.52   \n",
       "5            2                  4.0                   3.6       0.29   \n",
       "\n",
       "   Date of Joining_1/10/2008  Date of Joining_1/11/2008  \\\n",
       "0                          0                          0   \n",
       "1                          0                          0   \n",
       "3                          0                          0   \n",
       "4                          0                          0   \n",
       "5                          0                          0   \n",
       "\n",
       "   Date of Joining_1/12/2008  Date of Joining_1/13/2008  \\\n",
       "0                          0                          0   \n",
       "1                          0                          0   \n",
       "3                          0                          0   \n",
       "4                          0                          0   \n",
       "5                          0                          0   \n",
       "\n",
       "   Date of Joining_1/14/2008  Date of Joining_1/15/2008  ...  \\\n",
       "0                          0                          0  ...   \n",
       "1                          0                          0  ...   \n",
       "3                          0                          0  ...   \n",
       "4                          0                          0  ...   \n",
       "5                          0                          0  ...   \n",
       "\n",
       "   Date of Joining_9/30/2008  Date of Joining_9/4/2008  \\\n",
       "0                          1                         0   \n",
       "1                          0                         0   \n",
       "3                          0                         0   \n",
       "4                          0                         0   \n",
       "5                          0                         0   \n",
       "\n",
       "   Date of Joining_9/5/2008  Date of Joining_9/6/2008  \\\n",
       "0                         0                         0   \n",
       "1                         0                         0   \n",
       "3                         0                         0   \n",
       "4                         0                         0   \n",
       "5                         0                         0   \n",
       "\n",
       "   Date of Joining_9/7/2008  Date of Joining_9/8/2008  \\\n",
       "0                         0                         0   \n",
       "1                         0                         0   \n",
       "3                         0                         0   \n",
       "4                         0                         0   \n",
       "5                         0                         0   \n",
       "\n",
       "   Date of Joining_9/9/2008  Gender_Male  Company Type_Service  \\\n",
       "0                         0            0                     1   \n",
       "1                         0            1                     1   \n",
       "3                         0            1                     1   \n",
       "4                         0            0                     1   \n",
       "5                         0            1                     0   \n",
       "\n",
       "   WFH Setup Available_Yes  \n",
       "0                        0  \n",
       "1                        1  \n",
       "3                        1  \n",
       "4                        0  \n",
       "5                        1  \n",
       "\n",
       "[5 rows x 372 columns]"
      ]
     },
     "execution_count": 427,
     "metadata": {},
     "output_type": "execute_result"
    }
   ],
   "source": [
    "dum=pd.get_dummies(data,drop_first=True)\n",
    "dum.head()"
   ]
  },
  {
   "cell_type": "code",
   "execution_count": 428,
   "id": "5a62f0fe",
   "metadata": {},
   "outputs": [
    {
     "name": "stdout",
     "output_type": "stream",
     "text": [
      "0        0.725965\n",
      "1        0.725965\n",
      "2        0.725965\n",
      "3        0.725965\n",
      "4       -1.377477\n",
      "           ...   \n",
      "18585   -1.377477\n",
      "18586   -1.377477\n",
      "18587   -1.377477\n",
      "18588    0.725965\n",
      "18589   -1.377477\n",
      "Name: Company Type_Service, Length: 18590, dtype: float64\n"
     ]
    }
   ],
   "source": [
    "##scaling for data\n",
    "from sklearn.preprocessing import StandardScaler\n",
    "standard_scaler = StandardScaler()\n",
    "\n",
    "dum= pd.DataFrame(standard_scaler.fit_transform(dum), columns=dum.columns)\n",
    "print(dum.iloc[:,370]) \n",
    " "
   ]
  },
  {
   "cell_type": "code",
   "execution_count": 429,
   "id": "33ad9dfb",
   "metadata": {},
   "outputs": [],
   "source": [
    "cols = dum.shape[1]\n",
    "x1 = dum.iloc[:, list(range(3)) + list(range(4, 372))]\n",
    "y = dum.iloc[:,3]\n",
    " "
   ]
  },
  {
   "cell_type": "code",
   "execution_count": 430,
   "id": "aa96ac99",
   "metadata": {},
   "outputs": [],
   "source": [
    "x= np.matrix(x1.values)  \n",
    "y= np.matrix(y.values)\n",
    "y= y.reshape(-1,1)\n",
    "  "
   ]
  },
  {
   "cell_type": "code",
   "execution_count": 431,
   "id": "033c86ab",
   "metadata": {},
   "outputs": [],
   "source": [
    "from sklearn.model_selection import train_test_split\n",
    "\n",
    "X_train, X_test, y_train, y_test = train_test_split(x, y, test_size=0.3, random_state=42)\n",
    " "
   ]
  },
  {
   "cell_type": "code",
   "execution_count": 432,
   "id": "264b17c5",
   "metadata": {},
   "outputs": [],
   "source": [
    "## variance threshold\n",
    "\n",
    "from sklearn.feature_selection import VarianceThreshold\n",
    "from sklearn.metrics import mean_squared_error\n",
    "\n",
    "from sklearn.linear_model import LinearRegression\n",
    "\n",
    "\n",
    "variance_threshold  =.001 \n",
    "selector = VarianceThreshold(threshold=variance_threshold)\n",
    "\n",
    "X_train_selected = selector.fit_transform(X_train)\n",
    "X_test_selected = selector.transform(X_test)\n",
    "\n",
    "  "
   ]
  },
  {
   "cell_type": "code",
   "execution_count": 433,
   "id": "481dc367",
   "metadata": {},
   "outputs": [
    {
     "name": "stdout",
     "output_type": "stream",
     "text": [
      "[[-0.98070375]\n",
      " [-0.2222779 ]\n",
      " [-0.49432113]\n",
      " ...\n",
      " [-0.49356378]\n",
      " [ 1.50855042]\n",
      " [-0.56596136]]\n"
     ]
    }
   ],
   "source": [
    "model = LinearRegression()\n",
    "model.fit(X_train_selected, y_train)\n",
    "y_pred = model.predict(X_test_selected)\n",
    "print(y_pred )\n",
    " "
   ]
  },
  {
   "cell_type": "code",
   "execution_count": 434,
   "id": "4bf6974d",
   "metadata": {},
   "outputs": [
    {
     "name": "stdout",
     "output_type": "stream",
     "text": [
      "Mean Squared Error: 0.08047886860579534\n",
      "[[-1.37707858]\n",
      " [-0.82108005]\n",
      " [-0.4672628 ]\n",
      " ...\n",
      " [-0.31562684]\n",
      " [ 2.16109387]\n",
      " [-0.31562684]]\n"
     ]
    }
   ],
   "source": [
    "mse = mean_squared_error(y_test, y_pred)\n",
    "print(f\"Mean Squared Error: {mse}\")\n",
    "print(y_test )\n"
   ]
  },
  {
   "cell_type": "code",
   "execution_count": 435,
   "id": "b6ecb882",
   "metadata": {},
   "outputs": [
    {
     "name": "stdout",
     "output_type": "stream",
     "text": [
      "test 0.9185824574485179\n",
      "train 0.9228615350724965\n"
     ]
    }
   ],
   "source": [
    "score_test=model.score(X_test_selected  ,y_test)\n",
    "print(\"test\",score_test)\n",
    "score_train=model.score(X_train_selected,y_train  )\n",
    "print(\"train\",score_train)"
   ]
  },
  {
   "cell_type": "code",
   "execution_count": 436,
   "id": "34af41aa",
   "metadata": {},
   "outputs": [],
   "source": [
    "### select the most features is correlation with target output\n",
    "\n",
    "\n",
    "import statsmodels.api as sm\n",
    "X = sm.add_constant(x)\n",
    "model = sm.OLS(y, X)\n",
    "results = model.fit()\n",
    "\n",
    " "
   ]
  },
  {
   "cell_type": "code",
   "execution_count": 437,
   "id": "da499ed2",
   "metadata": {},
   "outputs": [
    {
     "name": "stdout",
     "output_type": "stream",
     "text": [
      "Significant Features: ['feature_1', 'feature_2', 'feature_3', 'feature_369', 'feature_371']\n"
     ]
    }
   ],
   "source": [
    "X_df = pd.DataFrame(X, columns=['const'] + [f'feature_{i}' for i in range(1, X.shape[1])])\n",
    "p_values = results.pvalues[1:]   \n",
    "feature_names = X_df.columns[1:]   \n",
    "significant_features = [feature for feature, p_value in zip(feature_names, p_values) if p_value < 0.05]\n",
    "\n",
    "print(\"Significant Features:\", significant_features)"
   ]
  },
  {
   "cell_type": "code",
   "execution_count": 438,
   "id": "7aaf22f7",
   "metadata": {},
   "outputs": [],
   "source": [
    "x2=x1[[\"Designation\",\"Resource Allocation\",\"Mental Fatigue Score\",\"WFH Setup Available_Yes\",\"Company Type_Service\"]]\n",
    "x_features_input=np.matrix(x2.values)\n",
    " "
   ]
  },
  {
   "cell_type": "code",
   "execution_count": 439,
   "id": "aa0ef231",
   "metadata": {},
   "outputs": [],
   "source": [
    "X_train, X_test, y_train, y_test = train_test_split(x_features_input, y, test_size=0.3, random_state=42)\n"
   ]
  },
  {
   "cell_type": "code",
   "execution_count": 440,
   "id": "4d88c558",
   "metadata": {},
   "outputs": [
    {
     "name": "stdout",
     "output_type": "stream",
     "text": [
      "[[-1.04366041]\n",
      " [-0.29192999]\n",
      " [-0.47959529]\n",
      " ...\n",
      " [-0.52667381]\n",
      " [ 1.5035972 ]\n",
      " [-0.60030523]]\n"
     ]
    }
   ],
   "source": [
    "from sklearn.linear_model import LinearRegression\n",
    "model = LinearRegression()\n",
    "model.fit(X_train, y_train)\n",
    "y_pred = model.predict(X_test)\n",
    "print(y_pred )\n",
    " "
   ]
  },
  {
   "cell_type": "code",
   "execution_count": 441,
   "id": "40c3415f",
   "metadata": {},
   "outputs": [
    {
     "name": "stdout",
     "output_type": "stream",
     "text": [
      "Mean Squared Error: 0.0785945724424124\n"
     ]
    }
   ],
   "source": [
    "mse = mean_squared_error(y_test, y_pred)\n",
    "print(f\"Mean Squared Error: {mse}\")\n",
    " "
   ]
  },
  {
   "cell_type": "code",
   "execution_count": 442,
   "id": "8e7ff19a",
   "metadata": {},
   "outputs": [
    {
     "name": "stdout",
     "output_type": "stream",
     "text": [
      "test 0.9204887313030036\n",
      "train 0.9205543470511655\n"
     ]
    }
   ],
   "source": [
    "score_test=model.score(X_test   ,y_test)\n",
    "print(\"test\",score_test)\n",
    "score_train=model.score(X_train ,y_train  )\n",
    "print(\"train\",score_train)"
   ]
  },
  {
   "cell_type": "code",
   "execution_count": null,
   "id": "cf7f6606",
   "metadata": {},
   "outputs": [],
   "source": []
  },
  {
   "cell_type": "code",
   "execution_count": null,
   "id": "5061ea4a",
   "metadata": {},
   "outputs": [],
   "source": []
  },
  {
   "cell_type": "code",
   "execution_count": null,
   "id": "f2e62998",
   "metadata": {},
   "outputs": [],
   "source": []
  }
 ],
 "metadata": {
  "kernelspec": {
   "display_name": "Python 3",
   "language": "python",
   "name": "python3"
  },
  "language_info": {
   "codemirror_mode": {
    "name": "ipython",
    "version": 3
   },
   "file_extension": ".py",
   "mimetype": "text/x-python",
   "name": "python",
   "nbconvert_exporter": "python",
   "pygments_lexer": "ipython3",
   "version": "3.8.8"
  }
 },
 "nbformat": 4,
 "nbformat_minor": 5
}
