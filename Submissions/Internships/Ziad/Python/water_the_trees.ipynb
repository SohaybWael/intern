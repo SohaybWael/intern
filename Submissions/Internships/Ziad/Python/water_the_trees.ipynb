{
 "cells": [
  {
   "cell_type": "markdown",
   "id": "2f7fd661",
   "metadata": {
    "id": "2f7fd661"
   },
   "source": [
    "<center>\n",
    "    <H1>\n",
    "        Water the Trees\n",
    "    </H1>\n",
    "</center>\n",
    "\n",
    "<hr style=\"height:2px\">\n",
    "\n",
    "<center>\n",
    "    <H3>\n",
    "        Problem\n",
    "    </H3>\n",
    "</center>\n",
    "\n",
    "There are $n$ trees in a park, numbered from $1$ to $n$. The initial height of the $i$-th tree is $h_i$.\n",
    "\n",
    "You want to water these trees, so they all grow to the same height. The watering process goes as follows. You start watering trees at day 1. During the $j$-th day you can:\n",
    "\n",
    "- Choose a tree and water it. If the day is odd (e.g. $1$,$3$,$5$,$7$,…), then the height of the tree increases by $1$. If the day is even (e.g. $2$,$4$,$6$,$8$,…), then the height of the tree increases by $2$.\n",
    "- Or skip a day without watering any tree.\n",
    "\n",
    "Note that you can't water more than one tree in a day.\n",
    "\n",
    "<BR>\n",
    "<p style=\"font-weight: bold; text-align: center\">\n",
    "Write a function that takes in an array of <code>n</code> trees (integers) and returns <BR><u>the minimum number of days required to water the trees so that they grow to the same height</u>.\n",
    "</p>\n",
    "<BR>\n",
    "\n",
    "<hr style=\"height:2px\">\n",
    "\n",
    "<center>\n",
    "    <H3>\n",
    "        Sample Inputs & Outputs\n",
    "    </H3>\n",
    "</center>\n",
    "\n",
    "Sample input(s) and output(s) are given below. Note that the examples below are not exhaustive and that we will try your solution on other examples that are held back for verification later. Do try to account for as many cases as you can. Good Luck!\n",
    "\n",
    "#### Example 1\n",
    "```\n",
    "Input: array = [1, 2, 4]\n",
    "Output: 4\n",
    "Explanation:\n",
    "    - Initial state is [1, 2, 4]\n",
    "    - On day 1, water the 1st tree (grows to 2). Sequence is now [2, 2, 4].\n",
    "    - On day 2, water the 2nd tree, (grows to 4). Sequence is now [2, 4, 4].\n",
    "    - On day 3, skip.\n",
    "    - On day 4, water the 1st tree (grows to 4). Sequence is now [4, 4, 4].\n",
    "```\n",
    "\n",
    "#### Example 2\n",
    "```\n",
    "Input: array = [4, 4, 3, 5, 5]\n",
    "Output: 3\n",
    "```\n",
    "\n",
    "#### Example 3\n",
    "```\n",
    "Input: array = [2, 5, 4, 8, 3, 7, 4]\n",
    "Output: 16\n",
    "```\n",
    "\n",
    "<hr style=\"height:2px\">"
   ]
  },
  {
   "cell_type": "markdown",
   "id": "474d5c43",
   "metadata": {
    "id": "474d5c43"
   },
   "source": [
    "Please fill in the function below, then try your solution on the examples given at the bottom of this notebook.\n",
    "\n",
    "**Do NOT import or use any external libraries. AVOID `import` statements in your solution (e.g. `import numpy as np`).\n",
    "Use only base Python functions and pre-loaded libraries.**\n",
    "\n",
    "*You are free to add your own helper functions to be called by the function below.*\n",
    "\n",
    "Examples of functions/methods that you may use:\n",
    "   - min()\n",
    "   - max()\n",
    "   - len()\n",
    "   - type()\n",
    "   - range()\n",
    "   - reversed()\n",
    "   - list.sort()\n",
    "   - list.append()\n",
    "   - list.extend()\n",
    "   - list.pop()\n",
    "   - list.remove()"
   ]
  },
  {
   "cell_type": "code",
   "execution_count": 30,
   "id": "6d291f34",
   "metadata": {
    "id": "6d291f34"
   },
   "outputs": [],
   "source": [
    "def minimumDays(L):\n",
    "\n",
    "    def find_days (L):\n",
    "        Max = max(L)\n",
    "        ones_element , twos_element = 0 ,0\n",
    "        for i in L :\n",
    "            ones_element += (Max - i) % 2\n",
    "            twos_element += (Max - i) //2\n",
    "        if ones_element > twos_element :\n",
    "            return ones_element *2-1\n",
    "        elif  ones_element == twos_element :\n",
    "            return ones_element *2\n",
    "        twos_element = (twos_element -ones_element ) * 2\n",
    "        return ones_element * 2 + twos_element // 3 * 2 + twos_element % 3\n",
    "\n",
    "\n",
    "    Max =max (L)\n",
    "    return find_days(L)\n",
    "\n"
   ]
  },
  {
   "cell_type": "code",
   "execution_count": 31,
   "id": "c5651741",
   "metadata": {
    "id": "c5651741",
    "outputId": "dcf120a8-c086-48f8-96fd-9e79baa85212"
   },
   "outputs": [
    {
     "data": {
      "text/plain": [
       "4"
      ]
     },
     "execution_count": 31,
     "metadata": {},
     "output_type": "execute_result"
    }
   ],
   "source": [
    "minimumDays([1, 2, 4])  # Expected: 4"
   ]
  },
  {
   "cell_type": "code",
   "execution_count": 32,
   "id": "12d02f9d",
   "metadata": {
    "id": "12d02f9d",
    "outputId": "14f79eea-72b3-4600-a4b1-8989294ef676"
   },
   "outputs": [
    {
     "data": {
      "text/plain": [
       "3"
      ]
     },
     "execution_count": 32,
     "metadata": {},
     "output_type": "execute_result"
    }
   ],
   "source": [
    "minimumDays([4, 4, 3, 5, 5])  # Expected: 3"
   ]
  },
  {
   "cell_type": "code",
   "execution_count": 33,
   "id": "d7b681a0",
   "metadata": {
    "id": "d7b681a0",
    "outputId": "02b9deb3-9c7a-4bff-a0a1-6d14b035dec2"
   },
   "outputs": [
    {
     "data": {
      "text/plain": [
       "16"
      ]
     },
     "execution_count": 33,
     "metadata": {},
     "output_type": "execute_result"
    }
   ],
   "source": [
    "minimumDays([2, 5, 4, 8, 3, 7, 4])  # Expected: 16"
   ]
  },
  {
   "cell_type": "code",
   "execution_count": 34,
   "id": "1c5651e0",
   "metadata": {
    "id": "1c5651e0",
    "outputId": "189aafb9-d437-4506-f234-f2661a0dd132"
   },
   "outputs": [
    {
     "data": {
      "text/plain": [
       "3"
      ]
     },
     "execution_count": 34,
     "metadata": {},
     "output_type": "execute_result"
    }
   ],
   "source": [
    "minimumDays([4,3,1])  # Expected: 3\n"
   ]
  },
  {
   "cell_type": "code",
   "execution_count": 35,
   "id": "909730e1",
   "metadata": {
    "id": "909730e1",
    "outputId": "40d170a1-4439-4c49-a60e-11aa35cad754"
   },
   "outputs": [
    {
     "data": {
      "text/plain": [
       "4"
      ]
     },
     "execution_count": 35,
     "metadata": {},
     "output_type": "execute_result"
    }
   ],
   "source": [
    "minimumDays([5,4,1])  # Expected: 4\n"
   ]
  },
  {
   "cell_type": "code",
   "execution_count": 36,
   "id": "71341302",
   "metadata": {
    "id": "71341302",
    "outputId": "c6186e34-e3b4-4bf5-e6b8-9de94ec61bda"
   },
   "outputs": [
    {
     "data": {
      "text/plain": [
       "4"
      ]
     },
     "execution_count": 36,
     "metadata": {},
     "output_type": "execute_result"
    }
   ],
   "source": [
    "minimumDays([6,5,2])  # Expected: 4\n"
   ]
  },
  {
   "cell_type": "code",
   "execution_count": 37,
   "id": "a2d3d0ee",
   "metadata": {
    "id": "a2d3d0ee",
    "outputId": "f13b383e-1a82-41c8-bd34-779c0d3298f7"
   },
   "outputs": [
    {
     "data": {
      "text/plain": [
       "4"
      ]
     },
     "execution_count": 37,
     "metadata": {},
     "output_type": "execute_result"
    }
   ],
   "source": [
    "minimumDays([5,2,6])  # Expected: 4\n"
   ]
  },
  {
   "cell_type": "code",
   "execution_count": 38,
   "id": "679bbaf0",
   "metadata": {
    "id": "679bbaf0",
    "outputId": "c24c2f4c-51c6-451f-c2b6-a5123da166d1"
   },
   "outputs": [
    {
     "data": {
      "text/plain": [
       "8"
      ]
     },
     "execution_count": 38,
     "metadata": {},
     "output_type": "execute_result"
    }
   ],
   "source": [
    "minimumDays([8,7,6,4,3])  # Expected: 8"
   ]
  },
  {
   "cell_type": "code",
   "execution_count": null,
   "id": "2af8de02",
   "metadata": {},
   "outputs": [],
   "source": []
  }
 ],
 "metadata": {
  "colab": {
   "provenance": []
  },
  "kernelspec": {
   "display_name": "Python 3 (ipykernel)",
   "language": "python",
   "name": "python3"
  },
  "language_info": {
   "codemirror_mode": {
    "name": "ipython",
    "version": 3
   },
   "file_extension": ".py",
   "mimetype": "text/x-python",
   "name": "python",
   "nbconvert_exporter": "python",
   "pygments_lexer": "ipython3",
   "version": "3.11.4"
  }
 },
 "nbformat": 4,
 "nbformat_minor": 5
}
