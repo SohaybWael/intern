{
 "cells": [
  {
   "cell_type": "code",
   "execution_count": 1,
   "id": "d396b207",
   "metadata": {},
   "outputs": [],
   "source": [
    "import numpy as np\n",
    "import pandas as pd\n",
    "from scipy.stats import boxcox \n",
    "import seaborn as sns\n",
    "import matplotlib.pyplot as plt\n",
    "from sklearn.preprocessing import StandardScaler\n",
    "from sklearn.metrics import mean_squared_error ,r2_score\n",
    "from sklearn.model_selection import train_test_split \n",
    "from sklearn.linear_model import LinearRegression\n",
    "from pandas.plotting import scatter_matrix\n",
    "from sklearn.feature_selection import RFE\n",
    "from sklearn.base import BaseEstimator, RegressorMixin"
   ]
  },
  {
   "cell_type": "code",
   "execution_count": 2,
   "id": "43badcdc",
   "metadata": {},
   "outputs": [],
   "source": [
    "class CustomGradientDescent(BaseEstimator, RegressorMixin):\n",
    "    def __init__(self, learning_rate=0.01, n_iterations=1000, alpha=None):\n",
    "        self.learning_rate = learning_rate\n",
    "        self.n_iterations = n_iterations\n",
    "        self.theta = None  # Initialize theta in fit method\n",
    "        self.alpha = alpha  # Initialize alpha\n",
    "\n",
    "    def fit(self, X, y, n_iter=None, alpha=None):\n",
    "        if n_iter is not None:\n",
    "            self.n_iterations = n_iter\n",
    "        if alpha is not None:\n",
    "            self.alpha = alpha if alpha is not None else 0.01  # Set alpha here\n",
    "\n",
    "        X = np.array(X)\n",
    "        y = np.array(y).reshape(-1, 1)\n",
    "        num_of_features = X.shape[1]\n",
    "        X_b = np.c_[np.ones((X.shape[0], 1)), X]\n",
    "        theta = np.random.rand(num_of_features + 1, 1)\n",
    "\n",
    "        for i in range(self.n_iterations):\n",
    "            gradients = (2/X.shape[0]) * X_b.T.dot(X_b.dot(theta) - y)\n",
    "            theta = theta - self.alpha * gradients\n",
    "        self.theta = theta\n",
    "        return self\n",
    "\n",
    "    def stochastic_GD(self, X, y, n_iter, alpha):\n",
    "        X = np.array(X)\n",
    "        y = np.array(y).reshape(-1, 1)\n",
    "        num_of_features = X.shape[1]\n",
    "        X_b = np.c_[np.ones((X.shape[0], 1)), X]\n",
    "        theta = np.random.rand(num_of_features + 1, 1)\n",
    "\n",
    "        for j in range(n_iter):\n",
    "            for i in range(X.shape[0]):\n",
    "                random_idx = np.random.randint(X.shape[0])\n",
    "                xi = X_b[random_idx:random_idx+1]\n",
    "                yi = y[random_idx:random_idx+1]\n",
    "                gradients = 2 * xi.T.dot(xi.dot(theta) - yi)\n",
    "                theta = theta - alpha * gradients\n",
    "        self.theta = theta\n",
    "        return self\n",
    "\n",
    "    def predict(self, X):\n",
    "        X_b = np.c_[np.ones((X.shape[0], 1)), X]\n",
    "        return X_b.dot(self.theta)\n",
    "\n",
    "    @property\n",
    "    def coef_(self):\n",
    "        return self.theta[1:].flatten()\n",
    "\n",
    "# Wrapper class with coef_ attribute\n",
    "class CustomGradientDescentWrapper(CustomGradientDescent):\n",
    "    @property\n",
    "    def coef_(self):\n",
    "        return self.theta[1:].flatten()\n"
   ]
  },
  {
   "cell_type": "code",
   "execution_count": 3,
   "id": "23e4a056",
   "metadata": {},
   "outputs": [],
   "source": [
    "def gradient_descent(X,Y,n_iter,alpha):\n",
    "    X = np.array(X)\n",
    "    Y = np.array(Y).reshape(-1, 1)  # Ensure Y has shape (m, 1)\n",
    "    num_of_features = X.shape[1]\n",
    "    X_b = np.c_[np.ones((X.shape[0], 1)), X]\n",
    "    theta = np.random.rand(num_of_features + 1, 1)\n",
    "\n",
    "    for i in range(n_iter):\n",
    "        gradients = (2/X.shape[0]) * X_b.T.dot(X_b.dot(theta) - Y)\n",
    "        theta = theta -  alpha * gradients\n",
    "        \n",
    "    return theta"
   ]
  },
  {
   "cell_type": "code",
   "execution_count": 4,
   "id": "e7059efa",
   "metadata": {},
   "outputs": [],
   "source": [
    "def stochastic_GD(X, Y, n_iter, alpha):\n",
    "    X = np.array(X)\n",
    "    Y = np.array(Y).reshape(-1, 1)\n",
    "    num_of_features = X.shape[1]\n",
    "    X_b = np.c_[np.ones((X.shape[0], 1)), X]\n",
    "    theta = np.random.rand(num_of_features + 1, 1)\n",
    "\n",
    "    for j in range(n_iter):\n",
    "        for i in range(X.shape[0]):\n",
    "            random_idx = np.random.randint(X.shape[0])\n",
    "            xi = X_b[random_idx:random_idx+1]\n",
    "            yi = Y[random_idx:random_idx+1]\n",
    "            gradients = 2 * xi.T.dot(xi.dot(theta) - yi)\n",
    "            theta = theta - alpha * gradients\n",
    "    return theta\n",
    "    "
   ]
  },
  {
   "cell_type": "code",
   "execution_count": 5,
   "id": "1df4a40c",
   "metadata": {},
   "outputs": [],
   "source": [
    "def predict(X,theta):\n",
    "    X_b = np.c_[np.ones((X.shape[0], 1)), X]\n",
    "    return X_b.dot(theta)"
   ]
  },
  {
   "cell_type": "code",
   "execution_count": 6,
   "id": "c2a31e61",
   "metadata": {},
   "outputs": [],
   "source": [
    "# loading data \n",
    "df = pd.read_csv('F:\\Matrials\\CORELIA Internship\\ML tasks\\EmployeeBurnout1.csv')"
   ]
  },
  {
   "cell_type": "code",
   "execution_count": 7,
   "id": "f1807833",
   "metadata": {},
   "outputs": [
    {
     "data": {
      "text/html": [
       "<div>\n",
       "<style scoped>\n",
       "    .dataframe tbody tr th:only-of-type {\n",
       "        vertical-align: middle;\n",
       "    }\n",
       "\n",
       "    .dataframe tbody tr th {\n",
       "        vertical-align: top;\n",
       "    }\n",
       "\n",
       "    .dataframe thead th {\n",
       "        text-align: right;\n",
       "    }\n",
       "</style>\n",
       "<table border=\"1\" class=\"dataframe\">\n",
       "  <thead>\n",
       "    <tr style=\"text-align: right;\">\n",
       "      <th></th>\n",
       "      <th>Employee ID</th>\n",
       "      <th>Date of Joining</th>\n",
       "      <th>Gender</th>\n",
       "      <th>Company Type</th>\n",
       "      <th>WFH Setup Available</th>\n",
       "      <th>Designation</th>\n",
       "      <th>Resource Allocation</th>\n",
       "      <th>Mental Fatigue Score</th>\n",
       "      <th>Burn Rate</th>\n",
       "    </tr>\n",
       "  </thead>\n",
       "  <tbody>\n",
       "    <tr>\n",
       "      <th>0</th>\n",
       "      <td>fffe32003000360033003200</td>\n",
       "      <td>9/30/2008</td>\n",
       "      <td>Female</td>\n",
       "      <td>Service</td>\n",
       "      <td>No</td>\n",
       "      <td>2</td>\n",
       "      <td>3.0</td>\n",
       "      <td>3.8</td>\n",
       "      <td>0.16</td>\n",
       "    </tr>\n",
       "    <tr>\n",
       "      <th>1</th>\n",
       "      <td>fffe3700360033003500</td>\n",
       "      <td>11/30/2008</td>\n",
       "      <td>Male</td>\n",
       "      <td>Service</td>\n",
       "      <td>Yes</td>\n",
       "      <td>1</td>\n",
       "      <td>2.0</td>\n",
       "      <td>5.0</td>\n",
       "      <td>0.36</td>\n",
       "    </tr>\n",
       "    <tr>\n",
       "      <th>2</th>\n",
       "      <td>fffe31003300320037003900</td>\n",
       "      <td>3/10/2008</td>\n",
       "      <td>Female</td>\n",
       "      <td>Product</td>\n",
       "      <td>Yes</td>\n",
       "      <td>2</td>\n",
       "      <td>NaN</td>\n",
       "      <td>5.8</td>\n",
       "      <td>0.49</td>\n",
       "    </tr>\n",
       "    <tr>\n",
       "      <th>3</th>\n",
       "      <td>fffe32003400380032003900</td>\n",
       "      <td>11/3/2008</td>\n",
       "      <td>Male</td>\n",
       "      <td>Service</td>\n",
       "      <td>Yes</td>\n",
       "      <td>1</td>\n",
       "      <td>1.0</td>\n",
       "      <td>2.6</td>\n",
       "      <td>0.20</td>\n",
       "    </tr>\n",
       "    <tr>\n",
       "      <th>4</th>\n",
       "      <td>fffe31003900340031003600</td>\n",
       "      <td>7/24/2008</td>\n",
       "      <td>Female</td>\n",
       "      <td>Service</td>\n",
       "      <td>No</td>\n",
       "      <td>3</td>\n",
       "      <td>7.0</td>\n",
       "      <td>6.9</td>\n",
       "      <td>0.52</td>\n",
       "    </tr>\n",
       "    <tr>\n",
       "      <th>5</th>\n",
       "      <td>fffe3300350037003500</td>\n",
       "      <td>11/26/2008</td>\n",
       "      <td>Male</td>\n",
       "      <td>Product</td>\n",
       "      <td>Yes</td>\n",
       "      <td>2</td>\n",
       "      <td>4.0</td>\n",
       "      <td>3.6</td>\n",
       "      <td>0.29</td>\n",
       "    </tr>\n",
       "    <tr>\n",
       "      <th>6</th>\n",
       "      <td>fffe33003300340039003100</td>\n",
       "      <td>1/2/2008</td>\n",
       "      <td>Female</td>\n",
       "      <td>Service</td>\n",
       "      <td>No</td>\n",
       "      <td>3</td>\n",
       "      <td>6.0</td>\n",
       "      <td>7.9</td>\n",
       "      <td>0.62</td>\n",
       "    </tr>\n",
       "    <tr>\n",
       "      <th>7</th>\n",
       "      <td>fffe32003600320037003400</td>\n",
       "      <td>10/31/2008</td>\n",
       "      <td>Female</td>\n",
       "      <td>Service</td>\n",
       "      <td>Yes</td>\n",
       "      <td>2</td>\n",
       "      <td>4.0</td>\n",
       "      <td>4.4</td>\n",
       "      <td>0.33</td>\n",
       "    </tr>\n",
       "    <tr>\n",
       "      <th>8</th>\n",
       "      <td>fffe32003200300034003700</td>\n",
       "      <td>12/27/2008</td>\n",
       "      <td>Female</td>\n",
       "      <td>Service</td>\n",
       "      <td>No</td>\n",
       "      <td>3</td>\n",
       "      <td>6.0</td>\n",
       "      <td>NaN</td>\n",
       "      <td>0.56</td>\n",
       "    </tr>\n",
       "    <tr>\n",
       "      <th>9</th>\n",
       "      <td>fffe31003600320030003200</td>\n",
       "      <td>3/9/2008</td>\n",
       "      <td>Female</td>\n",
       "      <td>Product</td>\n",
       "      <td>No</td>\n",
       "      <td>3</td>\n",
       "      <td>6.0</td>\n",
       "      <td>NaN</td>\n",
       "      <td>0.67</td>\n",
       "    </tr>\n",
       "    <tr>\n",
       "      <th>10</th>\n",
       "      <td>fffe33003100330032003700</td>\n",
       "      <td>3/16/2008</td>\n",
       "      <td>Male</td>\n",
       "      <td>Product</td>\n",
       "      <td>Yes</td>\n",
       "      <td>2</td>\n",
       "      <td>3.0</td>\n",
       "      <td>5.3</td>\n",
       "      <td>0.50</td>\n",
       "    </tr>\n",
       "    <tr>\n",
       "      <th>11</th>\n",
       "      <td>fffe3400310035003800</td>\n",
       "      <td>5/12/2008</td>\n",
       "      <td>Male</td>\n",
       "      <td>Service</td>\n",
       "      <td>Yes</td>\n",
       "      <td>0</td>\n",
       "      <td>1.0</td>\n",
       "      <td>1.8</td>\n",
       "      <td>0.12</td>\n",
       "    </tr>\n",
       "    <tr>\n",
       "      <th>12</th>\n",
       "      <td>fffe32003100300030003700</td>\n",
       "      <td>1/20/2008</td>\n",
       "      <td>Male</td>\n",
       "      <td>Service</td>\n",
       "      <td>Yes</td>\n",
       "      <td>2</td>\n",
       "      <td>5.0</td>\n",
       "      <td>NaN</td>\n",
       "      <td>0.40</td>\n",
       "    </tr>\n",
       "    <tr>\n",
       "      <th>13</th>\n",
       "      <td>fffe31003800330032003500</td>\n",
       "      <td>2/23/2008</td>\n",
       "      <td>Female</td>\n",
       "      <td>Product</td>\n",
       "      <td>No</td>\n",
       "      <td>1</td>\n",
       "      <td>3.0</td>\n",
       "      <td>NaN</td>\n",
       "      <td>0.33</td>\n",
       "    </tr>\n",
       "    <tr>\n",
       "      <th>14</th>\n",
       "      <td>fffe33003100330036003300</td>\n",
       "      <td>5/14/2008</td>\n",
       "      <td>Male</td>\n",
       "      <td>Product</td>\n",
       "      <td>Yes</td>\n",
       "      <td>1</td>\n",
       "      <td>3.0</td>\n",
       "      <td>5.8</td>\n",
       "      <td>0.51</td>\n",
       "    </tr>\n",
       "    <tr>\n",
       "      <th>15</th>\n",
       "      <td>fffe31003700350033003100</td>\n",
       "      <td>2/3/2008</td>\n",
       "      <td>Female</td>\n",
       "      <td>Service</td>\n",
       "      <td>Yes</td>\n",
       "      <td>3</td>\n",
       "      <td>5.0</td>\n",
       "      <td>4.7</td>\n",
       "      <td>0.32</td>\n",
       "    </tr>\n",
       "    <tr>\n",
       "      <th>16</th>\n",
       "      <td>fffe33003200360037003000</td>\n",
       "      <td>3/17/2008</td>\n",
       "      <td>Male</td>\n",
       "      <td>Service</td>\n",
       "      <td>Yes</td>\n",
       "      <td>1</td>\n",
       "      <td>2.0</td>\n",
       "      <td>5.9</td>\n",
       "      <td>0.39</td>\n",
       "    </tr>\n",
       "    <tr>\n",
       "      <th>17</th>\n",
       "      <td>fffe31003500350030003400</td>\n",
       "      <td>3/28/2008</td>\n",
       "      <td>Male</td>\n",
       "      <td>Service</td>\n",
       "      <td>No</td>\n",
       "      <td>3</td>\n",
       "      <td>6.0</td>\n",
       "      <td>6.7</td>\n",
       "      <td>0.59</td>\n",
       "    </tr>\n",
       "    <tr>\n",
       "      <th>18</th>\n",
       "      <td>fffe31003000380035003800</td>\n",
       "      <td>5/29/2008</td>\n",
       "      <td>Female</td>\n",
       "      <td>Product</td>\n",
       "      <td>Yes</td>\n",
       "      <td>2</td>\n",
       "      <td>4.0</td>\n",
       "      <td>4.0</td>\n",
       "      <td>0.22</td>\n",
       "    </tr>\n",
       "    <tr>\n",
       "      <th>19</th>\n",
       "      <td>fffe3300350037003200</td>\n",
       "      <td>6/27/2008</td>\n",
       "      <td>Female</td>\n",
       "      <td>Service</td>\n",
       "      <td>No</td>\n",
       "      <td>3</td>\n",
       "      <td>5.0</td>\n",
       "      <td>NaN</td>\n",
       "      <td>0.68</td>\n",
       "    </tr>\n",
       "  </tbody>\n",
       "</table>\n",
       "</div>"
      ],
      "text/plain": [
       "                 Employee ID Date of Joining  Gender Company Type  \\\n",
       "0   fffe32003000360033003200       9/30/2008  Female      Service   \n",
       "1       fffe3700360033003500      11/30/2008    Male      Service   \n",
       "2   fffe31003300320037003900       3/10/2008  Female      Product   \n",
       "3   fffe32003400380032003900       11/3/2008    Male      Service   \n",
       "4   fffe31003900340031003600       7/24/2008  Female      Service   \n",
       "5       fffe3300350037003500      11/26/2008    Male      Product   \n",
       "6   fffe33003300340039003100        1/2/2008  Female      Service   \n",
       "7   fffe32003600320037003400      10/31/2008  Female      Service   \n",
       "8   fffe32003200300034003700      12/27/2008  Female      Service   \n",
       "9   fffe31003600320030003200        3/9/2008  Female      Product   \n",
       "10  fffe33003100330032003700       3/16/2008    Male      Product   \n",
       "11      fffe3400310035003800       5/12/2008    Male      Service   \n",
       "12  fffe32003100300030003700       1/20/2008    Male      Service   \n",
       "13  fffe31003800330032003500       2/23/2008  Female      Product   \n",
       "14  fffe33003100330036003300       5/14/2008    Male      Product   \n",
       "15  fffe31003700350033003100        2/3/2008  Female      Service   \n",
       "16  fffe33003200360037003000       3/17/2008    Male      Service   \n",
       "17  fffe31003500350030003400       3/28/2008    Male      Service   \n",
       "18  fffe31003000380035003800       5/29/2008  Female      Product   \n",
       "19      fffe3300350037003200       6/27/2008  Female      Service   \n",
       "\n",
       "   WFH Setup Available  Designation  Resource Allocation  \\\n",
       "0                   No            2                  3.0   \n",
       "1                  Yes            1                  2.0   \n",
       "2                  Yes            2                  NaN   \n",
       "3                  Yes            1                  1.0   \n",
       "4                   No            3                  7.0   \n",
       "5                  Yes            2                  4.0   \n",
       "6                   No            3                  6.0   \n",
       "7                  Yes            2                  4.0   \n",
       "8                   No            3                  6.0   \n",
       "9                   No            3                  6.0   \n",
       "10                 Yes            2                  3.0   \n",
       "11                 Yes            0                  1.0   \n",
       "12                 Yes            2                  5.0   \n",
       "13                  No            1                  3.0   \n",
       "14                 Yes            1                  3.0   \n",
       "15                 Yes            3                  5.0   \n",
       "16                 Yes            1                  2.0   \n",
       "17                  No            3                  6.0   \n",
       "18                 Yes            2                  4.0   \n",
       "19                  No            3                  5.0   \n",
       "\n",
       "    Mental Fatigue Score  Burn Rate  \n",
       "0                    3.8       0.16  \n",
       "1                    5.0       0.36  \n",
       "2                    5.8       0.49  \n",
       "3                    2.6       0.20  \n",
       "4                    6.9       0.52  \n",
       "5                    3.6       0.29  \n",
       "6                    7.9       0.62  \n",
       "7                    4.4       0.33  \n",
       "8                    NaN       0.56  \n",
       "9                    NaN       0.67  \n",
       "10                   5.3       0.50  \n",
       "11                   1.8       0.12  \n",
       "12                   NaN       0.40  \n",
       "13                   NaN       0.33  \n",
       "14                   5.8       0.51  \n",
       "15                   4.7       0.32  \n",
       "16                   5.9       0.39  \n",
       "17                   6.7       0.59  \n",
       "18                   4.0       0.22  \n",
       "19                   NaN       0.68  "
      ]
     },
     "execution_count": 7,
     "metadata": {},
     "output_type": "execute_result"
    }
   ],
   "source": [
    "df.head(20)"
   ]
  },
  {
   "cell_type": "code",
   "execution_count": 8,
   "id": "be2ebee6",
   "metadata": {},
   "outputs": [
    {
     "data": {
      "text/plain": [
       "Employee ID                0\n",
       "Date of Joining            0\n",
       "Gender                     0\n",
       "Company Type               0\n",
       "WFH Setup Available        0\n",
       "Designation                0\n",
       "Resource Allocation     1381\n",
       "Mental Fatigue Score    2117\n",
       "Burn Rate               1124\n",
       "dtype: int64"
      ]
     },
     "execution_count": 8,
     "metadata": {},
     "output_type": "execute_result"
    }
   ],
   "source": [
    "df.isna().sum()"
   ]
  },
  {
   "cell_type": "code",
   "execution_count": 9,
   "id": "5c5e6b72",
   "metadata": {},
   "outputs": [
    {
     "name": "stdout",
     "output_type": "stream",
     "text": [
      "<class 'pandas.core.frame.DataFrame'>\n",
      "RangeIndex: 22750 entries, 0 to 22749\n",
      "Data columns (total 9 columns):\n",
      " #   Column                Non-Null Count  Dtype  \n",
      "---  ------                --------------  -----  \n",
      " 0   Employee ID           22750 non-null  object \n",
      " 1   Date of Joining       22750 non-null  object \n",
      " 2   Gender                22750 non-null  object \n",
      " 3   Company Type          22750 non-null  object \n",
      " 4   WFH Setup Available   22750 non-null  object \n",
      " 5   Designation           22750 non-null  int64  \n",
      " 6   Resource Allocation   21369 non-null  float64\n",
      " 7   Mental Fatigue Score  20633 non-null  float64\n",
      " 8   Burn Rate             21626 non-null  float64\n",
      "dtypes: float64(3), int64(1), object(5)\n",
      "memory usage: 1.6+ MB\n"
     ]
    }
   ],
   "source": [
    "df.info()"
   ]
  },
  {
   "cell_type": "markdown",
   "id": "253810c8",
   "metadata": {},
   "source": [
    "### Outliers detection"
   ]
  },
  {
   "cell_type": "code",
   "execution_count": 10,
   "id": "8e6ec10b",
   "metadata": {
    "scrolled": true
   },
   "outputs": [
    {
     "data": {
      "image/png": "[encoded data removed]",
      "text/plain": [
       "<Figure size 432x288 with 1 Axes>"
      ]
     },
     "metadata": {
      "needs_background": "light"
     },
     "output_type": "display_data"
    }
   ],
   "source": [
    "# checking ou;iers in Designation\n",
    "sns.boxplot(x=df['Designation'])\n",
    "plt.show()"
   ]
  },
  {
   "cell_type": "code",
   "execution_count": 11,
   "id": "590bb83b",
   "metadata": {},
   "outputs": [
    {
     "name": "stderr",
     "output_type": "stream",
     "text": [
      "C:\\Users\\01272\\anaconda3\\lib\\site-packages\\seaborn\\distributions.py:2619: FutureWarning: `distplot` is a deprecated function and will be removed in a future version. Please adapt your code to use either `displot` (a figure-level function with similar flexibility) or `kdeplot` (an axes-level function for kernel density plots).\n",
      "  warnings.warn(msg, FutureWarning)\n"
     ]
    },
    {
     "data": {
      "image/png": "[encoded data removed]",
      "text/plain": [
       "<Figure size 432x288 with 1 Axes>"
      ]
     },
     "metadata": {
      "needs_background": "light"
     },
     "output_type": "display_data"
    }
   ],
   "source": [
    "sns.distplot(df['Designation'],hist=False,kde=True)\n",
    "plt.show()"
   ]
  },
  {
   "cell_type": "code",
   "execution_count": 12,
   "id": "57b03a73",
   "metadata": {
    "scrolled": true
   },
   "outputs": [
    {
     "data": {
      "image/png": "[encoded data removed]",
      "text/plain": [
       "<Figure size 432x288 with 1 Axes>"
      ]
     },
     "metadata": {
      "needs_background": "light"
     },
     "output_type": "display_data"
    }
   ],
   "source": [
    "# checking ou;iers in Resource Allocation\n",
    "sns.boxplot(x=df['Resource Allocation'])\n",
    "plt.show()"
   ]
  },
  {
   "cell_type": "code",
   "execution_count": 13,
   "id": "dbac3ced",
   "metadata": {},
   "outputs": [
    {
     "name": "stderr",
     "output_type": "stream",
     "text": [
      "C:\\Users\\01272\\anaconda3\\lib\\site-packages\\seaborn\\distributions.py:2619: FutureWarning: `distplot` is a deprecated function and will be removed in a future version. Please adapt your code to use either `displot` (a figure-level function with similar flexibility) or `kdeplot` (an axes-level function for kernel density plots).\n",
      "  warnings.warn(msg, FutureWarning)\n"
     ]
    },
    {
     "data": {
      "image/png": "[encoded data removed]",
      "text/plain": [
       "<Figure size 432x288 with 1 Axes>"
      ]
     },
     "metadata": {
      "needs_background": "light"
     },
     "output_type": "display_data"
    }
   ],
   "source": [
    "sns.distplot(df['Resource Allocation'],hist=False,kde=True)\n",
    "plt.show()"
   ]
  },
  {
   "cell_type": "code",
   "execution_count": 14,
   "id": "37f2c2f4",
   "metadata": {},
   "outputs": [
    {
     "data": {
      "image/png": "[encoded data removed]",
      "text/plain": [
       "<Figure size 432x288 with 1 Axes>"
      ]
     },
     "metadata": {
      "needs_background": "light"
     },
     "output_type": "display_data"
    }
   ],
   "source": [
    "# checking ou;iers in Mental Fatigue Score\n",
    "sns.boxplot(x=df['Mental Fatigue Score'])\n",
    "plt.show()"
   ]
  },
  {
   "cell_type": "code",
   "execution_count": 15,
   "id": "ee2a2d66",
   "metadata": {},
   "outputs": [
    {
     "name": "stderr",
     "output_type": "stream",
     "text": [
      "C:\\Users\\01272\\anaconda3\\lib\\site-packages\\seaborn\\distributions.py:2619: FutureWarning: `distplot` is a deprecated function and will be removed in a future version. Please adapt your code to use either `displot` (a figure-level function with similar flexibility) or `kdeplot` (an axes-level function for kernel density plots).\n",
      "  warnings.warn(msg, FutureWarning)\n"
     ]
    },
    {
     "data": {
      "image/png": "[encoded data removed]",
      "text/plain": [
       "<Figure size 432x288 with 1 Axes>"
      ]
     },
     "metadata": {
      "needs_background": "light"
     },
     "output_type": "display_data"
    }
   ],
   "source": [
    "sns.distplot(df['Mental Fatigue Score'],hist=False,kde=True)\n",
    "plt.show()"
   ]
  },
  {
   "cell_type": "code",
   "execution_count": 16,
   "id": "849169f0",
   "metadata": {
    "scrolled": true
   },
   "outputs": [
    {
     "data": {
      "image/png": "[encoded data removed]",
      "text/plain": [
       "<Figure size 432x288 with 1 Axes>"
      ]
     },
     "metadata": {
      "needs_background": "light"
     },
     "output_type": "display_data"
    }
   ],
   "source": [
    "# checking ou;iers in Burn Rate\n",
    "sns.boxplot(x=df['Burn Rate'])\n",
    "plt.show()"
   ]
  },
  {
   "cell_type": "code",
   "execution_count": 17,
   "id": "96a192d4",
   "metadata": {},
   "outputs": [
    {
     "name": "stderr",
     "output_type": "stream",
     "text": [
      "C:\\Users\\01272\\anaconda3\\lib\\site-packages\\seaborn\\distributions.py:2619: FutureWarning: `distplot` is a deprecated function and will be removed in a future version. Please adapt your code to use either `displot` (a figure-level function with similar flexibility) or `kdeplot` (an axes-level function for kernel density plots).\n",
      "  warnings.warn(msg, FutureWarning)\n"
     ]
    },
    {
     "data": {
      "image/png": "[encoded data removed]",
      "text/plain": [
       "<Figure size 432x288 with 1 Axes>"
      ]
     },
     "metadata": {
      "needs_background": "light"
     },
     "output_type": "display_data"
    }
   ],
   "source": [
    "sns.distplot(df['Burn Rate'],hist=False,kde=True)\n",
    "plt.show()"
   ]
  },
  {
   "cell_type": "code",
   "execution_count": 18,
   "id": "6bc4aee4",
   "metadata": {},
   "outputs": [
    {
     "data": {
      "text/plain": [
       "\"\\ndf['Mental Fatigue Score'] = np.log10(df['Mental Fatigue Score'])\\n\\n\""
      ]
     },
     "execution_count": 18,
     "metadata": {},
     "output_type": "execute_result"
    }
   ],
   "source": [
    "'''\n",
    "trnsformed_data , best_lambda = boxcox(df['Mental Fatigue Score']+5, method='pearsonr')\n",
    "'''\n",
    "'''\n",
    "df['Mental Fatigue Score'] = np.log10(df['Mental Fatigue Score'])\n",
    "\n",
    "'''"
   ]
  },
  {
   "cell_type": "markdown",
   "id": "7eef4e92",
   "metadata": {},
   "source": [
    "### filling nan values"
   ]
  },
  {
   "cell_type": "code",
   "execution_count": 19,
   "id": "d6c9f5ab",
   "metadata": {},
   "outputs": [],
   "source": [
    "df['Designation'].fillna(df['Designation'].mean() , inplace=True)"
   ]
  },
  {
   "cell_type": "code",
   "execution_count": 20,
   "id": "94302867",
   "metadata": {},
   "outputs": [],
   "source": [
    "df['Resource Allocation'].fillna(df['Resource Allocation'].mean(),inplace=True)"
   ]
  },
  {
   "cell_type": "code",
   "execution_count": 21,
   "id": "6e984743",
   "metadata": {},
   "outputs": [],
   "source": [
    "df['Mental Fatigue Score'].fillna(df['Mental Fatigue Score'].median(),inplace=True)"
   ]
  },
  {
   "cell_type": "code",
   "execution_count": 22,
   "id": "092bbd5e",
   "metadata": {},
   "outputs": [],
   "source": [
    "df['Burn Rate'].fillna(df['Burn Rate'].mean(),inplace=True)"
   ]
  },
  {
   "cell_type": "code",
   "execution_count": 23,
   "id": "c1c97c5f",
   "metadata": {},
   "outputs": [
    {
     "data": {
      "text/plain": [
       "Employee ID             0\n",
       "Date of Joining         0\n",
       "Gender                  0\n",
       "Company Type            0\n",
       "WFH Setup Available     0\n",
       "Designation             0\n",
       "Resource Allocation     0\n",
       "Mental Fatigue Score    0\n",
       "Burn Rate               0\n",
       "dtype: int64"
      ]
     },
     "execution_count": 23,
     "metadata": {},
     "output_type": "execute_result"
    }
   ],
   "source": [
    "df.isna().sum()"
   ]
  },
  {
   "cell_type": "markdown",
   "id": "6cd146b8",
   "metadata": {},
   "source": [
    "### encoding categorical data"
   ]
  },
  {
   "cell_type": "code",
   "execution_count": 24,
   "id": "5231e625",
   "metadata": {},
   "outputs": [
    {
     "name": "stdout",
     "output_type": "stream",
     "text": [
      "<class 'pandas.core.frame.DataFrame'>\n",
      "RangeIndex: 22750 entries, 0 to 22749\n",
      "Data columns (total 9 columns):\n",
      " #   Column                Non-Null Count  Dtype  \n",
      "---  ------                --------------  -----  \n",
      " 0   Employee ID           22750 non-null  object \n",
      " 1   Date of Joining       22750 non-null  object \n",
      " 2   Gender                22750 non-null  object \n",
      " 3   Company Type          22750 non-null  object \n",
      " 4   WFH Setup Available   22750 non-null  object \n",
      " 5   Designation           22750 non-null  int64  \n",
      " 6   Resource Allocation   22750 non-null  float64\n",
      " 7   Mental Fatigue Score  22750 non-null  float64\n",
      " 8   Burn Rate             22750 non-null  float64\n",
      "dtypes: float64(3), int64(1), object(5)\n",
      "memory usage: 1.6+ MB\n"
     ]
    }
   ],
   "source": [
    "df.info()"
   ]
  },
  {
   "cell_type": "code",
   "execution_count": 25,
   "id": "192e0b52",
   "metadata": {},
   "outputs": [
    {
     "data": {
      "text/plain": [
       "array(['Service', 'Product'], dtype=object)"
      ]
     },
     "execution_count": 25,
     "metadata": {},
     "output_type": "execute_result"
    }
   ],
   "source": [
    "df['Company Type'].unique()"
   ]
  },
  {
   "cell_type": "code",
   "execution_count": 26,
   "id": "da746b5c",
   "metadata": {},
   "outputs": [],
   "source": [
    "df = df.join(pd.get_dummies(df['Company Type'],drop_first=True))"
   ]
  },
  {
   "cell_type": "code",
   "execution_count": 27,
   "id": "9f7229a1",
   "metadata": {},
   "outputs": [
    {
     "data": {
      "text/html": [
       "<div>\n",
       "<style scoped>\n",
       "    .dataframe tbody tr th:only-of-type {\n",
       "        vertical-align: middle;\n",
       "    }\n",
       "\n",
       "    .dataframe tbody tr th {\n",
       "        vertical-align: top;\n",
       "    }\n",
       "\n",
       "    .dataframe thead th {\n",
       "        text-align: right;\n",
       "    }\n",
       "</style>\n",
       "<table border=\"1\" class=\"dataframe\">\n",
       "  <thead>\n",
       "    <tr style=\"text-align: right;\">\n",
       "      <th></th>\n",
       "      <th>Employee ID</th>\n",
       "      <th>Date of Joining</th>\n",
       "      <th>Gender</th>\n",
       "      <th>Company Type</th>\n",
       "      <th>WFH Setup Available</th>\n",
       "      <th>Designation</th>\n",
       "      <th>Resource Allocation</th>\n",
       "      <th>Mental Fatigue Score</th>\n",
       "      <th>Burn Rate</th>\n",
       "      <th>Service</th>\n",
       "    </tr>\n",
       "  </thead>\n",
       "  <tbody>\n",
       "    <tr>\n",
       "      <th>0</th>\n",
       "      <td>fffe32003000360033003200</td>\n",
       "      <td>9/30/2008</td>\n",
       "      <td>Female</td>\n",
       "      <td>Service</td>\n",
       "      <td>No</td>\n",
       "      <td>2</td>\n",
       "      <td>3.000000</td>\n",
       "      <td>3.8</td>\n",
       "      <td>0.16</td>\n",
       "      <td>1</td>\n",
       "    </tr>\n",
       "    <tr>\n",
       "      <th>1</th>\n",
       "      <td>fffe3700360033003500</td>\n",
       "      <td>11/30/2008</td>\n",
       "      <td>Male</td>\n",
       "      <td>Service</td>\n",
       "      <td>Yes</td>\n",
       "      <td>1</td>\n",
       "      <td>2.000000</td>\n",
       "      <td>5.0</td>\n",
       "      <td>0.36</td>\n",
       "      <td>1</td>\n",
       "    </tr>\n",
       "    <tr>\n",
       "      <th>2</th>\n",
       "      <td>fffe31003300320037003900</td>\n",
       "      <td>3/10/2008</td>\n",
       "      <td>Female</td>\n",
       "      <td>Product</td>\n",
       "      <td>Yes</td>\n",
       "      <td>2</td>\n",
       "      <td>4.481398</td>\n",
       "      <td>5.8</td>\n",
       "      <td>0.49</td>\n",
       "      <td>0</td>\n",
       "    </tr>\n",
       "    <tr>\n",
       "      <th>3</th>\n",
       "      <td>fffe32003400380032003900</td>\n",
       "      <td>11/3/2008</td>\n",
       "      <td>Male</td>\n",
       "      <td>Service</td>\n",
       "      <td>Yes</td>\n",
       "      <td>1</td>\n",
       "      <td>1.000000</td>\n",
       "      <td>2.6</td>\n",
       "      <td>0.20</td>\n",
       "      <td>1</td>\n",
       "    </tr>\n",
       "    <tr>\n",
       "      <th>4</th>\n",
       "      <td>fffe31003900340031003600</td>\n",
       "      <td>7/24/2008</td>\n",
       "      <td>Female</td>\n",
       "      <td>Service</td>\n",
       "      <td>No</td>\n",
       "      <td>3</td>\n",
       "      <td>7.000000</td>\n",
       "      <td>6.9</td>\n",
       "      <td>0.52</td>\n",
       "      <td>1</td>\n",
       "    </tr>\n",
       "  </tbody>\n",
       "</table>\n",
       "</div>"
      ],
      "text/plain": [
       "                Employee ID Date of Joining  Gender Company Type  \\\n",
       "0  fffe32003000360033003200       9/30/2008  Female      Service   \n",
       "1      fffe3700360033003500      11/30/2008    Male      Service   \n",
       "2  fffe31003300320037003900       3/10/2008  Female      Product   \n",
       "3  fffe32003400380032003900       11/3/2008    Male      Service   \n",
       "4  fffe31003900340031003600       7/24/2008  Female      Service   \n",
       "\n",
       "  WFH Setup Available  Designation  Resource Allocation  Mental Fatigue Score  \\\n",
       "0                  No            2             3.000000                   3.8   \n",
       "1                 Yes            1             2.000000                   5.0   \n",
       "2                 Yes            2             4.481398                   5.8   \n",
       "3                 Yes            1             1.000000                   2.6   \n",
       "4                  No            3             7.000000                   6.9   \n",
       "\n",
       "   Burn Rate  Service  \n",
       "0       0.16        1  \n",
       "1       0.36        1  \n",
       "2       0.49        0  \n",
       "3       0.20        1  \n",
       "4       0.52        1  "
      ]
     },
     "execution_count": 27,
     "metadata": {},
     "output_type": "execute_result"
    }
   ],
   "source": [
    "df.head()"
   ]
  },
  {
   "cell_type": "code",
   "execution_count": 28,
   "id": "69175073",
   "metadata": {},
   "outputs": [],
   "source": [
    "df = df.join(pd.get_dummies(df['Gender'], drop_first=True))"
   ]
  },
  {
   "cell_type": "code",
   "execution_count": 29,
   "id": "952f3c39",
   "metadata": {},
   "outputs": [
    {
     "data": {
      "text/html": [
       "<div>\n",
       "<style scoped>\n",
       "    .dataframe tbody tr th:only-of-type {\n",
       "        vertical-align: middle;\n",
       "    }\n",
       "\n",
       "    .dataframe tbody tr th {\n",
       "        vertical-align: top;\n",
       "    }\n",
       "\n",
       "    .dataframe thead th {\n",
       "        text-align: right;\n",
       "    }\n",
       "</style>\n",
       "<table border=\"1\" class=\"dataframe\">\n",
       "  <thead>\n",
       "    <tr style=\"text-align: right;\">\n",
       "      <th></th>\n",
       "      <th>Employee ID</th>\n",
       "      <th>Date of Joining</th>\n",
       "      <th>Gender</th>\n",
       "      <th>Company Type</th>\n",
       "      <th>WFH Setup Available</th>\n",
       "      <th>Designation</th>\n",
       "      <th>Resource Allocation</th>\n",
       "      <th>Mental Fatigue Score</th>\n",
       "      <th>Burn Rate</th>\n",
       "      <th>Service</th>\n",
       "      <th>Male</th>\n",
       "    </tr>\n",
       "  </thead>\n",
       "  <tbody>\n",
       "    <tr>\n",
       "      <th>0</th>\n",
       "      <td>fffe32003000360033003200</td>\n",
       "      <td>9/30/2008</td>\n",
       "      <td>Female</td>\n",
       "      <td>Service</td>\n",
       "      <td>No</td>\n",
       "      <td>2</td>\n",
       "      <td>3.000000</td>\n",
       "      <td>3.8</td>\n",
       "      <td>0.16</td>\n",
       "      <td>1</td>\n",
       "      <td>0</td>\n",
       "    </tr>\n",
       "    <tr>\n",
       "      <th>1</th>\n",
       "      <td>fffe3700360033003500</td>\n",
       "      <td>11/30/2008</td>\n",
       "      <td>Male</td>\n",
       "      <td>Service</td>\n",
       "      <td>Yes</td>\n",
       "      <td>1</td>\n",
       "      <td>2.000000</td>\n",
       "      <td>5.0</td>\n",
       "      <td>0.36</td>\n",
       "      <td>1</td>\n",
       "      <td>1</td>\n",
       "    </tr>\n",
       "    <tr>\n",
       "      <th>2</th>\n",
       "      <td>fffe31003300320037003900</td>\n",
       "      <td>3/10/2008</td>\n",
       "      <td>Female</td>\n",
       "      <td>Product</td>\n",
       "      <td>Yes</td>\n",
       "      <td>2</td>\n",
       "      <td>4.481398</td>\n",
       "      <td>5.8</td>\n",
       "      <td>0.49</td>\n",
       "      <td>0</td>\n",
       "      <td>0</td>\n",
       "    </tr>\n",
       "    <tr>\n",
       "      <th>3</th>\n",
       "      <td>fffe32003400380032003900</td>\n",
       "      <td>11/3/2008</td>\n",
       "      <td>Male</td>\n",
       "      <td>Service</td>\n",
       "      <td>Yes</td>\n",
       "      <td>1</td>\n",
       "      <td>1.000000</td>\n",
       "      <td>2.6</td>\n",
       "      <td>0.20</td>\n",
       "      <td>1</td>\n",
       "      <td>1</td>\n",
       "    </tr>\n",
       "    <tr>\n",
       "      <th>4</th>\n",
       "      <td>fffe31003900340031003600</td>\n",
       "      <td>7/24/2008</td>\n",
       "      <td>Female</td>\n",
       "      <td>Service</td>\n",
       "      <td>No</td>\n",
       "      <td>3</td>\n",
       "      <td>7.000000</td>\n",
       "      <td>6.9</td>\n",
       "      <td>0.52</td>\n",
       "      <td>1</td>\n",
       "      <td>0</td>\n",
       "    </tr>\n",
       "  </tbody>\n",
       "</table>\n",
       "</div>"
      ],
      "text/plain": [
       "                Employee ID Date of Joining  Gender Company Type  \\\n",
       "0  fffe32003000360033003200       9/30/2008  Female      Service   \n",
       "1      fffe3700360033003500      11/30/2008    Male      Service   \n",
       "2  fffe31003300320037003900       3/10/2008  Female      Product   \n",
       "3  fffe32003400380032003900       11/3/2008    Male      Service   \n",
       "4  fffe31003900340031003600       7/24/2008  Female      Service   \n",
       "\n",
       "  WFH Setup Available  Designation  Resource Allocation  Mental Fatigue Score  \\\n",
       "0                  No            2             3.000000                   3.8   \n",
       "1                 Yes            1             2.000000                   5.0   \n",
       "2                 Yes            2             4.481398                   5.8   \n",
       "3                 Yes            1             1.000000                   2.6   \n",
       "4                  No            3             7.000000                   6.9   \n",
       "\n",
       "   Burn Rate  Service  Male  \n",
       "0       0.16        1     0  \n",
       "1       0.36        1     1  \n",
       "2       0.49        0     0  \n",
       "3       0.20        1     1  \n",
       "4       0.52        1     0  "
      ]
     },
     "execution_count": 29,
     "metadata": {},
     "output_type": "execute_result"
    }
   ],
   "source": [
    "df.head()"
   ]
  },
  {
   "cell_type": "code",
   "execution_count": 30,
   "id": "c39f2766",
   "metadata": {},
   "outputs": [],
   "source": [
    "df = df.join(pd.get_dummies(df['WFH Setup Available'],drop_first=True))"
   ]
  },
  {
   "cell_type": "code",
   "execution_count": 31,
   "id": "44975dbb",
   "metadata": {},
   "outputs": [
    {
     "data": {
      "text/html": [
       "<div>\n",
       "<style scoped>\n",
       "    .dataframe tbody tr th:only-of-type {\n",
       "        vertical-align: middle;\n",
       "    }\n",
       "\n",
       "    .dataframe tbody tr th {\n",
       "        vertical-align: top;\n",
       "    }\n",
       "\n",
       "    .dataframe thead th {\n",
       "        text-align: right;\n",
       "    }\n",
       "</style>\n",
       "<table border=\"1\" class=\"dataframe\">\n",
       "  <thead>\n",
       "    <tr style=\"text-align: right;\">\n",
       "      <th></th>\n",
       "      <th>Employee ID</th>\n",
       "      <th>Date of Joining</th>\n",
       "      <th>Gender</th>\n",
       "      <th>Company Type</th>\n",
       "      <th>WFH Setup Available</th>\n",
       "      <th>Designation</th>\n",
       "      <th>Resource Allocation</th>\n",
       "      <th>Mental Fatigue Score</th>\n",
       "      <th>Burn Rate</th>\n",
       "      <th>Service</th>\n",
       "      <th>Male</th>\n",
       "      <th>Yes</th>\n",
       "    </tr>\n",
       "  </thead>\n",
       "  <tbody>\n",
       "    <tr>\n",
       "      <th>0</th>\n",
       "      <td>fffe32003000360033003200</td>\n",
       "      <td>9/30/2008</td>\n",
       "      <td>Female</td>\n",
       "      <td>Service</td>\n",
       "      <td>No</td>\n",
       "      <td>2</td>\n",
       "      <td>3.000000</td>\n",
       "      <td>3.8</td>\n",
       "      <td>0.16</td>\n",
       "      <td>1</td>\n",
       "      <td>0</td>\n",
       "      <td>0</td>\n",
       "    </tr>\n",
       "    <tr>\n",
       "      <th>1</th>\n",
       "      <td>fffe3700360033003500</td>\n",
       "      <td>11/30/2008</td>\n",
       "      <td>Male</td>\n",
       "      <td>Service</td>\n",
       "      <td>Yes</td>\n",
       "      <td>1</td>\n",
       "      <td>2.000000</td>\n",
       "      <td>5.0</td>\n",
       "      <td>0.36</td>\n",
       "      <td>1</td>\n",
       "      <td>1</td>\n",
       "      <td>1</td>\n",
       "    </tr>\n",
       "    <tr>\n",
       "      <th>2</th>\n",
       "      <td>fffe31003300320037003900</td>\n",
       "      <td>3/10/2008</td>\n",
       "      <td>Female</td>\n",
       "      <td>Product</td>\n",
       "      <td>Yes</td>\n",
       "      <td>2</td>\n",
       "      <td>4.481398</td>\n",
       "      <td>5.8</td>\n",
       "      <td>0.49</td>\n",
       "      <td>0</td>\n",
       "      <td>0</td>\n",
       "      <td>1</td>\n",
       "    </tr>\n",
       "    <tr>\n",
       "      <th>3</th>\n",
       "      <td>fffe32003400380032003900</td>\n",
       "      <td>11/3/2008</td>\n",
       "      <td>Male</td>\n",
       "      <td>Service</td>\n",
       "      <td>Yes</td>\n",
       "      <td>1</td>\n",
       "      <td>1.000000</td>\n",
       "      <td>2.6</td>\n",
       "      <td>0.20</td>\n",
       "      <td>1</td>\n",
       "      <td>1</td>\n",
       "      <td>1</td>\n",
       "    </tr>\n",
       "    <tr>\n",
       "      <th>4</th>\n",
       "      <td>fffe31003900340031003600</td>\n",
       "      <td>7/24/2008</td>\n",
       "      <td>Female</td>\n",
       "      <td>Service</td>\n",
       "      <td>No</td>\n",
       "      <td>3</td>\n",
       "      <td>7.000000</td>\n",
       "      <td>6.9</td>\n",
       "      <td>0.52</td>\n",
       "      <td>1</td>\n",
       "      <td>0</td>\n",
       "      <td>0</td>\n",
       "    </tr>\n",
       "  </tbody>\n",
       "</table>\n",
       "</div>"
      ],
      "text/plain": [
       "                Employee ID Date of Joining  Gender Company Type  \\\n",
       "0  fffe32003000360033003200       9/30/2008  Female      Service   \n",
       "1      fffe3700360033003500      11/30/2008    Male      Service   \n",
       "2  fffe31003300320037003900       3/10/2008  Female      Product   \n",
       "3  fffe32003400380032003900       11/3/2008    Male      Service   \n",
       "4  fffe31003900340031003600       7/24/2008  Female      Service   \n",
       "\n",
       "  WFH Setup Available  Designation  Resource Allocation  Mental Fatigue Score  \\\n",
       "0                  No            2             3.000000                   3.8   \n",
       "1                 Yes            1             2.000000                   5.0   \n",
       "2                 Yes            2             4.481398                   5.8   \n",
       "3                 Yes            1             1.000000                   2.6   \n",
       "4                  No            3             7.000000                   6.9   \n",
       "\n",
       "   Burn Rate  Service  Male  Yes  \n",
       "0       0.16        1     0    0  \n",
       "1       0.36        1     1    1  \n",
       "2       0.49        0     0    1  \n",
       "3       0.20        1     1    1  \n",
       "4       0.52        1     0    0  "
      ]
     },
     "execution_count": 31,
     "metadata": {},
     "output_type": "execute_result"
    }
   ],
   "source": [
    "df.head()"
   ]
  },
  {
   "cell_type": "code",
   "execution_count": 32,
   "id": "f4e70a4e",
   "metadata": {},
   "outputs": [],
   "source": [
    "df.drop(['Gender','Company Type','WFH Setup Available'],axis=1,inplace=True)"
   ]
  },
  {
   "cell_type": "code",
   "execution_count": 33,
   "id": "01b02e0b",
   "metadata": {},
   "outputs": [
    {
     "name": "stdout",
     "output_type": "stream",
     "text": [
      "<class 'pandas.core.frame.DataFrame'>\n",
      "RangeIndex: 22750 entries, 0 to 22749\n",
      "Data columns (total 9 columns):\n",
      " #   Column                Non-Null Count  Dtype  \n",
      "---  ------                --------------  -----  \n",
      " 0   Employee ID           22750 non-null  object \n",
      " 1   Date of Joining       22750 non-null  object \n",
      " 2   Designation           22750 non-null  int64  \n",
      " 3   Resource Allocation   22750 non-null  float64\n",
      " 4   Mental Fatigue Score  22750 non-null  float64\n",
      " 5   Burn Rate             22750 non-null  float64\n",
      " 6   Service               22750 non-null  uint8  \n",
      " 7   Male                  22750 non-null  uint8  \n",
      " 8   Yes                   22750 non-null  uint8  \n",
      "dtypes: float64(3), int64(1), object(2), uint8(3)\n",
      "memory usage: 1.1+ MB\n"
     ]
    }
   ],
   "source": [
    "df.info()"
   ]
  },
  {
   "cell_type": "code",
   "execution_count": 34,
   "id": "0a58032a",
   "metadata": {},
   "outputs": [],
   "source": [
    "df.drop(['Employee ID'],axis=1, inplace=True)\n"
   ]
  },
  {
   "cell_type": "code",
   "execution_count": 35,
   "id": "a201fc1b",
   "metadata": {},
   "outputs": [],
   "source": [
    "df['Date of Joining'] = pd.to_datetime(df['Date of Joining'])"
   ]
  },
  {
   "cell_type": "code",
   "execution_count": 36,
   "id": "737a0cb0",
   "metadata": {},
   "outputs": [],
   "source": [
    "df['Year'] = df['Date of Joining'].dt.year"
   ]
  },
  {
   "cell_type": "code",
   "execution_count": 37,
   "id": "a2ba118d",
   "metadata": {},
   "outputs": [],
   "source": [
    "df['month'] = df['Date of Joining'].dt.month"
   ]
  },
  {
   "cell_type": "code",
   "execution_count": 38,
   "id": "4be3ac7b",
   "metadata": {},
   "outputs": [],
   "source": [
    "df['day'] = df['Date of Joining'].dt.day"
   ]
  },
  {
   "cell_type": "code",
   "execution_count": 39,
   "id": "02ea09e8",
   "metadata": {},
   "outputs": [
    {
     "data": {
      "text/html": [
       "<div>\n",
       "<style scoped>\n",
       "    .dataframe tbody tr th:only-of-type {\n",
       "        vertical-align: middle;\n",
       "    }\n",
       "\n",
       "    .dataframe tbody tr th {\n",
       "        vertical-align: top;\n",
       "    }\n",
       "\n",
       "    .dataframe thead th {\n",
       "        text-align: right;\n",
       "    }\n",
       "</style>\n",
       "<table border=\"1\" class=\"dataframe\">\n",
       "  <thead>\n",
       "    <tr style=\"text-align: right;\">\n",
       "      <th></th>\n",
       "      <th>Date of Joining</th>\n",
       "      <th>Designation</th>\n",
       "      <th>Resource Allocation</th>\n",
       "      <th>Mental Fatigue Score</th>\n",
       "      <th>Burn Rate</th>\n",
       "      <th>Service</th>\n",
       "      <th>Male</th>\n",
       "      <th>Yes</th>\n",
       "      <th>Year</th>\n",
       "      <th>month</th>\n",
       "      <th>day</th>\n",
       "    </tr>\n",
       "  </thead>\n",
       "  <tbody>\n",
       "    <tr>\n",
       "      <th>0</th>\n",
       "      <td>2008-09-30</td>\n",
       "      <td>2</td>\n",
       "      <td>3.000000</td>\n",
       "      <td>3.8</td>\n",
       "      <td>0.16</td>\n",
       "      <td>1</td>\n",
       "      <td>0</td>\n",
       "      <td>0</td>\n",
       "      <td>2008</td>\n",
       "      <td>9</td>\n",
       "      <td>30</td>\n",
       "    </tr>\n",
       "    <tr>\n",
       "      <th>1</th>\n",
       "      <td>2008-11-30</td>\n",
       "      <td>1</td>\n",
       "      <td>2.000000</td>\n",
       "      <td>5.0</td>\n",
       "      <td>0.36</td>\n",
       "      <td>1</td>\n",
       "      <td>1</td>\n",
       "      <td>1</td>\n",
       "      <td>2008</td>\n",
       "      <td>11</td>\n",
       "      <td>30</td>\n",
       "    </tr>\n",
       "    <tr>\n",
       "      <th>2</th>\n",
       "      <td>2008-03-10</td>\n",
       "      <td>2</td>\n",
       "      <td>4.481398</td>\n",
       "      <td>5.8</td>\n",
       "      <td>0.49</td>\n",
       "      <td>0</td>\n",
       "      <td>0</td>\n",
       "      <td>1</td>\n",
       "      <td>2008</td>\n",
       "      <td>3</td>\n",
       "      <td>10</td>\n",
       "    </tr>\n",
       "    <tr>\n",
       "      <th>3</th>\n",
       "      <td>2008-11-03</td>\n",
       "      <td>1</td>\n",
       "      <td>1.000000</td>\n",
       "      <td>2.6</td>\n",
       "      <td>0.20</td>\n",
       "      <td>1</td>\n",
       "      <td>1</td>\n",
       "      <td>1</td>\n",
       "      <td>2008</td>\n",
       "      <td>11</td>\n",
       "      <td>3</td>\n",
       "    </tr>\n",
       "    <tr>\n",
       "      <th>4</th>\n",
       "      <td>2008-07-24</td>\n",
       "      <td>3</td>\n",
       "      <td>7.000000</td>\n",
       "      <td>6.9</td>\n",
       "      <td>0.52</td>\n",
       "      <td>1</td>\n",
       "      <td>0</td>\n",
       "      <td>0</td>\n",
       "      <td>2008</td>\n",
       "      <td>7</td>\n",
       "      <td>24</td>\n",
       "    </tr>\n",
       "  </tbody>\n",
       "</table>\n",
       "</div>"
      ],
      "text/plain": [
       "  Date of Joining  Designation  Resource Allocation  Mental Fatigue Score  \\\n",
       "0      2008-09-30            2             3.000000                   3.8   \n",
       "1      2008-11-30            1             2.000000                   5.0   \n",
       "2      2008-03-10            2             4.481398                   5.8   \n",
       "3      2008-11-03            1             1.000000                   2.6   \n",
       "4      2008-07-24            3             7.000000                   6.9   \n",
       "\n",
       "   Burn Rate  Service  Male  Yes  Year  month  day  \n",
       "0       0.16        1     0    0  2008      9   30  \n",
       "1       0.36        1     1    1  2008     11   30  \n",
       "2       0.49        0     0    1  2008      3   10  \n",
       "3       0.20        1     1    1  2008     11    3  \n",
       "4       0.52        1     0    0  2008      7   24  "
      ]
     },
     "execution_count": 39,
     "metadata": {},
     "output_type": "execute_result"
    }
   ],
   "source": [
    "df.head()"
   ]
  },
  {
   "cell_type": "code",
   "execution_count": 40,
   "id": "3f302680",
   "metadata": {},
   "outputs": [],
   "source": [
    "df.drop(['Date of Joining'],axis=1,inplace=True)"
   ]
  },
  {
   "cell_type": "code",
   "execution_count": 41,
   "id": "e9a7659e",
   "metadata": {},
   "outputs": [
    {
     "data": {
      "text/html": [
       "<div>\n",
       "<style scoped>\n",
       "    .dataframe tbody tr th:only-of-type {\n",
       "        vertical-align: middle;\n",
       "    }\n",
       "\n",
       "    .dataframe tbody tr th {\n",
       "        vertical-align: top;\n",
       "    }\n",
       "\n",
       "    .dataframe thead th {\n",
       "        text-align: right;\n",
       "    }\n",
       "</style>\n",
       "<table border=\"1\" class=\"dataframe\">\n",
       "  <thead>\n",
       "    <tr style=\"text-align: right;\">\n",
       "      <th></th>\n",
       "      <th>Designation</th>\n",
       "      <th>Resource Allocation</th>\n",
       "      <th>Mental Fatigue Score</th>\n",
       "      <th>Burn Rate</th>\n",
       "      <th>Service</th>\n",
       "      <th>Male</th>\n",
       "      <th>Yes</th>\n",
       "      <th>Year</th>\n",
       "      <th>month</th>\n",
       "      <th>day</th>\n",
       "    </tr>\n",
       "  </thead>\n",
       "  <tbody>\n",
       "    <tr>\n",
       "      <th>0</th>\n",
       "      <td>2</td>\n",
       "      <td>3.000000</td>\n",
       "      <td>3.8</td>\n",
       "      <td>0.16</td>\n",
       "      <td>1</td>\n",
       "      <td>0</td>\n",
       "      <td>0</td>\n",
       "      <td>2008</td>\n",
       "      <td>9</td>\n",
       "      <td>30</td>\n",
       "    </tr>\n",
       "    <tr>\n",
       "      <th>1</th>\n",
       "      <td>1</td>\n",
       "      <td>2.000000</td>\n",
       "      <td>5.0</td>\n",
       "      <td>0.36</td>\n",
       "      <td>1</td>\n",
       "      <td>1</td>\n",
       "      <td>1</td>\n",
       "      <td>2008</td>\n",
       "      <td>11</td>\n",
       "      <td>30</td>\n",
       "    </tr>\n",
       "    <tr>\n",
       "      <th>2</th>\n",
       "      <td>2</td>\n",
       "      <td>4.481398</td>\n",
       "      <td>5.8</td>\n",
       "      <td>0.49</td>\n",
       "      <td>0</td>\n",
       "      <td>0</td>\n",
       "      <td>1</td>\n",
       "      <td>2008</td>\n",
       "      <td>3</td>\n",
       "      <td>10</td>\n",
       "    </tr>\n",
       "    <tr>\n",
       "      <th>3</th>\n",
       "      <td>1</td>\n",
       "      <td>1.000000</td>\n",
       "      <td>2.6</td>\n",
       "      <td>0.20</td>\n",
       "      <td>1</td>\n",
       "      <td>1</td>\n",
       "      <td>1</td>\n",
       "      <td>2008</td>\n",
       "      <td>11</td>\n",
       "      <td>3</td>\n",
       "    </tr>\n",
       "    <tr>\n",
       "      <th>4</th>\n",
       "      <td>3</td>\n",
       "      <td>7.000000</td>\n",
       "      <td>6.9</td>\n",
       "      <td>0.52</td>\n",
       "      <td>1</td>\n",
       "      <td>0</td>\n",
       "      <td>0</td>\n",
       "      <td>2008</td>\n",
       "      <td>7</td>\n",
       "      <td>24</td>\n",
       "    </tr>\n",
       "  </tbody>\n",
       "</table>\n",
       "</div>"
      ],
      "text/plain": [
       "   Designation  Resource Allocation  Mental Fatigue Score  Burn Rate  Service  \\\n",
       "0            2             3.000000                   3.8       0.16        1   \n",
       "1            1             2.000000                   5.0       0.36        1   \n",
       "2            2             4.481398                   5.8       0.49        0   \n",
       "3            1             1.000000                   2.6       0.20        1   \n",
       "4            3             7.000000                   6.9       0.52        1   \n",
       "\n",
       "   Male  Yes  Year  month  day  \n",
       "0     0    0  2008      9   30  \n",
       "1     1    1  2008     11   30  \n",
       "2     0    1  2008      3   10  \n",
       "3     1    1  2008     11    3  \n",
       "4     0    0  2008      7   24  "
      ]
     },
     "execution_count": 41,
     "metadata": {},
     "output_type": "execute_result"
    }
   ],
   "source": [
    "df.head()"
   ]
  },
  {
   "cell_type": "code",
   "execution_count": 42,
   "id": "4763d11f",
   "metadata": {},
   "outputs": [
    {
     "data": {
      "text/plain": [
       "array([2008], dtype=int64)"
      ]
     },
     "execution_count": 42,
     "metadata": {},
     "output_type": "execute_result"
    }
   ],
   "source": [
    "df['Year'].unique()"
   ]
  },
  {
   "cell_type": "markdown",
   "id": "3c5264c9",
   "metadata": {},
   "source": [
    "### scaling features"
   ]
  },
  {
   "cell_type": "code",
   "execution_count": 43,
   "id": "cc6cb531",
   "metadata": {},
   "outputs": [],
   "source": [
    "scaler = StandardScaler()"
   ]
  },
  {
   "cell_type": "code",
   "execution_count": 44,
   "id": "476fdfcd",
   "metadata": {},
   "outputs": [
    {
     "data": {
      "text/plain": [
       "10"
      ]
     },
     "execution_count": 44,
     "metadata": {},
     "output_type": "execute_result"
    }
   ],
   "source": [
    "df.duplicated().sum()"
   ]
  },
  {
   "cell_type": "code",
   "execution_count": 45,
   "id": "7df8a2d5",
   "metadata": {},
   "outputs": [],
   "source": [
    "df.drop_duplicates(inplace=True)"
   ]
  },
  {
   "cell_type": "code",
   "execution_count": 46,
   "id": "e5391658",
   "metadata": {},
   "outputs": [
    {
     "data": {
      "text/plain": [
       "(22740, 10)"
      ]
     },
     "execution_count": 46,
     "metadata": {},
     "output_type": "execute_result"
    }
   ],
   "source": [
    "df.shape"
   ]
  },
  {
   "cell_type": "code",
   "execution_count": 47,
   "id": "da9a69bd",
   "metadata": {},
   "outputs": [],
   "source": [
    "x = df.drop('Burn Rate', axis=1)\n",
    "y = df['Burn Rate'] "
   ]
  },
  {
   "cell_type": "code",
   "execution_count": 50,
   "id": "83021622",
   "metadata": {},
   "outputs": [
    {
     "data": {
      "text/plain": [
       "((22740, 9), (22740,))"
      ]
     },
     "execution_count": 50,
     "metadata": {},
     "output_type": "execute_result"
    }
   ],
   "source": [
    "x.shape, y.shape"
   ]
  },
  {
   "cell_type": "code",
   "execution_count": 51,
   "id": "4a464013",
   "metadata": {},
   "outputs": [
    {
     "data": {
      "text/plain": [
       "(22740, 6)"
      ]
     },
     "execution_count": 51,
     "metadata": {},
     "output_type": "execute_result"
    }
   ],
   "source": [
    "column_to_scale = ['Designation','Resource Allocation', 'Mental Fatigue Score','Year','month','day']\n",
    "df_columns = x[column_to_scale]\n",
    "df_columns.shape"
   ]
  },
  {
   "cell_type": "code",
   "execution_count": 52,
   "id": "84ce73c5",
   "metadata": {},
   "outputs": [],
   "source": [
    "df_scaled_cols = pd.DataFrame(scaler.fit_transform(df_columns), columns=column_to_scale)"
   ]
  },
  {
   "cell_type": "code",
   "execution_count": 53,
   "id": "d9dc5e3b",
   "metadata": {},
   "outputs": [
    {
     "data": {
      "text/plain": [
       "Designation             0\n",
       "Resource Allocation     0\n",
       "Mental Fatigue Score    0\n",
       "Year                    0\n",
       "month                   0\n",
       "day                     0\n",
       "dtype: int64"
      ]
     },
     "execution_count": 53,
     "metadata": {},
     "output_type": "execute_result"
    }
   ],
   "source": [
    "df_scaled_cols.isna().sum()"
   ]
  },
  {
   "cell_type": "code",
   "execution_count": 54,
   "id": "c52c7f4c",
   "metadata": {
    "scrolled": true
   },
   "outputs": [
    {
     "data": {
      "text/plain": [
       "Designation             0\n",
       "Resource Allocation     0\n",
       "Mental Fatigue Score    0\n",
       "Service                 0\n",
       "Male                    0\n",
       "Yes                     0\n",
       "Year                    0\n",
       "month                   0\n",
       "day                     0\n",
       "dtype: int64"
      ]
     },
     "execution_count": 54,
     "metadata": {},
     "output_type": "execute_result"
    }
   ],
   "source": [
    "x.isna().sum()"
   ]
  },
  {
   "cell_type": "code",
   "execution_count": 55,
   "id": "724bf39b",
   "metadata": {},
   "outputs": [],
   "source": [
    "x_scaled = pd.merge(x.drop(column_to_scale, axis=1), df_scaled_cols.set_index(x.index), left_index=True, right_index=True)"
   ]
  },
  {
   "cell_type": "code",
   "execution_count": 56,
   "id": "5a587157",
   "metadata": {
    "scrolled": true
   },
   "outputs": [
    {
     "data": {
      "text/plain": [
       "Service                 0\n",
       "Male                    0\n",
       "Yes                     0\n",
       "Designation             0\n",
       "Resource Allocation     0\n",
       "Mental Fatigue Score    0\n",
       "Year                    0\n",
       "month                   0\n",
       "day                     0\n",
       "dtype: int64"
      ]
     },
     "execution_count": 56,
     "metadata": {},
     "output_type": "execute_result"
    }
   ],
   "source": [
    "x_scaled.isna().sum()"
   ]
  },
  {
   "cell_type": "code",
   "execution_count": 57,
   "id": "364bafb5",
   "metadata": {},
   "outputs": [
    {
     "data": {
      "text/plain": [
       "(22740, 9)"
      ]
     },
     "execution_count": 57,
     "metadata": {},
     "output_type": "execute_result"
    }
   ],
   "source": [
    "x_scaled.shape"
   ]
  },
  {
   "cell_type": "markdown",
   "id": "c000bab6",
   "metadata": {},
   "source": [
    "### checking for multicolinearity"
   ]
  },
  {
   "cell_type": "code",
   "execution_count": 58,
   "id": "380ff77c",
   "metadata": {},
   "outputs": [
    {
     "data": {
      "text/html": [
       "<div>\n",
       "<style scoped>\n",
       "    .dataframe tbody tr th:only-of-type {\n",
       "        vertical-align: middle;\n",
       "    }\n",
       "\n",
       "    .dataframe tbody tr th {\n",
       "        vertical-align: top;\n",
       "    }\n",
       "\n",
       "    .dataframe thead th {\n",
       "        text-align: right;\n",
       "    }\n",
       "</style>\n",
       "<table border=\"1\" class=\"dataframe\">\n",
       "  <thead>\n",
       "    <tr style=\"text-align: right;\">\n",
       "      <th></th>\n",
       "      <th>Service</th>\n",
       "      <th>Male</th>\n",
       "      <th>Yes</th>\n",
       "      <th>Designation</th>\n",
       "      <th>Resource Allocation</th>\n",
       "      <th>Mental Fatigue Score</th>\n",
       "      <th>Year</th>\n",
       "      <th>month</th>\n",
       "      <th>day</th>\n",
       "    </tr>\n",
       "  </thead>\n",
       "  <tbody>\n",
       "    <tr>\n",
       "      <th>Service</th>\n",
       "      <td>1.000000</td>\n",
       "      <td>-0.009583</td>\n",
       "      <td>0.005782</td>\n",
       "      <td>0.006296</td>\n",
       "      <td>0.005776</td>\n",
       "      <td>0.002439</td>\n",
       "      <td>NaN</td>\n",
       "      <td>0.000025</td>\n",
       "      <td>-0.002073</td>\n",
       "    </tr>\n",
       "    <tr>\n",
       "      <th>Male</th>\n",
       "      <td>-0.009583</td>\n",
       "      <td>1.000000</td>\n",
       "      <td>-0.073245</td>\n",
       "      <td>0.113090</td>\n",
       "      <td>0.138668</td>\n",
       "      <td>0.138347</td>\n",
       "      <td>NaN</td>\n",
       "      <td>0.000287</td>\n",
       "      <td>-0.005049</td>\n",
       "    </tr>\n",
       "    <tr>\n",
       "      <th>Yes</th>\n",
       "      <td>0.005782</td>\n",
       "      <td>-0.073245</td>\n",
       "      <td>1.000000</td>\n",
       "      <td>-0.229553</td>\n",
       "      <td>-0.276077</td>\n",
       "      <td>-0.263064</td>\n",
       "      <td>NaN</td>\n",
       "      <td>-0.004343</td>\n",
       "      <td>0.000182</td>\n",
       "    </tr>\n",
       "    <tr>\n",
       "      <th>Designation</th>\n",
       "      <td>0.006296</td>\n",
       "      <td>0.113090</td>\n",
       "      <td>-0.229553</td>\n",
       "      <td>1.000000</td>\n",
       "      <td>0.851999</td>\n",
       "      <td>0.656236</td>\n",
       "      <td>NaN</td>\n",
       "      <td>-0.000874</td>\n",
       "      <td>-0.000224</td>\n",
       "    </tr>\n",
       "    <tr>\n",
       "      <th>Resource Allocation</th>\n",
       "      <td>0.005776</td>\n",
       "      <td>0.138668</td>\n",
       "      <td>-0.276077</td>\n",
       "      <td>0.851999</td>\n",
       "      <td>1.000000</td>\n",
       "      <td>0.738888</td>\n",
       "      <td>NaN</td>\n",
       "      <td>0.000038</td>\n",
       "      <td>-0.004961</td>\n",
       "    </tr>\n",
       "    <tr>\n",
       "      <th>Mental Fatigue Score</th>\n",
       "      <td>0.002439</td>\n",
       "      <td>0.138347</td>\n",
       "      <td>-0.263064</td>\n",
       "      <td>0.656236</td>\n",
       "      <td>0.738888</td>\n",
       "      <td>1.000000</td>\n",
       "      <td>NaN</td>\n",
       "      <td>0.002133</td>\n",
       "      <td>0.001680</td>\n",
       "    </tr>\n",
       "    <tr>\n",
       "      <th>Year</th>\n",
       "      <td>NaN</td>\n",
       "      <td>NaN</td>\n",
       "      <td>NaN</td>\n",
       "      <td>NaN</td>\n",
       "      <td>NaN</td>\n",
       "      <td>NaN</td>\n",
       "      <td>NaN</td>\n",
       "      <td>NaN</td>\n",
       "      <td>NaN</td>\n",
       "    </tr>\n",
       "    <tr>\n",
       "      <th>month</th>\n",
       "      <td>0.000025</td>\n",
       "      <td>0.000287</td>\n",
       "      <td>-0.004343</td>\n",
       "      <td>-0.000874</td>\n",
       "      <td>0.000038</td>\n",
       "      <td>0.002133</td>\n",
       "      <td>NaN</td>\n",
       "      <td>1.000000</td>\n",
       "      <td>0.009139</td>\n",
       "    </tr>\n",
       "    <tr>\n",
       "      <th>day</th>\n",
       "      <td>-0.002073</td>\n",
       "      <td>-0.005049</td>\n",
       "      <td>0.000182</td>\n",
       "      <td>-0.000224</td>\n",
       "      <td>-0.004961</td>\n",
       "      <td>0.001680</td>\n",
       "      <td>NaN</td>\n",
       "      <td>0.009139</td>\n",
       "      <td>1.000000</td>\n",
       "    </tr>\n",
       "  </tbody>\n",
       "</table>\n",
       "</div>"
      ],
      "text/plain": [
       "                       Service      Male       Yes  Designation  \\\n",
       "Service               1.000000 -0.009583  0.005782     0.006296   \n",
       "Male                 -0.009583  1.000000 -0.073245     0.113090   \n",
       "Yes                   0.005782 -0.073245  1.000000    -0.229553   \n",
       "Designation           0.006296  0.113090 -0.229553     1.000000   \n",
       "Resource Allocation   0.005776  0.138668 -0.276077     0.851999   \n",
       "Mental Fatigue Score  0.002439  0.138347 -0.263064     0.656236   \n",
       "Year                       NaN       NaN       NaN          NaN   \n",
       "month                 0.000025  0.000287 -0.004343    -0.000874   \n",
       "day                  -0.002073 -0.005049  0.000182    -0.000224   \n",
       "\n",
       "                      Resource Allocation  Mental Fatigue Score  Year  \\\n",
       "Service                          0.005776              0.002439   NaN   \n",
       "Male                             0.138668              0.138347   NaN   \n",
       "Yes                             -0.276077             -0.263064   NaN   \n",
       "Designation                      0.851999              0.656236   NaN   \n",
       "Resource Allocation              1.000000              0.738888   NaN   \n",
       "Mental Fatigue Score             0.738888              1.000000   NaN   \n",
       "Year                                  NaN                   NaN   NaN   \n",
       "month                            0.000038              0.002133   NaN   \n",
       "day                             -0.004961              0.001680   NaN   \n",
       "\n",
       "                         month       day  \n",
       "Service               0.000025 -0.002073  \n",
       "Male                  0.000287 -0.005049  \n",
       "Yes                  -0.004343  0.000182  \n",
       "Designation          -0.000874 -0.000224  \n",
       "Resource Allocation   0.000038 -0.004961  \n",
       "Mental Fatigue Score  0.002133  0.001680  \n",
       "Year                       NaN       NaN  \n",
       "month                 1.000000  0.009139  \n",
       "day                   0.009139  1.000000  "
      ]
     },
     "execution_count": 58,
     "metadata": {},
     "output_type": "execute_result"
    }
   ],
   "source": [
    "x_scaled.corr()"
   ]
  },
  {
   "cell_type": "code",
   "execution_count": 59,
   "id": "3191141e",
   "metadata": {
    "scrolled": true
   },
   "outputs": [
    {
     "data": {
      "image/png": "[encoded data removed]",
      "text/plain": [
       "<Figure size 432x288 with 2 Axes>"
      ]
     },
     "metadata": {
      "needs_background": "light"
     },
     "output_type": "display_data"
    }
   ],
   "source": [
    "sns.heatmap(x_scaled.corr(), annot=True, cmap=\"coolwarm\", fmt=\".2f\")\n",
    "plt.show()"
   ]
  },
  {
   "cell_type": "code",
   "execution_count": 60,
   "id": "a26d8c5f",
   "metadata": {},
   "outputs": [
    {
     "name": "stderr",
     "output_type": "stream",
     "text": [
      "C:\\Users\\01272\\anaconda3\\lib\\site-packages\\pandas\\plotting\\_matplotlib\\misc.py:100: UserWarning: Attempting to set identical left == right == 0.0 results in singular transformations; automatically expanding.\n",
      "  ax.set_xlim(boundaries_list[j])\n",
      "C:\\Users\\01272\\anaconda3\\lib\\site-packages\\pandas\\plotting\\_matplotlib\\misc.py:101: UserWarning: Attempting to set identical bottom == top == 0.0 results in singular transformations; automatically expanding.\n",
      "  ax.set_ylim(boundaries_list[i])\n",
      "C:\\Users\\01272\\anaconda3\\lib\\site-packages\\pandas\\plotting\\_matplotlib\\misc.py:91: UserWarning: Attempting to set identical left == right == 0.0 results in singular transformations; automatically expanding.\n",
      "  ax.set_xlim(boundaries_list[i])\n"
     ]
    },
    {
     "data": {
      "image/png": "[encoded data removed]",
      "text/plain": [
       "<Figure size 720x720 with 81 Axes>"
      ]
     },
     "metadata": {
      "needs_background": "light"
     },
     "output_type": "display_data"
    }
   ],
   "source": [
    "scatter_matrix(x_scaled,figsize=(10, 10), diagonal='hist')\n",
    "plt.show()"
   ]
  },
  {
   "cell_type": "markdown",
   "id": "f60a1062",
   "metadata": {},
   "source": [
    "### LR model BGD"
   ]
  },
  {
   "cell_type": "code",
   "execution_count": 61,
   "id": "f1a876d8",
   "metadata": {},
   "outputs": [],
   "source": [
    "x_train , x_test , y_train , y_test = train_test_split(x_scaled,y,test_size=0.3,shuffle=True, random_state=42)"
   ]
  },
  {
   "cell_type": "code",
   "execution_count": 62,
   "id": "b5372808",
   "metadata": {},
   "outputs": [
    {
     "data": {
      "text/html": [
       "<div>\n",
       "<style scoped>\n",
       "    .dataframe tbody tr th:only-of-type {\n",
       "        vertical-align: middle;\n",
       "    }\n",
       "\n",
       "    .dataframe tbody tr th {\n",
       "        vertical-align: top;\n",
       "    }\n",
       "\n",
       "    .dataframe thead th {\n",
       "        text-align: right;\n",
       "    }\n",
       "</style>\n",
       "<table border=\"1\" class=\"dataframe\">\n",
       "  <thead>\n",
       "    <tr style=\"text-align: right;\">\n",
       "      <th></th>\n",
       "      <th>Service</th>\n",
       "      <th>Male</th>\n",
       "      <th>Yes</th>\n",
       "      <th>Designation</th>\n",
       "      <th>Resource Allocation</th>\n",
       "      <th>Mental Fatigue Score</th>\n",
       "      <th>Year</th>\n",
       "      <th>month</th>\n",
       "      <th>day</th>\n",
       "    </tr>\n",
       "  </thead>\n",
       "  <tbody>\n",
       "    <tr>\n",
       "      <th>12945</th>\n",
       "      <td>1</td>\n",
       "      <td>1</td>\n",
       "      <td>0</td>\n",
       "      <td>-0.157524</td>\n",
       "      <td>0.000004</td>\n",
       "      <td>1.779359</td>\n",
       "      <td>0.0</td>\n",
       "      <td>-0.148443</td>\n",
       "      <td>-0.656944</td>\n",
       "    </tr>\n",
       "    <tr>\n",
       "      <th>15280</th>\n",
       "      <td>1</td>\n",
       "      <td>0</td>\n",
       "      <td>1</td>\n",
       "      <td>-1.919495</td>\n",
       "      <td>-1.754695</td>\n",
       "      <td>-1.499843</td>\n",
       "      <td>0.0</td>\n",
       "      <td>1.014149</td>\n",
       "      <td>1.623665</td>\n",
       "    </tr>\n",
       "    <tr>\n",
       "      <th>7033</th>\n",
       "      <td>0</td>\n",
       "      <td>0</td>\n",
       "      <td>1</td>\n",
       "      <td>-0.157524</td>\n",
       "      <td>0.261390</td>\n",
       "      <td>0.085104</td>\n",
       "      <td>0.0</td>\n",
       "      <td>-0.729738</td>\n",
       "      <td>0.369330</td>\n",
       "    </tr>\n",
       "    <tr>\n",
       "      <th>1984</th>\n",
       "      <td>1</td>\n",
       "      <td>0</td>\n",
       "      <td>1</td>\n",
       "      <td>-1.038510</td>\n",
       "      <td>-0.746652</td>\n",
       "      <td>-1.499843</td>\n",
       "      <td>0.0</td>\n",
       "      <td>1.014149</td>\n",
       "      <td>1.623665</td>\n",
       "    </tr>\n",
       "    <tr>\n",
       "      <th>19832</th>\n",
       "      <td>0</td>\n",
       "      <td>0</td>\n",
       "      <td>1</td>\n",
       "      <td>-0.157524</td>\n",
       "      <td>-1.250673</td>\n",
       "      <td>-0.789350</td>\n",
       "      <td>0.0</td>\n",
       "      <td>1.014149</td>\n",
       "      <td>1.395604</td>\n",
       "    </tr>\n",
       "  </tbody>\n",
       "</table>\n",
       "</div>"
      ],
      "text/plain": [
       "       Service  Male  Yes  Designation  Resource Allocation  \\\n",
       "12945        1     1    0    -0.157524             0.000004   \n",
       "15280        1     0    1    -1.919495            -1.754695   \n",
       "7033         0     0    1    -0.157524             0.261390   \n",
       "1984         1     0    1    -1.038510            -0.746652   \n",
       "19832        0     0    1    -0.157524            -1.250673   \n",
       "\n",
       "       Mental Fatigue Score  Year     month       day  \n",
       "12945              1.779359   0.0 -0.148443 -0.656944  \n",
       "15280             -1.499843   0.0  1.014149  1.623665  \n",
       "7033               0.085104   0.0 -0.729738  0.369330  \n",
       "1984              -1.499843   0.0  1.014149  1.623665  \n",
       "19832             -0.789350   0.0  1.014149  1.395604  "
      ]
     },
     "execution_count": 62,
     "metadata": {},
     "output_type": "execute_result"
    }
   ],
   "source": [
    "x_train.head()"
   ]
  },
  {
   "cell_type": "code",
   "execution_count": 63,
   "id": "d4ac5aba",
   "metadata": {},
   "outputs": [],
   "source": [
    "# Create an instance of your custom gradient descent model\n",
    "custom_model = CustomGradientDescentWrapper(learning_rate=0.01, n_iterations=1000, alpha=0.01)"
   ]
  },
  {
   "cell_type": "code",
   "execution_count": 64,
   "id": "7abd96d9",
   "metadata": {},
   "outputs": [],
   "source": [
    "# Create RFE with your custom regression model\n",
    "n_features_to_select = 5  # Number of features to select\n",
    "rfe = RFE(estimator=custom_model, n_features_to_select=n_features_to_select)\n"
   ]
  },
  {
   "cell_type": "code",
   "execution_count": 65,
   "id": "943a641c",
   "metadata": {},
   "outputs": [
    {
     "data": {
      "text/plain": [
       "RFE(estimator=CustomGradientDescentWrapper(alpha=0.01), n_features_to_select=5)"
      ]
     },
     "execution_count": 65,
     "metadata": {},
     "output_type": "execute_result"
    }
   ],
   "source": [
    "# Fit RFE on the training data\n",
    "rfe.fit(x_train, y_train)"
   ]
  },
  {
   "cell_type": "code",
   "execution_count": 66,
   "id": "b321f45e",
   "metadata": {},
   "outputs": [],
   "source": [
    "# Transform the training and test sets to include only selected features\n",
    "X_train_selected = rfe.transform(x_train)\n",
    "X_test_selected = rfe.transform(x_test)"
   ]
  },
  {
   "cell_type": "code",
   "execution_count": 67,
   "id": "eca3ee98",
   "metadata": {},
   "outputs": [
    {
     "data": {
      "text/plain": [
       "CustomGradientDescentWrapper(alpha=0.01)"
      ]
     },
     "execution_count": 67,
     "metadata": {},
     "output_type": "execute_result"
    }
   ],
   "source": [
    "# Train your model on the selected features\n",
    "custom_model.fit(X_train_selected, y_train)"
   ]
  },
  {
   "cell_type": "code",
   "execution_count": 68,
   "id": "bc4a0d0c",
   "metadata": {},
   "outputs": [],
   "source": [
    "# Evaluate the model on the test set\n",
    "y_pred = custom_model.predict(X_test_selected)"
   ]
  },
  {
   "cell_type": "code",
   "execution_count": 70,
   "id": "24d340cc",
   "metadata": {
    "scrolled": true
   },
   "outputs": [
    {
     "data": {
      "text/plain": [
       "array([[0.7288352 ],\n",
       "       [0.30443005],\n",
       "       [0.08631288],\n",
       "       ...,\n",
       "       [0.31357217],\n",
       "       [0.8036933 ],\n",
       "       [0.61250639]])"
      ]
     },
     "execution_count": 70,
     "metadata": {},
     "output_type": "execute_result"
    }
   ],
   "source": [
    "y_pred"
   ]
  },
  {
   "cell_type": "code",
   "execution_count": 71,
   "id": "fe3c7d51",
   "metadata": {},
   "outputs": [
    {
     "data": {
      "text/plain": [
       "0.006358141696389785"
      ]
     },
     "execution_count": 71,
     "metadata": {},
     "output_type": "execute_result"
    }
   ],
   "source": [
    "mean_squared_error(y_test, y_pred)"
   ]
  },
  {
   "cell_type": "code",
   "execution_count": 369,
   "id": "9521d7ff",
   "metadata": {},
   "outputs": [
    {
     "name": "stdout",
     "output_type": "stream",
     "text": [
      "Selected Features: [0 1 4 5 6]\n"
     ]
    }
   ],
   "source": [
    "# Display the selected features\n",
    "selected_features = np.where(rfe.support_)[0]\n",
    "print(\"Selected Features:\", selected_features)"
   ]
  },
  {
   "cell_type": "code",
   "execution_count": 72,
   "id": "06fe7e8d",
   "metadata": {
    "scrolled": true
   },
   "outputs": [
    {
     "data": {
      "text/plain": [
       "0.8301505177258481"
      ]
     },
     "execution_count": 72,
     "metadata": {},
     "output_type": "execute_result"
    }
   ],
   "source": [
    "r2_score(y_test, y_pred)"
   ]
  },
  {
   "cell_type": "markdown",
   "id": "8fdfb10d",
   "metadata": {},
   "source": [
    "### SGD"
   ]
  },
  {
   "cell_type": "code",
   "execution_count": 73,
   "id": "91f62aaf",
   "metadata": {},
   "outputs": [
    {
     "data": {
      "text/plain": [
       "CustomGradientDescentWrapper(alpha=0.01)"
      ]
     },
     "execution_count": 73,
     "metadata": {},
     "output_type": "execute_result"
    }
   ],
   "source": [
    "# Train your model with SGD on the selected features\n",
    "custom_model.stochastic_GD(X_train_selected, y_train, n_iter=1000, alpha=0.01)\n"
   ]
  },
  {
   "cell_type": "code",
   "execution_count": 74,
   "id": "0553b442",
   "metadata": {},
   "outputs": [],
   "source": [
    "y_pred_sgd = custom_model.predict(X_test_selected)"
   ]
  },
  {
   "cell_type": "code",
   "execution_count": 75,
   "id": "39c7dcac",
   "metadata": {},
   "outputs": [
    {
     "data": {
      "text/plain": [
       "0.006579238004438126"
      ]
     },
     "execution_count": 75,
     "metadata": {},
     "output_type": "execute_result"
    }
   ],
   "source": [
    "mean_squared_error(y_test, y_pred_sgd)"
   ]
  },
  {
   "cell_type": "code",
   "execution_count": 76,
   "id": "77831a59",
   "metadata": {},
   "outputs": [
    {
     "data": {
      "text/plain": [
       "0.8242442175444509"
      ]
     },
     "execution_count": 76,
     "metadata": {},
     "output_type": "execute_result"
    }
   ],
   "source": [
    "r2_score(y_test, y_pred_sgd)"
   ]
  }
 ],
 "metadata": {
  "kernelspec": {
   "display_name": "Python 3 (ipykernel)",
   "language": "python",
   "name": "python3"
  },
  "language_info": {
   "codemirror_mode": {
    "name": "ipython",
    "version": 3
   },
   "file_extension": ".py",
   "mimetype": "text/x-python",
   "name": "python",
   "nbconvert_exporter": "python",
   "pygments_lexer": "ipython3",
   "version": "3.9.7"
  }
 },
 "nbformat": 4,
 "nbformat_minor": 5
}
