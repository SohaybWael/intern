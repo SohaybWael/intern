{
  "cells": [
    {
      "cell_type": "markdown",
      "metadata": {
        "id": "FgvSHvDl-WFy"
      },
      "source": [
        "#the link of data\n",
        "https://www.kaggle.com/datasets/khoongweihao/covid19-xray-dataset-train-test-sets/data"
      ]
    },
    {
      "cell_type": "markdown",
      "metadata": {
        "id": "5UM27590HMrs"
      },
      "source": [
        "# Import the libraries"
      ]
    },
    {
      "cell_type": "code",
      "execution_count": null,
      "metadata": {
        "id": "Y75yt8047H4I"
      },
      "outputs": [],
      "source": [
        "#import the important libraries\n",
        "import tensorflow as tf\n",
        "from tensorflow import keras\n",
        "from keras import Sequential\n",
        "from keras.layers import Dense,Conv2D,MaxPooling2D,Flatten,BatchNormalization,Dropout\n",
        "import numpy as np\n",
        "import pandas as pd\n",
        "import matplotlib.pyplot as plt\n",
        "import seaborn as sns\n",
        "import os\n",
        "import PIL\n",
        "import cv2\n",
        "import tensorflow as tf\n",
        "from tensorflow.keras.preprocessing.image import ImageDataGenerator\n",
        "from tensorflow.keras.callbacks import EarlyStopping,ReduceLROnPlateau\n",
        "from tensorflow.keras.models import Sequential\n",
        "from tensorflow.keras.layers import Dense,Flatten,MaxPooling2D,Conv2D,Dropout,Activation,BatchNormalization\n",
        "from tensorflow.keras.preprocessing import image\n",
        "from sklearn.metrics import classification_report,confusion_matrix\n",
        "os.environ['TF_CPP_MIN_LOG_LEVEL'] = '3'\n",
        "import warnings\n",
        "warnings.filterwarnings('ignore')\n",
        "import zipfile\n",
        "import matplotlib.pyplot as plt\n",
        "import numpy as np"
      ]
    },
    {
      "cell_type": "markdown",
      "metadata": {
        "id": "pRx1o9n9TXLo"
      },
      "source": [
        "\n",
        "#Load the data from kaggel"
      ]
    },
    {
      "cell_type": "code",
      "execution_count": null,
      "metadata": {
        "id": "oUvJjCT6QTvi"
      },
      "outputs": [],
      "source": [
        "!mkdir -p ~/.kaggle\n",
        "!cp kaggle.json ~/.kaggle/"
      ]
    },
    {
      "cell_type": "code",
      "execution_count": null,
      "metadata": {
        "colab": {
          "base_uri": "https://localhost:8080/"
        },
        "id": "UTa541eHTe4b",
        "outputId": "b7aa1a26-ce9b-4086-b8f7-581fb8eafd24"
      },
      "outputs": [
        {
          "output_type": "stream",
          "name": "stdout",
          "text": [
            "Warning: Your Kaggle API key is readable by other users on this system! To fix this, you can run 'chmod 600 /root/.kaggle/kaggle.json'\n",
            "Downloading covid19-xray-dataset-train-test-sets.zip to /content\n",
            " 95% 80.0M/84.3M [00:00<00:00, 187MB/s]\n",
            "100% 84.3M/84.3M [00:00<00:00, 159MB/s]\n"
          ]
        }
      ],
      "source": [
        "!kaggle datasets download -d khoongweihao/covid19-xray-dataset-train-test-sets"
      ]
    },
    {
      "cell_type": "code",
      "execution_count": null,
      "metadata": {
        "id": "L2_sB6my7Hyd"
      },
      "outputs": [],
      "source": [
        "#extract the zip fill of data\n",
        "zip_ref = zipfile.ZipFile('/content/covid19-xray-dataset-train-test-sets.zip', 'r')\n",
        "zip_ref.extractall('/content')\n",
        "zip_ref.close()"
      ]
    },
    {
      "cell_type": "markdown",
      "metadata": {
        "id": "BhRYPEwXHedL"
      },
      "source": [
        "# creat the data to train and validation sets"
      ]
    },
    {
      "cell_type": "code",
      "execution_count": null,
      "metadata": {
        "colab": {
          "base_uri": "https://localhost:8080/"
        },
        "id": "XRsp6k4U7H7x",
        "outputId": "85a4dcfa-1c9c-415f-f073-60b3cb6384be"
      },
      "outputs": [
        {
          "output_type": "stream",
          "name": "stdout",
          "text": [
            "Found 148 files belonging to 2 classes.\n",
            "Found 40 files belonging to 2 classes.\n"
          ]
        }
      ],
      "source": [
        "train = keras.utils.image_dataset_from_directory(\n",
        "    directory = '/content/xray_dataset_covid19/train',\n",
        "    labels='inferred',\n",
        "    label_mode = 'int',\n",
        "    batch_size=148,\n",
        "    image_size=(256,256)\n",
        ")\n",
        "\n",
        "validation = keras.utils.image_dataset_from_directory(\n",
        "    directory = '/content/xray_dataset_covid19/test',\n",
        "    labels='inferred',\n",
        "    label_mode = 'int',\n",
        "    batch_size=40,\n",
        "    image_size=(256,256)\n",
        ")"
      ]
    },
    {
      "cell_type": "code",
      "execution_count": null,
      "metadata": {
        "colab": {
          "base_uri": "https://localhost:8080/"
        },
        "id": "I017f8GSsdLi",
        "outputId": "f97dd2bc-6d5a-4384-9e63-56c100d12673"
      },
      "outputs": [
        {
          "output_type": "stream",
          "name": "stdout",
          "text": [
            "Input shape for the model: (256, 256, 3)\n"
          ]
        }
      ],
      "source": [
        "import tensorflow as tf\n",
        "\n",
        "# Load a batch of images from the training dataset\n",
        "for images, labels in train:\n",
        "    input_shape = images.shape[1:]  # Exclude batch size dimension\n",
        "    break\n",
        "\n",
        "print(\"Input shape for the model:\", input_shape)\n"
      ]
    },
    {
      "cell_type": "code",
      "execution_count": null,
      "metadata": {
        "colab": {
          "base_uri": "https://localhost:8080/"
        },
        "id": "UyXx2GFmQbc8",
        "outputId": "221625d9-5817-4b98-9cb2-0de8ee213de8"
      },
      "outputs": [
        {
          "output_type": "execute_result",
          "data": {
            "text/plain": [
              "['PNEUMONIA', 'NORMAL']"
            ]
          },
          "metadata": {},
          "execution_count": 11
        }
      ],
      "source": [
        "#show the class inside the sets\n",
        "train_dir = ('/content/xray_dataset_covid19/train')\n",
        "validation_dir = ('/content/xray_dataset_covid19/test')\n",
        "classes_train =os.listdir(train_dir)\n",
        "classes_val =os.listdir(validation_dir)\n",
        "classes_train\n",
        "classes_val"
      ]
    },
    {
      "cell_type": "markdown",
      "metadata": {
        "id": "Zy8ZJywgPIvE"
      },
      "source": [
        "# Data augmentation and preprocessing"
      ]
    },
    {
      "cell_type": "code",
      "execution_count": null,
      "metadata": {
        "colab": {
          "base_uri": "https://localhost:8080/"
        },
        "id": "KdPg6G2XINqr",
        "outputId": "d0748db5-5494-4780-ea74-17688bbbfb21"
      },
      "outputs": [
        {
          "output_type": "stream",
          "name": "stdout",
          "text": [
            "Found 148 images belonging to 2 classes.\n",
            "Found 40 images belonging to 2 classes.\n"
          ]
        }
      ],
      "source": [
        "# Data augmentation parameters\n",
        "train_datagen = ImageDataGenerator(\n",
        "    rotation_range=40,\n",
        "    shear_range=0.2,\n",
        "    zoom_range=0.2,\n",
        "    rescale=1./255,\n",
        "    width_shift_range=0.2,\n",
        "    height_shift_range=0.12,\n",
        "    fill_mode='constant',cval=125,\n",
        "    brightness_range=[0.7, 1.3])\n",
        "\n",
        "\n",
        "\n",
        "train_generator=train_datagen.flow_from_directory(\n",
        "    train_dir,\n",
        "    class_mode='binary',\n",
        "    color_mode='rgb',\n",
        "    batch_size= 148,\n",
        "    target_size=(256, 256)\n",
        ")\n",
        "\n",
        "val_datagen = ImageDataGenerator(\n",
        "    rotation_range=40,\n",
        "    shear_range=0.2,\n",
        "    zoom_range=0.2,\n",
        "    rescale=1./255,\n",
        "    width_shift_range=0.2,\n",
        "    height_shift_range=0.12,\n",
        "    fill_mode='constant',cval=125,\n",
        "    brightness_range=[0.7, 1.3])\n",
        "\n",
        "\n",
        "val_generator=val_datagen.flow_from_directory(\n",
        "    validation_dir,\n",
        "    class_mode='binary',\n",
        "    color_mode='rgb',\n",
        "    batch_size=40,\n",
        "    target_size=(256, 256)\n",
        ")\n",
        "\n",
        "# val_generator=ImageDataGenerator(rescale=1./255)"
      ]
    },
    {
      "cell_type": "code",
      "source": [
        "#ensure from the imbalanced data\n",
        "class_weights = {}\n",
        "total_samples = train_generator.samples\n",
        "num_classes = len(train_generator.class_indices)\n",
        "class_counts = np.bincount(train_generator.classes)\n",
        "for i in range(num_classes):\n",
        "    class_weights[i] = total_samples / (num_classes * class_counts[i])\n",
        "\n",
        "print(class_counts)"
      ],
      "metadata": {
        "colab": {
          "base_uri": "https://localhost:8080/"
        },
        "id": "AFoPNsxVehgQ",
        "outputId": "8eb6137d-c624-45d0-bbad-469069285253"
      },
      "execution_count": null,
      "outputs": [
        {
          "output_type": "stream",
          "name": "stdout",
          "text": [
            "[74 74]\n"
          ]
        }
      ]
    },
    {
      "cell_type": "markdown",
      "metadata": {
        "id": "Ai2x40PEUQxT"
      },
      "source": [
        "# CNN Model"
      ]
    },
    {
      "cell_type": "code",
      "source": [
        "tf.random.set_seed(42)\n",
        "import tensorflow as tf\n",
        "from tensorflow.keras.models import Sequential\n",
        "from tensorflow.keras.layers import Conv2D, MaxPooling2D, Flatten, Dense, Dropout\n",
        "\n",
        "# build the model\n",
        "model=Sequential()\n",
        "\n",
        "model.add(Conv2D(32,(2,2),activation='relu',input_shape=(256,256,3)))\n",
        "model.add(MaxPooling2D(2,2))\n",
        "\n",
        "model.add(Conv2D(64,(3,3),activation='relu'))\n",
        "model.add(MaxPooling2D(3,3))\n",
        "\n",
        "model.add(Flatten())\n",
        "model.add(Dropout(0.3))\n",
        "model.add(Dense(64,activation='relu'))\n",
        "\n",
        "model.add(Dropout(0.4))\n",
        "model.add(Dense(1,activation='sigmoid'))\n",
        "\n",
        "#compile the model\n",
        "model.compile(optimizer='adam' ,loss='binary_crossentropy',metrics=['accuracy'])\n",
        "\n",
        "\n",
        "# Display model summary\n",
        "model.summary()\n",
        "\n",
        "#fit the model\n",
        "history=model.fit_generator(\n",
        "    train_generator,\n",
        "    epochs=30,\n",
        "    validation_data=val_generator,\n",
        "    verbose=1,\n",
        "    shuffle=False\n",
        "\n",
        ")\n",
        "\n",
        "#plot the accurcy\n",
        "losses = pd.DataFrame(model.history.history)\n",
        "losses[['accuracy','val_accuracy']].plot()\n",
        "losses[['loss','val_loss']].plot()"
      ],
      "metadata": {
        "colab": {
          "base_uri": "https://localhost:8080/",
          "height": 1000
        },
        "id": "qk-gv02WR5Ni",
        "outputId": "7c7b1148-2efb-48f3-8f93-a8fe892f030d"
      },
      "execution_count": null,
      "outputs": [
        {
          "output_type": "stream",
          "name": "stdout",
          "text": [
            "Model: \"sequential\"\n",
            "_________________________________________________________________\n",
            " Layer (type)                Output Shape              Param #   \n",
            "=================================================================\n",
            " conv2d (Conv2D)             (None, 255, 255, 32)      416       \n",
            "                                                                 \n",
            " max_pooling2d (MaxPooling2  (None, 127, 127, 32)      0         \n",
            " D)                                                              \n",
            "                                                                 \n",
            " conv2d_1 (Conv2D)           (None, 125, 125, 64)      18496     \n",
            "                                                                 \n",
            " max_pooling2d_1 (MaxPoolin  (None, 41, 41, 64)        0         \n",
            " g2D)                                                            \n",
            "                                                                 \n",
            " flatten (Flatten)           (None, 107584)            0         \n",
            "                                                                 \n",
            " dropout (Dropout)           (None, 107584)            0         \n",
            "                                                                 \n",
            " dense (Dense)               (None, 64)                6885440   \n",
            "                                                                 \n",
            " dropout_1 (Dropout)         (None, 64)                0         \n",
            "                                                                 \n",
            " dense_1 (Dense)             (None, 1)                 65        \n",
            "                                                                 \n",
            "=================================================================\n",
            "Total params: 6904417 (26.34 MB)\n",
            "Trainable params: 6904417 (26.34 MB)\n",
            "Non-trainable params: 0 (0.00 Byte)\n",
            "_________________________________________________________________\n",
            "Epoch 1/30\n",
            "1/1 [==============================] - 26s 26s/step - loss: 0.6994 - accuracy: 0.4662 - val_loss: 0.5450 - val_accuracy: 0.8250\n",
            "Epoch 2/30\n",
            "1/1 [==============================] - 21s 21s/step - loss: 1.3475 - accuracy: 0.4865 - val_loss: 2.7349 - val_accuracy: 0.5000\n",
            "Epoch 3/30\n",
            "1/1 [==============================] - 22s 22s/step - loss: 2.7585 - accuracy: 0.5000 - val_loss: 2.1849 - val_accuracy: 0.5000\n",
            "Epoch 4/30\n",
            "1/1 [==============================] - 23s 23s/step - loss: 2.0248 - accuracy: 0.5000 - val_loss: 1.3103 - val_accuracy: 0.5000\n",
            "Epoch 5/30\n",
            "1/1 [==============================] - 22s 22s/step - loss: 1.3068 - accuracy: 0.5203 - val_loss: 0.5091 - val_accuracy: 0.8500\n",
            "Epoch 6/30\n",
            "1/1 [==============================] - 24s 24s/step - loss: 0.6898 - accuracy: 0.6486 - val_loss: 0.6844 - val_accuracy: 0.5000\n",
            "Epoch 7/30\n",
            "1/1 [==============================] - 22s 22s/step - loss: 0.8532 - accuracy: 0.5338 - val_loss: 0.7369 - val_accuracy: 0.5000\n",
            "Epoch 8/30\n",
            "1/1 [==============================] - 23s 23s/step - loss: 0.8480 - accuracy: 0.5000 - val_loss: 0.5949 - val_accuracy: 0.5750\n",
            "Epoch 9/30\n",
            "1/1 [==============================] - 21s 21s/step - loss: 0.6990 - accuracy: 0.5473 - val_loss: 0.5229 - val_accuracy: 0.8500\n",
            "Epoch 10/30\n",
            "1/1 [==============================] - 21s 21s/step - loss: 0.5835 - accuracy: 0.7297 - val_loss: 0.5387 - val_accuracy: 0.7250\n",
            "Epoch 11/30\n",
            "1/1 [==============================] - 20s 20s/step - loss: 0.6068 - accuracy: 0.6824 - val_loss: 0.5783 - val_accuracy: 0.5250\n",
            "Epoch 12/30\n",
            "1/1 [==============================] - 22s 22s/step - loss: 0.6290 - accuracy: 0.5270 - val_loss: 0.5582 - val_accuracy: 0.5000\n",
            "Epoch 13/30\n",
            "1/1 [==============================] - 22s 22s/step - loss: 0.6052 - accuracy: 0.5608 - val_loss: 0.5403 - val_accuracy: 0.6250\n",
            "Epoch 14/30\n",
            "1/1 [==============================] - 22s 22s/step - loss: 0.5986 - accuracy: 0.6149 - val_loss: 0.5278 - val_accuracy: 0.7000\n",
            "Epoch 15/30\n",
            "1/1 [==============================] - 21s 21s/step - loss: 0.5808 - accuracy: 0.7432 - val_loss: 0.4459 - val_accuracy: 0.8500\n",
            "Epoch 16/30\n",
            "1/1 [==============================] - 21s 21s/step - loss: 0.5714 - accuracy: 0.7432 - val_loss: 0.3994 - val_accuracy: 0.9500\n",
            "Epoch 17/30\n",
            "1/1 [==============================] - 23s 23s/step - loss: 0.5381 - accuracy: 0.7703 - val_loss: 0.3696 - val_accuracy: 0.9250\n",
            "Epoch 18/30\n",
            "1/1 [==============================] - 21s 21s/step - loss: 0.5165 - accuracy: 0.7838 - val_loss: 0.3767 - val_accuracy: 0.9000\n",
            "Epoch 19/30\n",
            "1/1 [==============================] - 21s 21s/step - loss: 0.5110 - accuracy: 0.7635 - val_loss: 0.3140 - val_accuracy: 1.0000\n",
            "Epoch 20/30\n",
            "1/1 [==============================] - 20s 20s/step - loss: 0.4667 - accuracy: 0.8108 - val_loss: 0.3497 - val_accuracy: 0.8750\n",
            "Epoch 21/30\n",
            "1/1 [==============================] - 21s 21s/step - loss: 0.4631 - accuracy: 0.7973 - val_loss: 0.3434 - val_accuracy: 0.9000\n",
            "Epoch 22/30\n",
            "1/1 [==============================] - 20s 20s/step - loss: 0.4486 - accuracy: 0.8446 - val_loss: 0.3161 - val_accuracy: 0.9000\n",
            "Epoch 23/30\n",
            "1/1 [==============================] - 21s 21s/step - loss: 0.4250 - accuracy: 0.8649 - val_loss: 0.2204 - val_accuracy: 0.9750\n",
            "Epoch 24/30\n",
            "1/1 [==============================] - 21s 21s/step - loss: 0.4018 - accuracy: 0.8311 - val_loss: 0.2177 - val_accuracy: 0.9750\n",
            "Epoch 25/30\n",
            "1/1 [==============================] - 21s 21s/step - loss: 0.4037 - accuracy: 0.8311 - val_loss: 0.2131 - val_accuracy: 0.9750\n",
            "Epoch 26/30\n",
            "1/1 [==============================] - 24s 24s/step - loss: 0.3981 - accuracy: 0.7905 - val_loss: 0.2116 - val_accuracy: 0.9500\n",
            "Epoch 27/30\n",
            "1/1 [==============================] - 21s 21s/step - loss: 0.4157 - accuracy: 0.7905 - val_loss: 0.2561 - val_accuracy: 0.9250\n",
            "Epoch 28/30\n",
            "1/1 [==============================] - 21s 21s/step - loss: 0.3838 - accuracy: 0.8581 - val_loss: 0.2682 - val_accuracy: 0.8750\n",
            "Epoch 29/30\n",
            "1/1 [==============================] - 22s 22s/step - loss: 0.4080 - accuracy: 0.8243 - val_loss: 0.3112 - val_accuracy: 0.9250\n",
            "Epoch 30/30\n",
            "1/1 [==============================] - 21s 21s/step - loss: 0.3533 - accuracy: 0.8649 - val_loss: 0.2120 - val_accuracy: 0.9250\n"
          ]
        },
        {
          "output_type": "execute_result",
          "data": {
            "text/plain": [
              "<Axes: >"
            ]
          },
          "metadata": {},
          "execution_count": 10
        },
        {
          "output_type": "display_data",
          "data": {
            "text/plain": [
              "<Figure size 640x480 with 1 Axes>"
            ],
            "image/png": "[encoded data removed]"
          },
          "metadata": {}
        },
        {
          "output_type": "display_data",
          "data": {
            "text/plain": [
              "<Figure size 640x480 with 1 Axes>"
            ],
            "image/png": "[encoded data removed]"
          },
          "metadata": {}
        }
      ]
    }
  ],
  "metadata": {
    "accelerator": "GPU",
    "colab": {
      "gpuType": "T4",
      "provenance": []
    },
    "kernelspec": {
      "display_name": "Python 3",
      "name": "python3"
    },
    "language_info": {
      "name": "python"
    }
  },
  "nbformat": 4,
  "nbformat_minor": 0
}